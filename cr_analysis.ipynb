{
 "cells": [
  {
   "cell_type": "code",
   "execution_count": 1,
   "metadata": {},
   "outputs": [],
   "source": [
    "%matplotlib inline\n",
    "import matplotlib.pyplot as plt\n",
    "import numpy as np\n",
    "import pandas as pd\n",
    "import sklearn.metrics as mets\n",
    "import timeit\n",
    "from toolz import pipe as p\n",
    "\n",
    "import utils"
   ]
  },
  {
   "cell_type": "code",
   "execution_count": 2,
   "metadata": {},
   "outputs": [
    {
     "data": {
      "text/plain": [
       "<module 'utils' from 'C:\\\\Users\\\\jod204\\\\projects\\\\mesh-project\\\\utils.py'>"
      ]
     },
     "execution_count": 2,
     "metadata": {},
     "output_type": "execute_result"
    }
   ],
   "source": [
    "from importlib import reload\n",
    "reload(utils)"
   ]
  },
  {
   "cell_type": "code",
   "execution_count": 3,
   "metadata": {},
   "outputs": [],
   "source": [
    "cr_data = pd.read_csv('pubmed_cr_abstracts.csv')"
   ]
  },
  {
   "cell_type": "code",
   "execution_count": 4,
   "metadata": {},
   "outputs": [
    {
     "data": {
      "text/plain": [
       "(1293, 5)"
      ]
     },
     "execution_count": 4,
     "metadata": {},
     "output_type": "execute_result"
    }
   ],
   "source": [
    "cr_data.shape"
   ]
  },
  {
   "cell_type": "code",
   "execution_count": 5,
   "metadata": {},
   "outputs": [
    {
     "data": {
      "text/plain": [
       "598"
      ]
     },
     "execution_count": 5,
     "metadata": {},
     "output_type": "execute_result"
    }
   ],
   "source": [
    "sum(cr_data.label)"
   ]
  },
  {
   "cell_type": "code",
   "execution_count": 6,
   "metadata": {},
   "outputs": [
    {
     "data": {
      "text/plain": [
       "695"
      ]
     },
     "execution_count": 6,
     "metadata": {},
     "output_type": "execute_result"
    }
   ],
   "source": [
    "sum(1-cr_data.label)"
   ]
  },
  {
   "cell_type": "code",
   "execution_count": 7,
   "metadata": {},
   "outputs": [
    {
     "data": {
      "text/plain": [
       "Index(['pmid', 'yr', 'title', 'abstract', 'label'], dtype='object')"
      ]
     },
     "execution_count": 7,
     "metadata": {},
     "output_type": "execute_result"
    }
   ],
   "source": [
    "cr_data.columns"
   ]
  },
  {
   "cell_type": "markdown",
   "metadata": {},
   "source": [
    "Merge title and abstract"
   ]
  },
  {
   "cell_type": "code",
   "execution_count": 8,
   "metadata": {},
   "outputs": [
    {
     "data": {
      "text/plain": [
       "numpy.int64"
      ]
     },
     "execution_count": 8,
     "metadata": {},
     "output_type": "execute_result"
    }
   ],
   "source": [
    "type(cr_data.pmid[0])"
   ]
  },
  {
   "cell_type": "code",
   "execution_count": 9,
   "metadata": {},
   "outputs": [
    {
     "name": "stderr",
     "output_type": "stream",
     "text": [
      "C:\\ProgramData\\Anaconda3\\lib\\site-packages\\ipykernel_launcher.py:2: SettingWithCopyWarning: \n",
      "A value is trying to be set on a copy of a slice from a DataFrame.\n",
      "Try using .loc[row_indexer,col_indexer] = value instead\n",
      "\n",
      "See the caveats in the documentation: http://pandas.pydata.org/pandas-docs/stable/user_guide/indexing.html#returning-a-view-versus-a-copy\n",
      "  \n"
     ]
    }
   ],
   "source": [
    "project_data = cr_data[['pmid', 'label']]\n",
    "project_data['txt'] = cr_data.title + ' . ' + cr_data.abstract"
   ]
  },
  {
   "cell_type": "code",
   "execution_count": 10,
   "metadata": {},
   "outputs": [
    {
     "data": {
      "text/plain": [
       "(1293, 3)"
      ]
     },
     "execution_count": 10,
     "metadata": {},
     "output_type": "execute_result"
    }
   ],
   "source": [
    "project_data.shape"
   ]
  },
  {
   "cell_type": "code",
   "execution_count": 11,
   "metadata": {},
   "outputs": [
    {
     "data": {
      "text/html": [
       "<div>\n",
       "<style scoped>\n",
       "    .dataframe tbody tr th:only-of-type {\n",
       "        vertical-align: middle;\n",
       "    }\n",
       "\n",
       "    .dataframe tbody tr th {\n",
       "        vertical-align: top;\n",
       "    }\n",
       "\n",
       "    .dataframe thead th {\n",
       "        text-align: right;\n",
       "    }\n",
       "</style>\n",
       "<table border=\"1\" class=\"dataframe\">\n",
       "  <thead>\n",
       "    <tr style=\"text-align: right;\">\n",
       "      <th></th>\n",
       "      <th>pmid</th>\n",
       "      <th>label</th>\n",
       "      <th>txt</th>\n",
       "    </tr>\n",
       "  </thead>\n",
       "  <tbody>\n",
       "    <tr>\n",
       "      <th>0</th>\n",
       "      <td>21218043</td>\n",
       "      <td>1</td>\n",
       "      <td>Acute liver failure associated with occupation...</td>\n",
       "    </tr>\n",
       "    <tr>\n",
       "      <th>1</th>\n",
       "      <td>26000001</td>\n",
       "      <td>0</td>\n",
       "      <td>A successful pregnancy during the treatment of...</td>\n",
       "    </tr>\n",
       "    <tr>\n",
       "      <th>2</th>\n",
       "      <td>23792523</td>\n",
       "      <td>1</td>\n",
       "      <td>AST 17600 U/l after liver transplantation, wha...</td>\n",
       "    </tr>\n",
       "    <tr>\n",
       "      <th>3</th>\n",
       "      <td>25034585</td>\n",
       "      <td>0</td>\n",
       "      <td>[Pulmonary benign metastasizing leiomyoma: a c...</td>\n",
       "    </tr>\n",
       "    <tr>\n",
       "      <th>4</th>\n",
       "      <td>25026126</td>\n",
       "      <td>0</td>\n",
       "      <td>Two novel mutations in acid a-glucosidase gene...</td>\n",
       "    </tr>\n",
       "  </tbody>\n",
       "</table>\n",
       "</div>"
      ],
      "text/plain": [
       "       pmid  label                                                txt\n",
       "0  21218043      1  Acute liver failure associated with occupation...\n",
       "1  26000001      0  A successful pregnancy during the treatment of...\n",
       "2  23792523      1  AST 17600 U/l after liver transplantation, wha...\n",
       "3  25034585      0  [Pulmonary benign metastasizing leiomyoma: a c...\n",
       "4  25026126      0  Two novel mutations in acid a-glucosidase gene..."
      ]
     },
     "execution_count": 11,
     "metadata": {},
     "output_type": "execute_result"
    }
   ],
   "source": [
    "project_data.head()\n"
   ]
  },
  {
   "cell_type": "code",
   "execution_count": 12,
   "metadata": {},
   "outputs": [
    {
     "data": {
      "text/plain": [
       "1076"
      ]
     },
     "execution_count": 12,
     "metadata": {},
     "output_type": "execute_result"
    }
   ],
   "source": [
    "len(project_data.loc[0, 'txt'])"
   ]
  },
  {
   "cell_type": "code",
   "execution_count": 13,
   "metadata": {},
   "outputs": [
    {
     "data": {
      "text/plain": [
       "1076"
      ]
     },
     "execution_count": 13,
     "metadata": {},
     "output_type": "execute_result"
    }
   ],
   "source": [
    "len(project_data.txt[0])"
   ]
  },
  {
   "cell_type": "code",
   "execution_count": 14,
   "metadata": {},
   "outputs": [
    {
     "name": "stdout",
     "output_type": "stream",
     "text": [
      "81\n",
      "992\n"
     ]
    }
   ],
   "source": [
    "cr_data.head()\n",
    "print(len(cr_data.loc[0, 'title']))\n",
    "print(len(cr_data.loc[0, 'abstract']))"
   ]
  },
  {
   "cell_type": "markdown",
   "metadata": {},
   "source": [
    "## Clean Data"
   ]
  },
  {
   "cell_type": "code",
   "execution_count": 15,
   "metadata": {},
   "outputs": [],
   "source": [
    "clean_data = project_data.dropna()"
   ]
  },
  {
   "cell_type": "code",
   "execution_count": 16,
   "metadata": {},
   "outputs": [
    {
     "data": {
      "text/plain": [
       "False"
      ]
     },
     "execution_count": 16,
     "metadata": {},
     "output_type": "execute_result"
    }
   ],
   "source": [
    "58 in clean_data.index"
   ]
  },
  {
   "cell_type": "code",
   "execution_count": 17,
   "metadata": {
    "scrolled": true
   },
   "outputs": [
    {
     "name": "stderr",
     "output_type": "stream",
     "text": [
      "C:\\ProgramData\\Anaconda3\\lib\\site-packages\\pandas\\core\\generic.py:5208: SettingWithCopyWarning: \n",
      "A value is trying to be set on a copy of a slice from a DataFrame.\n",
      "Try using .loc[row_indexer,col_indexer] = value instead\n",
      "\n",
      "See the caveats in the documentation: http://pandas.pydata.org/pandas-docs/stable/user_guide/indexing.html#returning-a-view-versus-a-copy\n",
      "  self[name] = value\n"
     ]
    }
   ],
   "source": [
    "#for i in clean_data.index:\n",
    "#    txt = clean_data.txt[i]\n",
    "#    try:\n",
    "#        utils.cleanTxt(txt)\n",
    "#    except:\n",
    "#        import pdb\n",
    "#        pdb.set_trace()\n",
    "\n",
    "clean_data.txt = [utils.cleanTxt(txt) for txt in clean_data.txt]"
   ]
  },
  {
   "cell_type": "code",
   "execution_count": 18,
   "metadata": {},
   "outputs": [
    {
     "data": {
      "text/plain": [
       "(1289, 3)"
      ]
     },
     "execution_count": 18,
     "metadata": {},
     "output_type": "execute_result"
    }
   ],
   "source": [
    "clean_data.shape"
   ]
  },
  {
   "cell_type": "markdown",
   "metadata": {},
   "source": [
    "Traditional machine learning without </s\\>"
   ]
  },
  {
   "cell_type": "code",
   "execution_count": 20,
   "metadata": {},
   "outputs": [],
   "source": [
    "clean_data_tr = clean_data.copy()\n",
    "clean_data_tr.txt = [txt.replace('</s>', '') for txt in clean_data_tr.txt]"
   ]
  },
  {
   "cell_type": "code",
   "execution_count": 21,
   "metadata": {
    "scrolled": true
   },
   "outputs": [
    {
     "data": {
      "text/html": [
       "<div>\n",
       "<style scoped>\n",
       "    .dataframe tbody tr th:only-of-type {\n",
       "        vertical-align: middle;\n",
       "    }\n",
       "\n",
       "    .dataframe tbody tr th {\n",
       "        vertical-align: top;\n",
       "    }\n",
       "\n",
       "    .dataframe thead th {\n",
       "        text-align: right;\n",
       "    }\n",
       "</style>\n",
       "<table border=\"1\" class=\"dataframe\">\n",
       "  <thead>\n",
       "    <tr style=\"text-align: right;\">\n",
       "      <th></th>\n",
       "      <th>pmid</th>\n",
       "      <th>txt</th>\n",
       "    </tr>\n",
       "    <tr>\n",
       "      <th>label</th>\n",
       "      <th></th>\n",
       "      <th></th>\n",
       "    </tr>\n",
       "  </thead>\n",
       "  <tbody>\n",
       "    <tr>\n",
       "      <th>0</th>\n",
       "      <td>692</td>\n",
       "      <td>692</td>\n",
       "    </tr>\n",
       "    <tr>\n",
       "      <th>1</th>\n",
       "      <td>597</td>\n",
       "      <td>597</td>\n",
       "    </tr>\n",
       "  </tbody>\n",
       "</table>\n",
       "</div>"
      ],
      "text/plain": [
       "       pmid  txt\n",
       "label           \n",
       "0       692  692\n",
       "1       597  597"
      ]
     },
     "execution_count": 21,
     "metadata": {},
     "output_type": "execute_result"
    }
   ],
   "source": [
    "clean_data_tr.groupby('label').count()"
   ]
  },
  {
   "cell_type": "markdown",
   "metadata": {},
   "source": [
    "## Tokenize Text"
   ]
  },
  {
   "cell_type": "code",
   "execution_count": 22,
   "metadata": {},
   "outputs": [
    {
     "name": "stderr",
     "output_type": "stream",
     "text": [
      "Using TensorFlow backend.\n",
      "C:\\ProgramData\\Anaconda3\\lib\\site-packages\\tensorflow\\python\\framework\\dtypes.py:526: FutureWarning: Passing (type, 1) or '1type' as a synonym of type is deprecated; in a future version of numpy, it will be understood as (type, (1,)) / '(1,)type'.\n",
      "  _np_qint8 = np.dtype([(\"qint8\", np.int8, 1)])\n",
      "C:\\ProgramData\\Anaconda3\\lib\\site-packages\\tensorflow\\python\\framework\\dtypes.py:527: FutureWarning: Passing (type, 1) or '1type' as a synonym of type is deprecated; in a future version of numpy, it will be understood as (type, (1,)) / '(1,)type'.\n",
      "  _np_quint8 = np.dtype([(\"quint8\", np.uint8, 1)])\n",
      "C:\\ProgramData\\Anaconda3\\lib\\site-packages\\tensorflow\\python\\framework\\dtypes.py:528: FutureWarning: Passing (type, 1) or '1type' as a synonym of type is deprecated; in a future version of numpy, it will be understood as (type, (1,)) / '(1,)type'.\n",
      "  _np_qint16 = np.dtype([(\"qint16\", np.int16, 1)])\n",
      "C:\\ProgramData\\Anaconda3\\lib\\site-packages\\tensorflow\\python\\framework\\dtypes.py:529: FutureWarning: Passing (type, 1) or '1type' as a synonym of type is deprecated; in a future version of numpy, it will be understood as (type, (1,)) / '(1,)type'.\n",
      "  _np_quint16 = np.dtype([(\"quint16\", np.uint16, 1)])\n",
      "C:\\ProgramData\\Anaconda3\\lib\\site-packages\\tensorflow\\python\\framework\\dtypes.py:530: FutureWarning: Passing (type, 1) or '1type' as a synonym of type is deprecated; in a future version of numpy, it will be understood as (type, (1,)) / '(1,)type'.\n",
      "  _np_qint32 = np.dtype([(\"qint32\", np.int32, 1)])\n",
      "C:\\ProgramData\\Anaconda3\\lib\\site-packages\\tensorflow\\python\\framework\\dtypes.py:535: FutureWarning: Passing (type, 1) or '1type' as a synonym of type is deprecated; in a future version of numpy, it will be understood as (type, (1,)) / '(1,)type'.\n",
      "  np_resource = np.dtype([(\"resource\", np.ubyte, 1)])\n"
     ]
    }
   ],
   "source": [
    "import keras"
   ]
  },
  {
   "cell_type": "markdown",
   "metadata": {},
   "source": [
    "__Check using GPU__"
   ]
  },
  {
   "cell_type": "code",
   "execution_count": 23,
   "metadata": {
    "scrolled": true
   },
   "outputs": [
    {
     "name": "stdout",
     "output_type": "stream",
     "text": [
      "[name: \"/device:CPU:0\"\n",
      "device_type: \"CPU\"\n",
      "memory_limit: 268435456\n",
      "locality {\n",
      "}\n",
      "incarnation: 16245303020273922701\n",
      ", name: \"/device:GPU:0\"\n",
      "device_type: \"GPU\"\n",
      "memory_limit: 9121682555\n",
      "locality {\n",
      "  bus_id: 1\n",
      "  links {\n",
      "  }\n",
      "}\n",
      "incarnation: 15554293310626732897\n",
      "physical_device_desc: \"device: 0, name: GeForce RTX 2080 Ti, pci bus id: 0000:17:00.0, compute capability: 7.5\"\n",
      ", name: \"/device:GPU:1\"\n",
      "device_type: \"GPU\"\n",
      "memory_limit: 9120835829\n",
      "locality {\n",
      "  bus_id: 1\n",
      "  links {\n",
      "  }\n",
      "}\n",
      "incarnation: 10529958355437156641\n",
      "physical_device_desc: \"device: 1, name: GeForce RTX 2080 Ti, pci bus id: 0000:b3:00.0, compute capability: 7.5\"\n",
      "]\n"
     ]
    }
   ],
   "source": [
    "from tensorflow.python.client import device_lib\n",
    "print(device_lib.list_local_devices())"
   ]
  },
  {
   "cell_type": "markdown",
   "metadata": {},
   "source": [
    "GPU shown"
   ]
  },
  {
   "cell_type": "code",
   "execution_count": 24,
   "metadata": {},
   "outputs": [],
   "source": [
    "max_vocab = 20000\n",
    "tokenizer = keras.preprocessing.text.Tokenizer(num_words = max_vocab, filters = \"\")"
   ]
  },
  {
   "cell_type": "code",
   "execution_count": 25,
   "metadata": {},
   "outputs": [],
   "source": [
    "tokenizer.fit_on_texts(clean_data.txt)"
   ]
  },
  {
   "cell_type": "code",
   "execution_count": 26,
   "metadata": {},
   "outputs": [],
   "source": [
    "word_index = tokenizer.word_index\n",
    "vocab_size = len(word_index)"
   ]
  },
  {
   "cell_type": "code",
   "execution_count": 27,
   "metadata": {},
   "outputs": [
    {
     "data": {
      "text/plain": [
       "13853"
      ]
     },
     "execution_count": 27,
     "metadata": {},
     "output_type": "execute_result"
    }
   ],
   "source": [
    "vocab_size"
   ]
  },
  {
   "cell_type": "markdown",
   "metadata": {},
   "source": [
    "Get document word counts"
   ]
  },
  {
   "cell_type": "code",
   "execution_count": 28,
   "metadata": {},
   "outputs": [
    {
     "name": "stdout",
     "output_type": "stream",
     "text": [
      "(33, 561)\n",
      "159.0\n"
     ]
    }
   ],
   "source": [
    "data_explore = clean_data_tr.copy()\n",
    "\n",
    "# let's convert the sentences to sequences using the tokenizer\n",
    "data_seq = tokenizer.texts_to_sequences(clean_data.txt)\n",
    "word_counts = [len(sq) for sq in data_seq]\n",
    "\n",
    "# add field to data frame:\n",
    "data_explore['WordCnt'] = word_counts\n",
    "\n",
    "# use user friendly labels for plotting\n",
    "#levels(data_explore$label) <- c(\"CTL\", \"CIR\")\n",
    "\n",
    "# what's our word count range and median?\n",
    "minmax = lambda arr: (np.min(arr), np.max(arr))\n",
    "\n",
    "print(minmax(word_counts))\n",
    "print(np.median(word_counts))"
   ]
  },
  {
   "cell_type": "markdown",
   "metadata": {},
   "source": [
    "Close to R output of (32, 157) and 158."
   ]
  },
  {
   "cell_type": "code",
   "execution_count": 29,
   "metadata": {},
   "outputs": [
    {
     "name": "stdout",
     "output_type": "stream",
     "text": [
      "total words in corpus: 220107\n"
     ]
    }
   ],
   "source": [
    "print(\"total words in corpus: \" + str(sum(word_counts)))"
   ]
  },
  {
   "cell_type": "code",
   "execution_count": 30,
   "metadata": {},
   "outputs": [
    {
     "data": {
      "text/html": [
       "<div>\n",
       "<style scoped>\n",
       "    .dataframe tbody tr th:only-of-type {\n",
       "        vertical-align: middle;\n",
       "    }\n",
       "\n",
       "    .dataframe tbody tr th {\n",
       "        vertical-align: top;\n",
       "    }\n",
       "\n",
       "    .dataframe thead th {\n",
       "        text-align: right;\n",
       "    }\n",
       "</style>\n",
       "<table border=\"1\" class=\"dataframe\">\n",
       "  <thead>\n",
       "    <tr style=\"text-align: right;\">\n",
       "      <th></th>\n",
       "      <th>pmid</th>\n",
       "      <th>label</th>\n",
       "      <th>txt</th>\n",
       "      <th>WordCnt</th>\n",
       "    </tr>\n",
       "  </thead>\n",
       "  <tbody>\n",
       "    <tr>\n",
       "      <th>0</th>\n",
       "      <td>21218043</td>\n",
       "      <td>1</td>\n",
       "      <td>acute liver failure associated with occupation...</td>\n",
       "      <td>162</td>\n",
       "    </tr>\n",
       "    <tr>\n",
       "      <th>1</th>\n",
       "      <td>26000001</td>\n",
       "      <td>0</td>\n",
       "      <td>a successful pregnancy during the treatment of...</td>\n",
       "      <td>326</td>\n",
       "    </tr>\n",
       "    <tr>\n",
       "      <th>2</th>\n",
       "      <td>23792523</td>\n",
       "      <td>1</td>\n",
       "      <td>ast _lgnum_ u/l after liver transplantation wh...</td>\n",
       "      <td>219</td>\n",
       "    </tr>\n",
       "    <tr>\n",
       "      <th>3</th>\n",
       "      <td>25034585</td>\n",
       "      <td>0</td>\n",
       "      <td>pulmonary benign metastasizing leiomyoma a cli...</td>\n",
       "      <td>177</td>\n",
       "    </tr>\n",
       "    <tr>\n",
       "      <th>4</th>\n",
       "      <td>25026126</td>\n",
       "      <td>0</td>\n",
       "      <td>two novel mutations in acid a - glucosidase ge...</td>\n",
       "      <td>121</td>\n",
       "    </tr>\n",
       "  </tbody>\n",
       "</table>\n",
       "</div>"
      ],
      "text/plain": [
       "       pmid  label                                                txt  WordCnt\n",
       "0  21218043      1  acute liver failure associated with occupation...      162\n",
       "1  26000001      0  a successful pregnancy during the treatment of...      326\n",
       "2  23792523      1  ast _lgnum_ u/l after liver transplantation wh...      219\n",
       "3  25034585      0  pulmonary benign metastasizing leiomyoma a cli...      177\n",
       "4  25026126      0  two novel mutations in acid a - glucosidase ge...      121"
      ]
     },
     "execution_count": 30,
     "metadata": {},
     "output_type": "execute_result"
    }
   ],
   "source": [
    "data_explore.head()"
   ]
  },
  {
   "cell_type": "markdown",
   "metadata": {},
   "source": [
    "## Plots"
   ]
  },
  {
   "cell_type": "code",
   "execution_count": 31,
   "metadata": {},
   "outputs": [],
   "source": [
    "import wordcloud\n",
    "from wordcloud import WordCloud"
   ]
  },
  {
   "cell_type": "code",
   "execution_count": 32,
   "metadata": {
    "scrolled": true
   },
   "outputs": [],
   "source": [
    "word_list_to_string = lambda ws: ' '.join(ws)\n",
    "\n",
    "words = word_list_to_string(clean_data_tr.txt)\n",
    "\n",
    "min_word_count = 6\n",
    "view_word = lambda word: (\n",
    "    '_' not in word and \n",
    "    tokenizer.word_docs[word] > min_word_count - 1 and \n",
    "    '-' not in word\n",
    "    and word not in wordcloud.STOPWORDS\n",
    ")\n",
    "\n",
    "filtered_words = word_list_to_string(\n",
    "    [w for w in words.split(' ') if view_word(w)]\n",
    ")"
   ]
  },
  {
   "cell_type": "code",
   "execution_count": 33,
   "metadata": {},
   "outputs": [
    {
     "data": {
      "text/plain": [
       "1380824"
      ]
     },
     "execution_count": 33,
     "metadata": {},
     "output_type": "execute_result"
    }
   ],
   "source": [
    "len(words)"
   ]
  },
  {
   "cell_type": "code",
   "execution_count": 34,
   "metadata": {},
   "outputs": [
    {
     "data": {
      "text/plain": [
       "'cute liver failure associated with occupational exposure to tetrachloroethylene   tetrachloroethyle'"
      ]
     },
     "execution_count": 34,
     "metadata": {},
     "output_type": "execute_result"
    }
   ],
   "source": [
    "words[1:100]"
   ]
  },
  {
   "cell_type": "code",
   "execution_count": 35,
   "metadata": {},
   "outputs": [
    {
     "data": {
      "text/plain": [
       "840015"
      ]
     },
     "execution_count": 35,
     "metadata": {},
     "output_type": "execute_result"
    }
   ],
   "source": [
    "len(filtered_words)"
   ]
  },
  {
   "cell_type": "code",
   "execution_count": 36,
   "metadata": {},
   "outputs": [],
   "source": [
    "#https://www.geeksforgeeks.org/generating-word-cloud-python/\n",
    "wcloud = WordCloud(width = 800, height = 800, \n",
    "                background_color ='white', \n",
    "                stopwords = wordcloud.STOPWORDS, \n",
    "                min_font_size = 10).generate(filtered_words)  \n",
    " "
   ]
  },
  {
   "cell_type": "code",
   "execution_count": 37,
   "metadata": {},
   "outputs": [
    {
     "data": {
      "image/png": "[encoded data removed]",
      "text/plain": [
       "<Figure size 576x576 with 1 Axes>"
      ]
     },
     "metadata": {
      "needs_background": "light"
     },
     "output_type": "display_data"
    }
   ],
   "source": [
    "# plot the WordCloud image                        \n",
    "plt.figure(figsize = (8, 8), facecolor = None) \n",
    "plt.imshow(wcloud) \n",
    "plt.axis(\"off\") \n",
    "plt.tight_layout(pad = 0)"
   ]
  },
  {
   "cell_type": "code",
   "execution_count": 38,
   "metadata": {},
   "outputs": [
    {
     "data": {
      "text/plain": [
       "1049"
      ]
     },
     "execution_count": 38,
     "metadata": {},
     "output_type": "execute_result"
    }
   ],
   "source": [
    "tokenizer.word_counts['patients']"
   ]
  },
  {
   "cell_type": "markdown",
   "metadata": {},
   "source": [
    "## Compare Group Frequencies"
   ]
  },
  {
   "cell_type": "code",
   "execution_count": 39,
   "metadata": {},
   "outputs": [],
   "source": [
    "import pandas as pd\n",
    "from sklearn.feature_extraction.text import CountVectorizer"
   ]
  },
  {
   "cell_type": "code",
   "execution_count": 40,
   "metadata": {},
   "outputs": [],
   "source": [
    "count_vec = CountVectorizer()\n",
    "dfm_data = count_vec.fit_transform(clean_data_tr.txt)\n",
    "\n",
    "dfm = pd.DataFrame(dfm_data.toarray(), columns = count_vec.get_feature_names())"
   ]
  },
  {
   "cell_type": "code",
   "execution_count": 41,
   "metadata": {},
   "outputs": [
    {
     "data": {
      "text/html": [
       "<div>\n",
       "<style scoped>\n",
       "    .dataframe tbody tr th:only-of-type {\n",
       "        vertical-align: middle;\n",
       "    }\n",
       "\n",
       "    .dataframe tbody tr th {\n",
       "        vertical-align: top;\n",
       "    }\n",
       "\n",
       "    .dataframe thead th {\n",
       "        text-align: right;\n",
       "    }\n",
       "</style>\n",
       "<table border=\"1\" class=\"dataframe\">\n",
       "  <thead>\n",
       "    <tr style=\"text-align: right;\">\n",
       "      <th></th>\n",
       "      <th>03</th>\n",
       "      <th>05</th>\n",
       "      <th>08</th>\n",
       "      <th>10</th>\n",
       "      <th>11</th>\n",
       "      <th>12</th>\n",
       "      <th>13</th>\n",
       "      <th>14</th>\n",
       "      <th>15</th>\n",
       "      <th>16</th>\n",
       "      <th>...</th>\n",
       "      <th>zoonosis</th>\n",
       "      <th>zoonotic</th>\n",
       "      <th>zoster</th>\n",
       "      <th>zosteriform</th>\n",
       "      <th>zr</th>\n",
       "      <th>zurich</th>\n",
       "      <th>zygoma</th>\n",
       "      <th>zygomatic</th>\n",
       "      <th>zygomycetes</th>\n",
       "      <th>zygomycosis</th>\n",
       "    </tr>\n",
       "  </thead>\n",
       "  <tbody>\n",
       "    <tr>\n",
       "      <th>0</th>\n",
       "      <td>0</td>\n",
       "      <td>0</td>\n",
       "      <td>0</td>\n",
       "      <td>0</td>\n",
       "      <td>0</td>\n",
       "      <td>0</td>\n",
       "      <td>0</td>\n",
       "      <td>0</td>\n",
       "      <td>0</td>\n",
       "      <td>0</td>\n",
       "      <td>...</td>\n",
       "      <td>0</td>\n",
       "      <td>0</td>\n",
       "      <td>0</td>\n",
       "      <td>0</td>\n",
       "      <td>0</td>\n",
       "      <td>0</td>\n",
       "      <td>0</td>\n",
       "      <td>0</td>\n",
       "      <td>0</td>\n",
       "      <td>0</td>\n",
       "    </tr>\n",
       "    <tr>\n",
       "      <th>1</th>\n",
       "      <td>0</td>\n",
       "      <td>0</td>\n",
       "      <td>0</td>\n",
       "      <td>0</td>\n",
       "      <td>0</td>\n",
       "      <td>0</td>\n",
       "      <td>0</td>\n",
       "      <td>0</td>\n",
       "      <td>0</td>\n",
       "      <td>0</td>\n",
       "      <td>...</td>\n",
       "      <td>0</td>\n",
       "      <td>0</td>\n",
       "      <td>0</td>\n",
       "      <td>0</td>\n",
       "      <td>0</td>\n",
       "      <td>0</td>\n",
       "      <td>0</td>\n",
       "      <td>0</td>\n",
       "      <td>0</td>\n",
       "      <td>0</td>\n",
       "    </tr>\n",
       "    <tr>\n",
       "      <th>2</th>\n",
       "      <td>0</td>\n",
       "      <td>0</td>\n",
       "      <td>0</td>\n",
       "      <td>0</td>\n",
       "      <td>0</td>\n",
       "      <td>0</td>\n",
       "      <td>0</td>\n",
       "      <td>0</td>\n",
       "      <td>0</td>\n",
       "      <td>0</td>\n",
       "      <td>...</td>\n",
       "      <td>0</td>\n",
       "      <td>0</td>\n",
       "      <td>0</td>\n",
       "      <td>0</td>\n",
       "      <td>0</td>\n",
       "      <td>0</td>\n",
       "      <td>0</td>\n",
       "      <td>0</td>\n",
       "      <td>0</td>\n",
       "      <td>0</td>\n",
       "    </tr>\n",
       "    <tr>\n",
       "      <th>3</th>\n",
       "      <td>0</td>\n",
       "      <td>0</td>\n",
       "      <td>0</td>\n",
       "      <td>0</td>\n",
       "      <td>0</td>\n",
       "      <td>0</td>\n",
       "      <td>0</td>\n",
       "      <td>0</td>\n",
       "      <td>0</td>\n",
       "      <td>0</td>\n",
       "      <td>...</td>\n",
       "      <td>0</td>\n",
       "      <td>0</td>\n",
       "      <td>0</td>\n",
       "      <td>0</td>\n",
       "      <td>0</td>\n",
       "      <td>0</td>\n",
       "      <td>0</td>\n",
       "      <td>0</td>\n",
       "      <td>0</td>\n",
       "      <td>0</td>\n",
       "    </tr>\n",
       "    <tr>\n",
       "      <th>4</th>\n",
       "      <td>0</td>\n",
       "      <td>0</td>\n",
       "      <td>0</td>\n",
       "      <td>0</td>\n",
       "      <td>0</td>\n",
       "      <td>0</td>\n",
       "      <td>0</td>\n",
       "      <td>0</td>\n",
       "      <td>0</td>\n",
       "      <td>0</td>\n",
       "      <td>...</td>\n",
       "      <td>0</td>\n",
       "      <td>0</td>\n",
       "      <td>0</td>\n",
       "      <td>0</td>\n",
       "      <td>0</td>\n",
       "      <td>0</td>\n",
       "      <td>0</td>\n",
       "      <td>0</td>\n",
       "      <td>0</td>\n",
       "      <td>0</td>\n",
       "    </tr>\n",
       "  </tbody>\n",
       "</table>\n",
       "<p>5 rows × 13660 columns</p>\n",
       "</div>"
      ],
      "text/plain": [
       "   03  05  08  10  11  12  13  14  15  16  ...  zoonosis  zoonotic  zoster  \\\n",
       "0   0   0   0   0   0   0   0   0   0   0  ...         0         0       0   \n",
       "1   0   0   0   0   0   0   0   0   0   0  ...         0         0       0   \n",
       "2   0   0   0   0   0   0   0   0   0   0  ...         0         0       0   \n",
       "3   0   0   0   0   0   0   0   0   0   0  ...         0         0       0   \n",
       "4   0   0   0   0   0   0   0   0   0   0  ...         0         0       0   \n",
       "\n",
       "   zosteriform  zr  zurich  zygoma  zygomatic  zygomycetes  zygomycosis  \n",
       "0            0   0       0       0          0            0            0  \n",
       "1            0   0       0       0          0            0            0  \n",
       "2            0   0       0       0          0            0            0  \n",
       "3            0   0       0       0          0            0            0  \n",
       "4            0   0       0       0          0            0            0  \n",
       "\n",
       "[5 rows x 13660 columns]"
      ]
     },
     "execution_count": 41,
     "metadata": {},
     "output_type": "execute_result"
    }
   ],
   "source": [
    "dfm.head()"
   ]
  },
  {
   "cell_type": "code",
   "execution_count": 42,
   "metadata": {},
   "outputs": [
    {
     "data": {
      "text/plain": [
       "1"
      ]
     },
     "execution_count": 42,
     "metadata": {},
     "output_type": "execute_result"
    }
   ],
   "source": [
    "tokenizer.word_counts['zoonotic']"
   ]
  },
  {
   "cell_type": "code",
   "execution_count": 43,
   "metadata": {},
   "outputs": [
    {
     "data": {
      "text/plain": [
       "(1289, 13660)"
      ]
     },
     "execution_count": 43,
     "metadata": {},
     "output_type": "execute_result"
    }
   ],
   "source": [
    "dfm.shape"
   ]
  },
  {
   "cell_type": "code",
   "execution_count": 44,
   "metadata": {},
   "outputs": [],
   "source": [
    "from sklearn import feature_selection"
   ]
  },
  {
   "cell_type": "code",
   "execution_count": 45,
   "metadata": {},
   "outputs": [],
   "source": [
    "(chi_features_stat, chi_features_p) = feature_selection.chi2(dfm_data, clean_data.label)"
   ]
  },
  {
   "cell_type": "code",
   "execution_count": 46,
   "metadata": {},
   "outputs": [
    {
     "data": {
      "text/plain": [
       "(array([7150], dtype=int64),)"
      ]
     },
     "execution_count": 46,
     "metadata": {},
     "output_type": "execute_result"
    }
   ],
   "source": [
    "np.where(dfm.columns == \"liver\")"
   ]
  },
  {
   "cell_type": "code",
   "execution_count": 47,
   "metadata": {},
   "outputs": [
    {
     "data": {
      "text/plain": [
       "0.010922870615117992"
      ]
     },
     "execution_count": 47,
     "metadata": {},
     "output_type": "execute_result"
    }
   ],
   "source": [
    "chi_features_stat[7452]"
   ]
  },
  {
   "cell_type": "code",
   "execution_count": 48,
   "metadata": {},
   "outputs": [
    {
     "data": {
      "text/plain": [
       "0.91676261882336"
      ]
     },
     "execution_count": 48,
     "metadata": {},
     "output_type": "execute_result"
    }
   ],
   "source": [
    "chi_features_p[7452]"
   ]
  },
  {
   "cell_type": "code",
   "execution_count": 49,
   "metadata": {},
   "outputs": [],
   "source": [
    "keyness_df = pd.DataFrame(dfm.columns,\n",
    "                          columns=['term'])\n",
    "keyness_df['chi2_stat'] = chi_features_stat\n",
    "keyness_df['chi2_p'] = chi_features_p"
   ]
  },
  {
   "cell_type": "code",
   "execution_count": 50,
   "metadata": {},
   "outputs": [
    {
     "data": {
      "text/html": [
       "<div>\n",
       "<style scoped>\n",
       "    .dataframe tbody tr th:only-of-type {\n",
       "        vertical-align: middle;\n",
       "    }\n",
       "\n",
       "    .dataframe tbody tr th {\n",
       "        vertical-align: top;\n",
       "    }\n",
       "\n",
       "    .dataframe thead th {\n",
       "        text-align: right;\n",
       "    }\n",
       "</style>\n",
       "<table border=\"1\" class=\"dataframe\">\n",
       "  <thead>\n",
       "    <tr style=\"text-align: right;\">\n",
       "      <th></th>\n",
       "      <th>term</th>\n",
       "      <th>chi2_stat</th>\n",
       "      <th>chi2_p</th>\n",
       "    </tr>\n",
       "  </thead>\n",
       "  <tbody>\n",
       "    <tr>\n",
       "      <th>7150</th>\n",
       "      <td>liver</td>\n",
       "      <td>1605.464603</td>\n",
       "      <td>0.000000e+00</td>\n",
       "    </tr>\n",
       "    <tr>\n",
       "      <th>2097</th>\n",
       "      <td>cirrhosis</td>\n",
       "      <td>1032.533793</td>\n",
       "      <td>1.523015e-226</td>\n",
       "    </tr>\n",
       "    <tr>\n",
       "      <th>5570</th>\n",
       "      <td>hepatitis</td>\n",
       "      <td>378.819289</td>\n",
       "      <td>2.249166e-84</td>\n",
       "    </tr>\n",
       "    <tr>\n",
       "      <th>12695</th>\n",
       "      <td>transplantation</td>\n",
       "      <td>353.348847</td>\n",
       "      <td>7.904793e-79</td>\n",
       "    </tr>\n",
       "    <tr>\n",
       "      <th>9605</th>\n",
       "      <td>portal</td>\n",
       "      <td>330.205676</td>\n",
       "      <td>8.669436e-74</td>\n",
       "    </tr>\n",
       "    <tr>\n",
       "      <th>5563</th>\n",
       "      <td>hepatic</td>\n",
       "      <td>308.648696</td>\n",
       "      <td>4.301295e-69</td>\n",
       "    </tr>\n",
       "    <tr>\n",
       "      <th>1394</th>\n",
       "      <td>biliary</td>\n",
       "      <td>210.868673</td>\n",
       "      <td>8.878669e-48</td>\n",
       "    </tr>\n",
       "    <tr>\n",
       "      <th>3552</th>\n",
       "      <td>donor</td>\n",
       "      <td>181.208454</td>\n",
       "      <td>2.639797e-41</td>\n",
       "    </tr>\n",
       "    <tr>\n",
       "      <th>13256</th>\n",
       "      <td>vein</td>\n",
       "      <td>166.617678</td>\n",
       "      <td>4.054544e-38</td>\n",
       "    </tr>\n",
       "    <tr>\n",
       "      <th>9143</th>\n",
       "      <td>pbc</td>\n",
       "      <td>150.686767</td>\n",
       "      <td>1.227018e-34</td>\n",
       "    </tr>\n",
       "    <tr>\n",
       "      <th>5578</th>\n",
       "      <td>hepatocellular</td>\n",
       "      <td>139.077151</td>\n",
       "      <td>4.236664e-32</td>\n",
       "    </tr>\n",
       "    <tr>\n",
       "      <th>5423</th>\n",
       "      <td>hcc</td>\n",
       "      <td>132.796600</td>\n",
       "      <td>1.001660e-30</td>\n",
       "    </tr>\n",
       "    <tr>\n",
       "      <th>1458</th>\n",
       "      <td>bleeding</td>\n",
       "      <td>130.179997</td>\n",
       "      <td>3.742540e-30</td>\n",
       "    </tr>\n",
       "    <tr>\n",
       "      <th>1022</th>\n",
       "      <td>ascites</td>\n",
       "      <td>128.715776</td>\n",
       "      <td>7.825961e-30</td>\n",
       "    </tr>\n",
       "    <tr>\n",
       "      <th>2098</th>\n",
       "      <td>cirrhotic</td>\n",
       "      <td>121.816227</td>\n",
       "      <td>2.532416e-28</td>\n",
       "    </tr>\n",
       "    <tr>\n",
       "      <th>4672</th>\n",
       "      <td>fibrosis</td>\n",
       "      <td>120.031198</td>\n",
       "      <td>6.227357e-28</td>\n",
       "    </tr>\n",
       "    <tr>\n",
       "      <th>505</th>\n",
       "      <td>alcoholic</td>\n",
       "      <td>115.432141</td>\n",
       "      <td>6.328803e-27</td>\n",
       "    </tr>\n",
       "    <tr>\n",
       "      <th>12694</th>\n",
       "      <td>transplant</td>\n",
       "      <td>110.515393</td>\n",
       "      <td>7.555644e-26</td>\n",
       "    </tr>\n",
       "    <tr>\n",
       "      <th>13208</th>\n",
       "      <td>varices</td>\n",
       "      <td>108.508727</td>\n",
       "      <td>2.079328e-25</td>\n",
       "    </tr>\n",
       "  </tbody>\n",
       "</table>\n",
       "</div>"
      ],
      "text/plain": [
       "                  term    chi2_stat         chi2_p\n",
       "7150             liver  1605.464603   0.000000e+00\n",
       "2097         cirrhosis  1032.533793  1.523015e-226\n",
       "5570         hepatitis   378.819289   2.249166e-84\n",
       "12695  transplantation   353.348847   7.904793e-79\n",
       "9605            portal   330.205676   8.669436e-74\n",
       "5563           hepatic   308.648696   4.301295e-69\n",
       "1394           biliary   210.868673   8.878669e-48\n",
       "3552             donor   181.208454   2.639797e-41\n",
       "13256             vein   166.617678   4.054544e-38\n",
       "9143               pbc   150.686767   1.227018e-34\n",
       "5578    hepatocellular   139.077151   4.236664e-32\n",
       "5423               hcc   132.796600   1.001660e-30\n",
       "1458          bleeding   130.179997   3.742540e-30\n",
       "1022           ascites   128.715776   7.825961e-30\n",
       "2098         cirrhotic   121.816227   2.532416e-28\n",
       "4672          fibrosis   120.031198   6.227357e-28\n",
       "505          alcoholic   115.432141   6.328803e-27\n",
       "12694       transplant   110.515393   7.555644e-26\n",
       "13208          varices   108.508727   2.079328e-25"
      ]
     },
     "execution_count": 50,
     "metadata": {},
     "output_type": "execute_result"
    }
   ],
   "source": [
    "keyness_df.sort_values(by='chi2_stat', ascending=False).head(19)"
   ]
  },
  {
   "cell_type": "code",
   "execution_count": 51,
   "metadata": {},
   "outputs": [
    {
     "data": {
      "text/html": [
       "<div>\n",
       "<style scoped>\n",
       "    .dataframe tbody tr th:only-of-type {\n",
       "        vertical-align: middle;\n",
       "    }\n",
       "\n",
       "    .dataframe tbody tr th {\n",
       "        vertical-align: top;\n",
       "    }\n",
       "\n",
       "    .dataframe thead th {\n",
       "        text-align: right;\n",
       "    }\n",
       "</style>\n",
       "<table border=\"1\" class=\"dataframe\">\n",
       "  <thead>\n",
       "    <tr style=\"text-align: right;\">\n",
       "      <th></th>\n",
       "      <th>term</th>\n",
       "      <th>chi2_stat</th>\n",
       "      <th>chi2_p</th>\n",
       "    </tr>\n",
       "  </thead>\n",
       "  <tbody>\n",
       "    <tr>\n",
       "      <th>7545</th>\n",
       "      <td>melanoma</td>\n",
       "      <td>25.018786</td>\n",
       "      <td>5.677444e-07</td>\n",
       "    </tr>\n",
       "    <tr>\n",
       "      <th>11003</th>\n",
       "      <td>sarcoma</td>\n",
       "      <td>26.744220</td>\n",
       "      <td>2.322454e-07</td>\n",
       "    </tr>\n",
       "    <tr>\n",
       "      <th>8238</th>\n",
       "      <td>nerve</td>\n",
       "      <td>73.101548</td>\n",
       "      <td>1.231479e-17</td>\n",
       "    </tr>\n",
       "  </tbody>\n",
       "</table>\n",
       "</div>"
      ],
      "text/plain": [
       "           term  chi2_stat        chi2_p\n",
       "7545   melanoma  25.018786  5.677444e-07\n",
       "11003   sarcoma  26.744220  2.322454e-07\n",
       "8238      nerve  73.101548  1.231479e-17"
      ]
     },
     "execution_count": 51,
     "metadata": {},
     "output_type": "execute_result"
    }
   ],
   "source": [
    "\n",
    "keyness_df[\n",
    "    [t in (\"nerve\", \"melanoma\", \"sarcoma\") for t in keyness_df.term]].sort_values(by = 'chi2_stat')"
   ]
  },
  {
   "cell_type": "code",
   "execution_count": 52,
   "metadata": {},
   "outputs": [
    {
     "data": {
      "text/plain": [
       "0.0016750418760469012"
      ]
     },
     "execution_count": 52,
     "metadata": {},
     "output_type": "execute_result"
    }
   ],
   "source": [
    "case_rows = [l == 1 for l in clean_data.label]\n",
    "\n",
    "np.mean(dfm.nerve[case_rows])"
   ]
  },
  {
   "cell_type": "code",
   "execution_count": 53,
   "metadata": {},
   "outputs": [
    {
     "data": {
      "text/plain": [
       "0.12716763005780346"
      ]
     },
     "execution_count": 53,
     "metadata": {},
     "output_type": "execute_result"
    }
   ],
   "source": [
    "np.mean(dfm.nerve[np.logical_not(case_rows)])"
   ]
  },
  {
   "cell_type": "markdown",
   "metadata": {},
   "source": [
    "## Deep Learning"
   ]
  },
  {
   "cell_type": "code",
   "execution_count": 54,
   "metadata": {},
   "outputs": [],
   "source": [
    "from sklearn.model_selection import train_test_split"
   ]
  },
  {
   "cell_type": "code",
   "execution_count": 55,
   "metadata": {},
   "outputs": [],
   "source": [
    "(X_train, X_test, y_train, y_test) =  train_test_split(\n",
    "    clean_data.txt, clean_data.label, \n",
    "                            test_size = .3, stratify = clean_data.label)"
   ]
  },
  {
   "cell_type": "code",
   "execution_count": 56,
   "metadata": {},
   "outputs": [],
   "source": [
    "seq_train = tokenizer.texts_to_sequences(X_train.values)\n",
    "seq_test = tokenizer.texts_to_sequences(X_test.values)"
   ]
  },
  {
   "cell_type": "code",
   "execution_count": 57,
   "metadata": {},
   "outputs": [],
   "source": [
    "maxlen = np.max(word_counts) + 1"
   ]
  },
  {
   "cell_type": "code",
   "execution_count": 58,
   "metadata": {
    "scrolled": true
   },
   "outputs": [
    {
     "data": {
      "text/plain": [
       "562"
      ]
     },
     "execution_count": 58,
     "metadata": {},
     "output_type": "execute_result"
    }
   ],
   "source": [
    "maxlen"
   ]
  },
  {
   "cell_type": "markdown",
   "metadata": {},
   "source": [
    "Vocab Size"
   ]
  },
  {
   "cell_type": "code",
   "execution_count": 59,
   "metadata": {},
   "outputs": [
    {
     "data": {
      "text/plain": [
       "13853"
      ]
     },
     "execution_count": 59,
     "metadata": {},
     "output_type": "execute_result"
    }
   ],
   "source": [
    "len(tokenizer.word_index)"
   ]
  },
  {
   "cell_type": "code",
   "execution_count": 60,
   "metadata": {},
   "outputs": [],
   "source": [
    "X_train_pad = keras.preprocessing.sequence.pad_sequences(\n",
    "    seq_train, maxlen=maxlen)\n",
    "X_test_pad = keras.preprocessing.sequence.pad_sequences(\n",
    "    seq_test, maxlen=maxlen)"
   ]
  },
  {
   "cell_type": "markdown",
   "metadata": {},
   "source": [
    "Shape of data tensor"
   ]
  },
  {
   "cell_type": "code",
   "execution_count": 61,
   "metadata": {},
   "outputs": [
    {
     "data": {
      "text/plain": [
       "(902, 562)"
      ]
     },
     "execution_count": 61,
     "metadata": {},
     "output_type": "execute_result"
    }
   ],
   "source": [
    "X_train_pad.shape"
   ]
  },
  {
   "cell_type": "code",
   "execution_count": 62,
   "metadata": {},
   "outputs": [
    {
     "data": {
      "text/plain": [
       "array([0, 1], dtype=int64)"
      ]
     },
     "execution_count": 62,
     "metadata": {},
     "output_type": "execute_result"
    }
   ],
   "source": [
    "np.unique(y_train)"
   ]
  },
  {
   "cell_type": "code",
   "execution_count": 63,
   "metadata": {},
   "outputs": [
    {
     "data": {
      "text/plain": [
       "array([0, 1], dtype=int64)"
      ]
     },
     "execution_count": 63,
     "metadata": {},
     "output_type": "execute_result"
    }
   ],
   "source": [
    "np.unique(y_test)"
   ]
  },
  {
   "cell_type": "markdown",
   "metadata": {},
   "source": [
    "Comparable proportions"
   ]
  },
  {
   "cell_type": "code",
   "execution_count": 64,
   "metadata": {},
   "outputs": [
    {
     "data": {
      "text/plain": [
       "{0: 484, 1: 418}"
      ]
     },
     "execution_count": 64,
     "metadata": {},
     "output_type": "execute_result"
    }
   ],
   "source": [
    "{i:np.sum(y_train == i) for i in (0, 1)}"
   ]
  },
  {
   "cell_type": "code",
   "execution_count": 65,
   "metadata": {},
   "outputs": [
    {
     "data": {
      "text/plain": [
       "{0: 208, 1: 179}"
      ]
     },
     "execution_count": 65,
     "metadata": {},
     "output_type": "execute_result"
    }
   ],
   "source": [
    "{i:np.sum(y_test == i) for i in (0, 1)}"
   ]
  },
  {
   "cell_type": "markdown",
   "metadata": {},
   "source": [
    "## No Pre-training"
   ]
  },
  {
   "cell_type": "code",
   "execution_count": 66,
   "metadata": {},
   "outputs": [],
   "source": [
    "def buildCnn(EMBEDDING_DIM = 50,\n",
    "                      num_filters = 100,\n",
    "                      maxlen = 600,\n",
    "                      vocab_size = 10000,\n",
    "                      pre_trained = False,\n",
    "                      embedding_matrix = None,\n",
    "                      trainable_embed=True):\n",
    "    \n",
    "    hidden_dims = 128\n",
    "    filt_sz = (3, 4, 5)\n",
    "    \n",
    "    drop_rate = 0.2\n",
    "\n",
    "    inputs = keras.layers.Input(shape = [maxlen], name = \"input\")\n",
    "    if(not pre_trained):\n",
    "        embedding_lyr = p(inputs,\n",
    "                          keras.layers.Embedding(input_dim = vocab_size,\n",
    "                                                 output_dim = EMBEDDING_DIM,\n",
    "                                                 input_length = maxlen,\n",
    "                                                 name = \"embed\"),\n",
    "                          keras.layers.Dropout(drop_rate, name = \"drop1\")\n",
    "                         )\n",
    "    else:\n",
    "        embedding_lyr = p(inputs, \n",
    "                          keras.layers.Embedding(input_dim = vocab_size, \n",
    "                             output_dim = EMBEDDING_DIM, \n",
    "                             input_length = maxlen, \n",
    "                             trainable = trainable_embed, \n",
    "                             weights = embedding_matrix, \n",
    "                             name = \"embed\"),\n",
    "                          layer_dropout(drop_rate, name = \"drop1\")\n",
    "                         )\n",
    "    \n",
    "    # conv_ CNNs in parallel with different kernel sizes\n",
    "    conv_1 = p(embedding_lyr, \n",
    "               keras.layers.Convolution1D(\n",
    "                   num_filters, \n",
    "                   filt_sz[0], activation = \"relu\", name = \"conv1\"), \n",
    "               keras.layers.GlobalMaxPooling1D(name = \"maxp1_glob\")\n",
    "              )\n",
    "    \n",
    "    conv_2 = p(embedding_lyr, \n",
    "               keras.layers.Convolution1D(\n",
    "                   num_filters, \n",
    "                   filt_sz[1], activation = \"relu\", name = \"conv2\"), \n",
    "               keras.layers.GlobalMaxPooling1D(name = \"maxp2_glob\")\n",
    "              )\n",
    "    \n",
    "    conv_3 = p(embedding_lyr, \n",
    "               keras.layers.Convolution1D(\n",
    "                   num_filters, \n",
    "                   filt_sz[2], activation = \"relu\", name = \"conv3\"), \n",
    "               keras.layers.GlobalMaxPooling1D(name = \"maxp3_glob\")\n",
    "              )\n",
    "    \n",
    "    merged_tensor = p(\n",
    "        [conv_1, conv_2, conv_3],\n",
    "        keras.layers.Concatenate(axis=1, name = \"merged\")\n",
    "    )\n",
    "    \n",
    "    hidden = p(merged_tensor, \n",
    "             keras.layers.Dense(hidden_dims, \n",
    "                                activation = \"relu\", name = \"hidden\")\n",
    "            )\n",
    "    \n",
    "    dropout = p(hidden, \n",
    "              keras.layers.Dropout(drop_rate, name = \"drop2\"), \n",
    "              keras.layers.Activation(\"relu\", name = \"activ_solo\")\n",
    "             )\n",
    "    \n",
    "    output = p(dropout, \n",
    "               keras.layers.Dense(1, activation = \"sigmoid\", name = \"sigm\"))\n",
    "    \n",
    "    model = keras.models.Model(inputs = inputs, \n",
    "                             outputs = output)\n",
    "    \n",
    "    # Compile model\n",
    "    model.compile(\n",
    "        loss = \"binary_crossentropy\",\n",
    "        optimizer = \"adam\",\n",
    "        metrics = [\"accuracy\"]\n",
    "    )\n",
    "    \n",
    "    return(model)"
   ]
  },
  {
   "cell_type": "markdown",
   "metadata": {},
   "source": [
    "## Build Model"
   ]
  },
  {
   "cell_type": "code",
   "execution_count": 90,
   "metadata": {},
   "outputs": [],
   "source": [
    "model = buildCnn(EMBEDDING_DIM = 200, num_filters = 100, maxlen = 562, vocab_size = vocab_size)"
   ]
  },
  {
   "cell_type": "code",
   "execution_count": 91,
   "metadata": {},
   "outputs": [
    {
     "name": "stdout",
     "output_type": "stream",
     "text": [
      "__________________________________________________________________________________________________\n",
      "Layer (type)                    Output Shape         Param #     Connected to                     \n",
      "==================================================================================================\n",
      "input (InputLayer)              (None, 562)          0                                            \n",
      "__________________________________________________________________________________________________\n",
      "embed (Embedding)               (None, 562, 200)     2770600     input[0][0]                      \n",
      "__________________________________________________________________________________________________\n",
      "drop1 (Dropout)                 (None, 562, 200)     0           embed[0][0]                      \n",
      "__________________________________________________________________________________________________\n",
      "conv1 (Conv1D)                  (None, 560, 100)     60100       drop1[0][0]                      \n",
      "__________________________________________________________________________________________________\n",
      "conv2 (Conv1D)                  (None, 559, 100)     80100       drop1[0][0]                      \n",
      "__________________________________________________________________________________________________\n",
      "conv3 (Conv1D)                  (None, 558, 100)     100100      drop1[0][0]                      \n",
      "__________________________________________________________________________________________________\n",
      "maxp1_glob (GlobalMaxPooling1D) (None, 100)          0           conv1[0][0]                      \n",
      "__________________________________________________________________________________________________\n",
      "maxp2_glob (GlobalMaxPooling1D) (None, 100)          0           conv2[0][0]                      \n",
      "__________________________________________________________________________________________________\n",
      "maxp3_glob (GlobalMaxPooling1D) (None, 100)          0           conv3[0][0]                      \n",
      "__________________________________________________________________________________________________\n",
      "merged (Concatenate)            (None, 300)          0           maxp1_glob[0][0]                 \n",
      "                                                                 maxp2_glob[0][0]                 \n",
      "                                                                 maxp3_glob[0][0]                 \n",
      "__________________________________________________________________________________________________\n",
      "hidden (Dense)                  (None, 128)          38528       merged[0][0]                     \n",
      "__________________________________________________________________________________________________\n",
      "drop2 (Dropout)                 (None, 128)          0           hidden[0][0]                     \n",
      "__________________________________________________________________________________________________\n",
      "activ_solo (Activation)         (None, 128)          0           drop2[0][0]                      \n",
      "__________________________________________________________________________________________________\n",
      "sigm (Dense)                    (None, 1)            129         activ_solo[0][0]                 \n",
      "==================================================================================================\n",
      "Total params: 3,049,557\n",
      "Trainable params: 3,049,557\n",
      "Non-trainable params: 0\n",
      "__________________________________________________________________________________________________\n"
     ]
    }
   ],
   "source": [
    "model.summary()"
   ]
  },
  {
   "cell_type": "markdown",
   "metadata": {},
   "source": [
    "## Train"
   ]
  },
  {
   "cell_type": "code",
   "execution_count": 92,
   "metadata": {},
   "outputs": [
    {
     "name": "stdout",
     "output_type": "stream",
     "text": [
      "Train on 811 samples, validate on 91 samples\n",
      "Epoch 1/37\n",
      "811/811 [==============================] - 1s 2ms/step - loss: 0.6939 - acc: 0.5351 - val_loss: 0.6809 - val_acc: 0.5604\n",
      "Epoch 2/37\n",
      "811/811 [==============================] - 0s 329us/step - loss: 0.6637 - acc: 0.6338 - val_loss: 0.6397 - val_acc: 0.8242\n",
      "Epoch 3/37\n",
      "811/811 [==============================] - 0s 308us/step - loss: 0.5501 - acc: 0.8607 - val_loss: 0.4739 - val_acc: 0.9231\n",
      "Epoch 4/37\n",
      "811/811 [==============================] - 0s 328us/step - loss: 0.3106 - acc: 0.9260 - val_loss: 0.2517 - val_acc: 0.9231\n",
      "Epoch 5/37\n",
      "811/811 [==============================] - 0s 327us/step - loss: 0.1777 - acc: 0.9445 - val_loss: 0.2054 - val_acc: 0.9231\n",
      "Epoch 6/37\n",
      "811/811 [==============================] - 0s 310us/step - loss: 0.1382 - acc: 0.9531 - val_loss: 0.1836 - val_acc: 0.9341\n",
      "Epoch 7/37\n",
      "811/811 [==============================] - 0s 327us/step - loss: 0.1056 - acc: 0.9729 - val_loss: 0.1657 - val_acc: 0.9341\n",
      "Epoch 8/37\n",
      "811/811 [==============================] - 0s 308us/step - loss: 0.0792 - acc: 0.9790 - val_loss: 0.1597 - val_acc: 0.9451\n",
      "Epoch 9/37\n",
      "811/811 [==============================] - 0s 327us/step - loss: 0.0597 - acc: 0.9889 - val_loss: 0.1491 - val_acc: 0.9231\n",
      "Epoch 10/37\n",
      "811/811 [==============================] - 0s 310us/step - loss: 0.0438 - acc: 0.9914 - val_loss: 0.1540 - val_acc: 0.9451\n",
      "Epoch 11/37\n",
      "811/811 [==============================] - 0s 327us/step - loss: 0.0312 - acc: 0.9963 - val_loss: 0.1473 - val_acc: 0.9451\n",
      "Epoch 12/37\n",
      "811/811 [==============================] - 0s 308us/step - loss: 0.0227 - acc: 0.9963 - val_loss: 0.1395 - val_acc: 0.9451\n",
      "Epoch 13/37\n",
      "811/811 [==============================] - 0s 328us/step - loss: 0.0138 - acc: 0.9988 - val_loss: 0.1408 - val_acc: 0.9451\n",
      "Epoch 14/37\n",
      "811/811 [==============================] - 0s 329us/step - loss: 0.0120 - acc: 0.9975 - val_loss: 0.1498 - val_acc: 0.9451\n",
      "Epoch 15/37\n",
      "811/811 [==============================] - 0s 308us/step - loss: 0.0072 - acc: 1.0000 - val_loss: 0.1380 - val_acc: 0.9451\n",
      "Epoch 16/37\n",
      "811/811 [==============================] - 0s 327us/step - loss: 0.0060 - acc: 1.0000 - val_loss: 0.1451 - val_acc: 0.9451\n",
      "Epoch 17/37\n",
      "811/811 [==============================] - 0s 310us/step - loss: 0.0042 - acc: 1.0000 - val_loss: 0.1407 - val_acc: 0.9451\n",
      "Epoch 18/37\n",
      "811/811 [==============================] - 0s 327us/step - loss: 0.0039 - acc: 1.0000 - val_loss: 0.1421 - val_acc: 0.9451\n",
      "Epoch 19/37\n",
      "811/811 [==============================] - 0s 308us/step - loss: 0.0028 - acc: 1.0000 - val_loss: 0.1447 - val_acc: 0.9451\n",
      "Epoch 20/37\n",
      "811/811 [==============================] - 0s 327us/step - loss: 0.0023 - acc: 1.0000 - val_loss: 0.1440 - val_acc: 0.9451\n",
      "Epoch 21/37\n",
      "811/811 [==============================] - 0s 329us/step - loss: 0.0020 - acc: 1.0000 - val_loss: 0.1459 - val_acc: 0.9451\n",
      "Epoch 22/37\n",
      "811/811 [==============================] - 0s 327us/step - loss: 0.0016 - acc: 1.0000 - val_loss: 0.1461 - val_acc: 0.9451\n",
      "Epoch 23/37\n",
      "811/811 [==============================] - 0s 308us/step - loss: 0.0015 - acc: 1.0000 - val_loss: 0.1488 - val_acc: 0.9451\n",
      "Epoch 24/37\n",
      "811/811 [==============================] - 0s 328us/step - loss: 0.0016 - acc: 1.0000 - val_loss: 0.1505 - val_acc: 0.9451\n",
      "Epoch 25/37\n",
      "811/811 [==============================] - 0s 310us/step - loss: 0.0012 - acc: 1.0000 - val_loss: 0.1482 - val_acc: 0.9451\n",
      "Training time: 8.243412733078003\n"
     ]
    }
   ],
   "source": [
    "lr = .0004\n",
    "epochs = 37#int(.015/lr)\n",
    "batch_size = 32\n",
    "\n",
    "keras.backend.set_value(model.optimizer.lr, lr)\n",
    "\n",
    "early_stopping = keras.callbacks.EarlyStopping(monitor = 'val_loss', \n",
    "                                               patience = 10)\n",
    "\n",
    "import time\n",
    "start_time = time.time()\n",
    "\n",
    "history = model.fit(\n",
    "    X_train_pad, y_train,\n",
    "    batch_size = batch_size,\n",
    "    epochs = epochs,\n",
    "    callbacks = [early_stopping],\n",
    "    validation_split = 0.1\n",
    "  )\n",
    "\n",
    "print(\"Training time: %s\" % (time.time() - start_time))"
   ]
  },
  {
   "cell_type": "code",
   "execution_count": 93,
   "metadata": {},
   "outputs": [
    {
     "data": {
      "text/plain": [
       "keras.callbacks.History"
      ]
     },
     "execution_count": 93,
     "metadata": {},
     "output_type": "execute_result"
    }
   ],
   "source": [
    "type(history)"
   ]
  },
  {
   "cell_type": "code",
   "execution_count": 94,
   "metadata": {},
   "outputs": [
    {
     "data": {
      "text/plain": [
       "dict"
      ]
     },
     "execution_count": 94,
     "metadata": {},
     "output_type": "execute_result"
    }
   ],
   "source": [
    "type(history.history)"
   ]
  },
  {
   "cell_type": "code",
   "execution_count": 95,
   "metadata": {},
   "outputs": [
    {
     "data": {
      "text/plain": [
       "dict_keys(['val_loss', 'val_acc', 'loss', 'acc'])"
      ]
     },
     "execution_count": 95,
     "metadata": {},
     "output_type": "execute_result"
    }
   ],
   "source": [
    "history.history.keys()"
   ]
  },
  {
   "cell_type": "code",
   "execution_count": 96,
   "metadata": {},
   "outputs": [],
   "source": [
    "from plot_keras_history import plot_history"
   ]
  },
  {
   "cell_type": "code",
   "execution_count": 81,
   "metadata": {},
   "outputs": [
    {
     "data": {
      "image/png": "[encoded data removed]",
      "text/plain": [
       "<Figure size 720x360 with 2 Axes>"
      ]
     },
     "metadata": {
      "needs_background": "light"
     },
     "output_type": "display_data"
    }
   ],
   "source": [
    "plot_history(history.history)"
   ]
  },
  {
   "cell_type": "markdown",
   "metadata": {},
   "source": [
    "## Evaluate"
   ]
  },
  {
   "cell_type": "code",
   "execution_count": 82,
   "metadata": {},
   "outputs": [
    {
     "data": {
      "text/plain": [
       "int"
      ]
     },
     "execution_count": 82,
     "metadata": {},
     "output_type": "execute_result"
    }
   ],
   "source": [
    "type(batch_size)"
   ]
  },
  {
   "cell_type": "code",
   "execution_count": 83,
   "metadata": {},
   "outputs": [
    {
     "name": "stdout",
     "output_type": "stream",
     "text": [
      "387/387 [==============================] - 0s 161us/step\n",
      "Test accuracy 0.9405684754521964\n",
      "\n"
     ]
    }
   ],
   "source": [
    "scores = model.evaluate(X_test_pad, y_test, batch_size)\n",
    "\n",
    "print('Test accuracy ' + str(scores[1]) + \"\\n\")\n",
    "# AUC\n",
    "cnn_prob = model.predict(X_test_pad)"
   ]
  },
  {
   "cell_type": "code",
   "execution_count": 84,
   "metadata": {},
   "outputs": [
    {
     "data": {
      "text/plain": [
       "0.9405684754521964"
      ]
     },
     "execution_count": 84,
     "metadata": {},
     "output_type": "execute_result"
    }
   ],
   "source": [
    "scores[1]"
   ]
  },
  {
   "cell_type": "markdown",
   "metadata": {},
   "source": [
    "Confusion Matrix"
   ]
  },
  {
   "cell_type": "code",
   "execution_count": 85,
   "metadata": {},
   "outputs": [
    {
     "name": "stdout",
     "output_type": "stream",
     "text": [
      "Accuracy: 0.9405684754521964\n",
      "Precision: 0.9534883720930233\n",
      "Recall: 0.9162011173184358\n",
      "F1: 0.9344729344729346\n"
     ]
    }
   ],
   "source": [
    "pred_bin = cnn_prob > .5\n",
    "\n",
    "# metrics\n",
    "cm = mets.confusion_matrix(y_test, pred_bin)\n",
    "\n",
    "def printMet(met_name, fn):\n",
    "    print(met_name + \": \" + str(fn(y_test, pred_bin)))\n",
    "\n",
    "printMet(\"Accuracy\", mets.accuracy_score)\n",
    "printMet(\"Precision\", mets.precision_score)\n",
    "printMet(\"Recall\", mets.recall_score)\n",
    "printMet(\"F1\", mets.f1_score)"
   ]
  },
  {
   "cell_type": "code",
   "execution_count": 86,
   "metadata": {},
   "outputs": [
    {
     "data": {
      "text/plain": [
       "array([[200,   8],\n",
       "       [ 15, 164]], dtype=int64)"
      ]
     },
     "execution_count": 86,
     "metadata": {},
     "output_type": "execute_result"
    }
   ],
   "source": [
    "cm"
   ]
  },
  {
   "cell_type": "code",
   "execution_count": 87,
   "metadata": {
    "scrolled": true
   },
   "outputs": [
    {
     "data": {
      "text/plain": [
       "<sklearn.metrics._plot.precision_recall_curve.PrecisionRecallDisplay at 0x1e7bb3997f0>"
      ]
     },
     "execution_count": 87,
     "metadata": {},
     "output_type": "execute_result"
    },
    {
     "data": {
      "image/png": "[encoded data removed]",
      "text/plain": [
       "<Figure size 432x288 with 1 Axes>"
      ]
     },
     "metadata": {
      "needs_background": "light"
     },
     "output_type": "display_data"
    }
   ],
   "source": [
    "#Scikit-learn expects certain attributes for PR and AUROC plot\n",
    "model._estimator_type = \"classifier\"\n",
    "model.predict_proba = lambda X: np.concatenate( \n",
    "    (model.predict(X), 1-model.predict(X))\n",
    "    , axis = 1)\n",
    "model.classes_ = [1, 0]\n",
    "\n",
    "mets.plot_precision_recall_curve(model, X_test_pad, y_test)"
   ]
  },
  {
   "cell_type": "code",
   "execution_count": 88,
   "metadata": {},
   "outputs": [
    {
     "data": {
      "text/plain": [
       "<sklearn.metrics._plot.roc_curve.RocCurveDisplay at 0x1e7bb3ec358>"
      ]
     },
     "execution_count": 88,
     "metadata": {},
     "output_type": "execute_result"
    },
    {
     "data": {
      "image/png": "[encoded data removed]",
      "text/plain": [
       "<Figure size 432x288 with 1 Axes>"
      ]
     },
     "metadata": {
      "needs_background": "light"
     },
     "output_type": "display_data"
    }
   ],
   "source": [
    "mets.plot_roc_curve(model, X_test_pad, y_test)"
   ]
  },
  {
   "cell_type": "code",
   "execution_count": null,
   "metadata": {},
   "outputs": [],
   "source": []
  }
 ],
 "metadata": {
  "kernelspec": {
   "display_name": "Python 3",
   "language": "python",
   "name": "python3"
  },
  "language_info": {
   "codemirror_mode": {
    "name": "ipython",
    "version": 3
   },
   "file_extension": ".py",
   "mimetype": "text/x-python",
   "name": "python",
   "nbconvert_exporter": "python",
   "pygments_lexer": "ipython3",
   "version": "3.7.3"
  }
 },
 "nbformat": 4,
 "nbformat_minor": 2
}
