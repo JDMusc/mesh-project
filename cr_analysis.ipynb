{
 "cells": [
  {
   "cell_type": "code",
   "execution_count": 94,
   "metadata": {},
   "outputs": [],
   "source": [
    "%matplotlib inline\n",
    "import matplotlib.pyplot as plt\n",
    "import numpy as np\n",
    "import pandas as pd\n",
    "import sklearn.metrics as mets\n",
    "import timeit\n",
    "from toolz import pipe as p\n",
    "\n",
    "import utils"
   ]
  },
  {
   "cell_type": "code",
   "execution_count": 100,
   "metadata": {},
   "outputs": [
    {
     "data": {
      "text/plain": [
       "<module 'utils' from 'C:\\\\Users\\\\jod204\\\\projects\\\\mesh-project\\\\utils.py'>"
      ]
     },
     "execution_count": 100,
     "metadata": {},
     "output_type": "execute_result"
    }
   ],
   "source": [
    "from importlib import reload\n",
    "reload(utils)"
   ]
  },
  {
   "cell_type": "code",
   "execution_count": 51,
   "metadata": {},
   "outputs": [],
   "source": [
    "cr_data = pd.read_csv('pubmed_cr_abstracts.csv')"
   ]
  },
  {
   "cell_type": "code",
   "execution_count": 52,
   "metadata": {},
   "outputs": [
    {
     "data": {
      "text/plain": [
       "(1293, 5)"
      ]
     },
     "execution_count": 52,
     "metadata": {},
     "output_type": "execute_result"
    }
   ],
   "source": [
    "cr_data.shape"
   ]
  },
  {
   "cell_type": "code",
   "execution_count": 53,
   "metadata": {},
   "outputs": [
    {
     "data": {
      "text/plain": [
       "598"
      ]
     },
     "execution_count": 53,
     "metadata": {},
     "output_type": "execute_result"
    }
   ],
   "source": [
    "sum(cr_data.label)"
   ]
  },
  {
   "cell_type": "code",
   "execution_count": 54,
   "metadata": {},
   "outputs": [
    {
     "data": {
      "text/plain": [
       "695"
      ]
     },
     "execution_count": 54,
     "metadata": {},
     "output_type": "execute_result"
    }
   ],
   "source": [
    "sum(1-cr_data.label)"
   ]
  },
  {
   "cell_type": "code",
   "execution_count": 55,
   "metadata": {},
   "outputs": [
    {
     "data": {
      "text/plain": [
       "Index(['pmid', 'yr', 'title', 'abstract', 'label'], dtype='object')"
      ]
     },
     "execution_count": 55,
     "metadata": {},
     "output_type": "execute_result"
    }
   ],
   "source": [
    "cr_data.columns"
   ]
  },
  {
   "cell_type": "markdown",
   "metadata": {},
   "source": [
    "Merge title and abstract"
   ]
  },
  {
   "cell_type": "code",
   "execution_count": 56,
   "metadata": {},
   "outputs": [
    {
     "data": {
      "text/plain": [
       "numpy.int64"
      ]
     },
     "execution_count": 56,
     "metadata": {},
     "output_type": "execute_result"
    }
   ],
   "source": [
    "type(cr_data.pmid[0])"
   ]
  },
  {
   "cell_type": "code",
   "execution_count": 57,
   "metadata": {},
   "outputs": [
    {
     "name": "stderr",
     "output_type": "stream",
     "text": [
      "C:\\ProgramData\\Anaconda3\\lib\\site-packages\\ipykernel_launcher.py:2: SettingWithCopyWarning: \n",
      "A value is trying to be set on a copy of a slice from a DataFrame.\n",
      "Try using .loc[row_indexer,col_indexer] = value instead\n",
      "\n",
      "See the caveats in the documentation: http://pandas.pydata.org/pandas-docs/stable/user_guide/indexing.html#returning-a-view-versus-a-copy\n",
      "  \n"
     ]
    }
   ],
   "source": [
    "project_data = cr_data[['pmid', 'label']]\n",
    "project_data['txt'] = cr_data.title + ' . ' + cr_data.abstract"
   ]
  },
  {
   "cell_type": "code",
   "execution_count": 58,
   "metadata": {},
   "outputs": [
    {
     "data": {
      "text/plain": [
       "(1293, 3)"
      ]
     },
     "execution_count": 58,
     "metadata": {},
     "output_type": "execute_result"
    }
   ],
   "source": [
    "project_data.shape"
   ]
  },
  {
   "cell_type": "code",
   "execution_count": 59,
   "metadata": {},
   "outputs": [
    {
     "data": {
      "text/html": [
       "<div>\n",
       "<style scoped>\n",
       "    .dataframe tbody tr th:only-of-type {\n",
       "        vertical-align: middle;\n",
       "    }\n",
       "\n",
       "    .dataframe tbody tr th {\n",
       "        vertical-align: top;\n",
       "    }\n",
       "\n",
       "    .dataframe thead th {\n",
       "        text-align: right;\n",
       "    }\n",
       "</style>\n",
       "<table border=\"1\" class=\"dataframe\">\n",
       "  <thead>\n",
       "    <tr style=\"text-align: right;\">\n",
       "      <th></th>\n",
       "      <th>pmid</th>\n",
       "      <th>label</th>\n",
       "      <th>txt</th>\n",
       "    </tr>\n",
       "  </thead>\n",
       "  <tbody>\n",
       "    <tr>\n",
       "      <th>0</th>\n",
       "      <td>21218043</td>\n",
       "      <td>1</td>\n",
       "      <td>Acute liver failure associated with occupation...</td>\n",
       "    </tr>\n",
       "    <tr>\n",
       "      <th>1</th>\n",
       "      <td>26000001</td>\n",
       "      <td>0</td>\n",
       "      <td>A successful pregnancy during the treatment of...</td>\n",
       "    </tr>\n",
       "    <tr>\n",
       "      <th>2</th>\n",
       "      <td>23792523</td>\n",
       "      <td>1</td>\n",
       "      <td>AST 17600 U/l after liver transplantation, wha...</td>\n",
       "    </tr>\n",
       "    <tr>\n",
       "      <th>3</th>\n",
       "      <td>25034585</td>\n",
       "      <td>0</td>\n",
       "      <td>[Pulmonary benign metastasizing leiomyoma: a c...</td>\n",
       "    </tr>\n",
       "    <tr>\n",
       "      <th>4</th>\n",
       "      <td>25026126</td>\n",
       "      <td>0</td>\n",
       "      <td>Two novel mutations in acid a-glucosidase gene...</td>\n",
       "    </tr>\n",
       "  </tbody>\n",
       "</table>\n",
       "</div>"
      ],
      "text/plain": [
       "       pmid  label                                                txt\n",
       "0  21218043      1  Acute liver failure associated with occupation...\n",
       "1  26000001      0  A successful pregnancy during the treatment of...\n",
       "2  23792523      1  AST 17600 U/l after liver transplantation, wha...\n",
       "3  25034585      0  [Pulmonary benign metastasizing leiomyoma: a c...\n",
       "4  25026126      0  Two novel mutations in acid a-glucosidase gene..."
      ]
     },
     "execution_count": 59,
     "metadata": {},
     "output_type": "execute_result"
    }
   ],
   "source": [
    "project_data.head()\n"
   ]
  },
  {
   "cell_type": "code",
   "execution_count": 64,
   "metadata": {},
   "outputs": [
    {
     "data": {
      "text/plain": [
       "1076"
      ]
     },
     "execution_count": 64,
     "metadata": {},
     "output_type": "execute_result"
    }
   ],
   "source": [
    "len(project_data.loc[0, 'txt'])"
   ]
  },
  {
   "cell_type": "code",
   "execution_count": 65,
   "metadata": {},
   "outputs": [
    {
     "data": {
      "text/plain": [
       "1076"
      ]
     },
     "execution_count": 65,
     "metadata": {},
     "output_type": "execute_result"
    }
   ],
   "source": [
    "len(project_data.txt[0])"
   ]
  },
  {
   "cell_type": "code",
   "execution_count": 61,
   "metadata": {},
   "outputs": [
    {
     "name": "stdout",
     "output_type": "stream",
     "text": [
      "81\n",
      "992\n"
     ]
    }
   ],
   "source": [
    "cr_data.head()\n",
    "print(len(cr_data.loc[0, 'title']))\n",
    "print(len(cr_data.loc[0, 'abstract']))"
   ]
  },
  {
   "cell_type": "markdown",
   "metadata": {},
   "source": [
    "## Clean Data"
   ]
  },
  {
   "cell_type": "code",
   "execution_count": 67,
   "metadata": {},
   "outputs": [],
   "source": [
    "clean_data = project_data.dropna()"
   ]
  },
  {
   "cell_type": "code",
   "execution_count": 74,
   "metadata": {},
   "outputs": [
    {
     "data": {
      "text/plain": [
       "False"
      ]
     },
     "execution_count": 74,
     "metadata": {},
     "output_type": "execute_result"
    }
   ],
   "source": [
    "58 in clean_data.index"
   ]
  },
  {
   "cell_type": "code",
   "execution_count": 103,
   "metadata": {
    "scrolled": true
   },
   "outputs": [
    {
     "name": "stderr",
     "output_type": "stream",
     "text": [
      "C:\\ProgramData\\Anaconda3\\lib\\site-packages\\pandas\\core\\generic.py:5208: SettingWithCopyWarning: \n",
      "A value is trying to be set on a copy of a slice from a DataFrame.\n",
      "Try using .loc[row_indexer,col_indexer] = value instead\n",
      "\n",
      "See the caveats in the documentation: http://pandas.pydata.org/pandas-docs/stable/user_guide/indexing.html#returning-a-view-versus-a-copy\n",
      "  self[name] = value\n"
     ]
    }
   ],
   "source": [
    "#for i in clean_data.index:\n",
    "#    txt = clean_data.txt[i]\n",
    "#    try:\n",
    "#        utils.cleanTxt(txt)\n",
    "#    except:\n",
    "#        import pdb\n",
    "#        pdb.set_trace()\n",
    "\n",
    "clean_data.txt = [utils.cleanTxt(txt) for txt in clean_data.txt]"
   ]
  },
  {
   "cell_type": "code",
   "execution_count": 104,
   "metadata": {},
   "outputs": [
    {
     "data": {
      "text/plain": [
       "(1289, 3)"
      ]
     },
     "execution_count": 104,
     "metadata": {},
     "output_type": "execute_result"
    }
   ],
   "source": [
    "clean_data.shape"
   ]
  },
  {
   "cell_type": "code",
   "execution_count": 105,
   "metadata": {},
   "outputs": [
    {
     "data": {
      "text/plain": [
       "1110"
      ]
     },
     "execution_count": 105,
     "metadata": {},
     "output_type": "execute_result"
    }
   ],
   "source": [
    "len(txt)"
   ]
  },
  {
   "cell_type": "markdown",
   "metadata": {},
   "source": [
    "Traditional machine learning without </s\\>"
   ]
  },
  {
   "cell_type": "code",
   "execution_count": 106,
   "metadata": {},
   "outputs": [],
   "source": [
    "clean_data_tr = clean_data.copy()\n",
    "clean_data_tr.txt = [txt.replace('</s>', '') for txt in clean_data_tr.txt]"
   ]
  },
  {
   "cell_type": "code",
   "execution_count": 107,
   "metadata": {
    "scrolled": true
   },
   "outputs": [
    {
     "data": {
      "text/html": [
       "<div>\n",
       "<style scoped>\n",
       "    .dataframe tbody tr th:only-of-type {\n",
       "        vertical-align: middle;\n",
       "    }\n",
       "\n",
       "    .dataframe tbody tr th {\n",
       "        vertical-align: top;\n",
       "    }\n",
       "\n",
       "    .dataframe thead th {\n",
       "        text-align: right;\n",
       "    }\n",
       "</style>\n",
       "<table border=\"1\" class=\"dataframe\">\n",
       "  <thead>\n",
       "    <tr style=\"text-align: right;\">\n",
       "      <th></th>\n",
       "      <th>pmid</th>\n",
       "      <th>txt</th>\n",
       "    </tr>\n",
       "    <tr>\n",
       "      <th>label</th>\n",
       "      <th></th>\n",
       "      <th></th>\n",
       "    </tr>\n",
       "  </thead>\n",
       "  <tbody>\n",
       "    <tr>\n",
       "      <th>0</th>\n",
       "      <td>692</td>\n",
       "      <td>692</td>\n",
       "    </tr>\n",
       "    <tr>\n",
       "      <th>1</th>\n",
       "      <td>597</td>\n",
       "      <td>597</td>\n",
       "    </tr>\n",
       "  </tbody>\n",
       "</table>\n",
       "</div>"
      ],
      "text/plain": [
       "       pmid  txt\n",
       "label           \n",
       "0       692  692\n",
       "1       597  597"
      ]
     },
     "execution_count": 107,
     "metadata": {},
     "output_type": "execute_result"
    }
   ],
   "source": [
    "clean_data_tr.groupby('label').count()"
   ]
  },
  {
   "cell_type": "markdown",
   "metadata": {},
   "source": [
    "## Tokenize Text"
   ]
  },
  {
   "cell_type": "code",
   "execution_count": 108,
   "metadata": {},
   "outputs": [
    {
     "name": "stderr",
     "output_type": "stream",
     "text": [
      "Using TensorFlow backend.\n",
      "C:\\ProgramData\\Anaconda3\\lib\\site-packages\\tensorflow\\python\\framework\\dtypes.py:526: FutureWarning: Passing (type, 1) or '1type' as a synonym of type is deprecated; in a future version of numpy, it will be understood as (type, (1,)) / '(1,)type'.\n",
      "  _np_qint8 = np.dtype([(\"qint8\", np.int8, 1)])\n",
      "C:\\ProgramData\\Anaconda3\\lib\\site-packages\\tensorflow\\python\\framework\\dtypes.py:527: FutureWarning: Passing (type, 1) or '1type' as a synonym of type is deprecated; in a future version of numpy, it will be understood as (type, (1,)) / '(1,)type'.\n",
      "  _np_quint8 = np.dtype([(\"quint8\", np.uint8, 1)])\n",
      "C:\\ProgramData\\Anaconda3\\lib\\site-packages\\tensorflow\\python\\framework\\dtypes.py:528: FutureWarning: Passing (type, 1) or '1type' as a synonym of type is deprecated; in a future version of numpy, it will be understood as (type, (1,)) / '(1,)type'.\n",
      "  _np_qint16 = np.dtype([(\"qint16\", np.int16, 1)])\n",
      "C:\\ProgramData\\Anaconda3\\lib\\site-packages\\tensorflow\\python\\framework\\dtypes.py:529: FutureWarning: Passing (type, 1) or '1type' as a synonym of type is deprecated; in a future version of numpy, it will be understood as (type, (1,)) / '(1,)type'.\n",
      "  _np_quint16 = np.dtype([(\"quint16\", np.uint16, 1)])\n",
      "C:\\ProgramData\\Anaconda3\\lib\\site-packages\\tensorflow\\python\\framework\\dtypes.py:530: FutureWarning: Passing (type, 1) or '1type' as a synonym of type is deprecated; in a future version of numpy, it will be understood as (type, (1,)) / '(1,)type'.\n",
      "  _np_qint32 = np.dtype([(\"qint32\", np.int32, 1)])\n",
      "C:\\ProgramData\\Anaconda3\\lib\\site-packages\\tensorflow\\python\\framework\\dtypes.py:535: FutureWarning: Passing (type, 1) or '1type' as a synonym of type is deprecated; in a future version of numpy, it will be understood as (type, (1,)) / '(1,)type'.\n",
      "  np_resource = np.dtype([(\"resource\", np.ubyte, 1)])\n"
     ]
    }
   ],
   "source": [
    "import keras"
   ]
  },
  {
   "cell_type": "markdown",
   "metadata": {},
   "source": [
    "__Check using GPU__"
   ]
  },
  {
   "cell_type": "code",
   "execution_count": 109,
   "metadata": {
    "scrolled": true
   },
   "outputs": [
    {
     "name": "stdout",
     "output_type": "stream",
     "text": [
      "[name: \"/device:CPU:0\"\n",
      "device_type: \"CPU\"\n",
      "memory_limit: 268435456\n",
      "locality {\n",
      "}\n",
      "incarnation: 8238111898262044863\n",
      ", name: \"/device:GPU:0\"\n",
      "device_type: \"GPU\"\n",
      "memory_limit: 9121682555\n",
      "locality {\n",
      "  bus_id: 1\n",
      "  links {\n",
      "  }\n",
      "}\n",
      "incarnation: 12342607751454811157\n",
      "physical_device_desc: \"device: 0, name: GeForce RTX 2080 Ti, pci bus id: 0000:17:00.0, compute capability: 7.5\"\n",
      ", name: \"/device:GPU:1\"\n",
      "device_type: \"GPU\"\n",
      "memory_limit: 9120835829\n",
      "locality {\n",
      "  bus_id: 1\n",
      "  links {\n",
      "  }\n",
      "}\n",
      "incarnation: 2007882800069411095\n",
      "physical_device_desc: \"device: 1, name: GeForce RTX 2080 Ti, pci bus id: 0000:b3:00.0, compute capability: 7.5\"\n",
      "]\n"
     ]
    }
   ],
   "source": [
    "from tensorflow.python.client import device_lib\n",
    "print(device_lib.list_local_devices())"
   ]
  },
  {
   "cell_type": "markdown",
   "metadata": {},
   "source": [
    "GPU shown"
   ]
  },
  {
   "cell_type": "code",
   "execution_count": 110,
   "metadata": {},
   "outputs": [],
   "source": [
    "max_vocab = 20000\n",
    "tokenizer = keras.preprocessing.text.Tokenizer(num_words = max_vocab, filters = \"\")"
   ]
  },
  {
   "cell_type": "code",
   "execution_count": 111,
   "metadata": {},
   "outputs": [],
   "source": [
    "tokenizer.fit_on_texts(clean_data.txt)"
   ]
  },
  {
   "cell_type": "code",
   "execution_count": 112,
   "metadata": {},
   "outputs": [],
   "source": [
    "word_index = tokenizer.word_index\n",
    "vocab_size = len(word_index)"
   ]
  },
  {
   "cell_type": "code",
   "execution_count": 113,
   "metadata": {},
   "outputs": [
    {
     "data": {
      "text/plain": [
       "13853"
      ]
     },
     "execution_count": 113,
     "metadata": {},
     "output_type": "execute_result"
    }
   ],
   "source": [
    "vocab_size"
   ]
  },
  {
   "cell_type": "markdown",
   "metadata": {},
   "source": [
    "Get document word counts"
   ]
  },
  {
   "cell_type": "code",
   "execution_count": 114,
   "metadata": {},
   "outputs": [
    {
     "name": "stdout",
     "output_type": "stream",
     "text": [
      "(33, 561)\n",
      "159.0\n"
     ]
    }
   ],
   "source": [
    "data_explore = clean_data_tr.copy()\n",
    "\n",
    "# let's convert the sentences to sequences using the tokenizer\n",
    "data_seq = tokenizer.texts_to_sequences(clean_data.txt)\n",
    "word_counts = [len(sq) for sq in data_seq]\n",
    "\n",
    "# add field to data frame:\n",
    "data_explore['WordCnt'] = word_counts\n",
    "\n",
    "# use user friendly labels for plotting\n",
    "#levels(data_explore$label) <- c(\"CTL\", \"CIR\")\n",
    "\n",
    "# what's our word count range and median?\n",
    "minmax = lambda arr: (np.min(arr), np.max(arr))\n",
    "\n",
    "print(minmax(word_counts))\n",
    "print(np.median(word_counts))"
   ]
  },
  {
   "cell_type": "markdown",
   "metadata": {},
   "source": [
    "Close to R output of (32, 157) and 158."
   ]
  },
  {
   "cell_type": "code",
   "execution_count": 115,
   "metadata": {},
   "outputs": [
    {
     "name": "stdout",
     "output_type": "stream",
     "text": [
      "total words in corpus: 220107\n"
     ]
    }
   ],
   "source": [
    "print(\"total words in corpus: \" + str(sum(word_counts)))"
   ]
  },
  {
   "cell_type": "code",
   "execution_count": 116,
   "metadata": {},
   "outputs": [
    {
     "data": {
      "text/html": [
       "<div>\n",
       "<style scoped>\n",
       "    .dataframe tbody tr th:only-of-type {\n",
       "        vertical-align: middle;\n",
       "    }\n",
       "\n",
       "    .dataframe tbody tr th {\n",
       "        vertical-align: top;\n",
       "    }\n",
       "\n",
       "    .dataframe thead th {\n",
       "        text-align: right;\n",
       "    }\n",
       "</style>\n",
       "<table border=\"1\" class=\"dataframe\">\n",
       "  <thead>\n",
       "    <tr style=\"text-align: right;\">\n",
       "      <th></th>\n",
       "      <th>pmid</th>\n",
       "      <th>label</th>\n",
       "      <th>txt</th>\n",
       "      <th>WordCnt</th>\n",
       "    </tr>\n",
       "  </thead>\n",
       "  <tbody>\n",
       "    <tr>\n",
       "      <th>0</th>\n",
       "      <td>21218043</td>\n",
       "      <td>1</td>\n",
       "      <td>acute liver failure associated with occupation...</td>\n",
       "      <td>162</td>\n",
       "    </tr>\n",
       "    <tr>\n",
       "      <th>1</th>\n",
       "      <td>26000001</td>\n",
       "      <td>0</td>\n",
       "      <td>a successful pregnancy during the treatment of...</td>\n",
       "      <td>326</td>\n",
       "    </tr>\n",
       "    <tr>\n",
       "      <th>2</th>\n",
       "      <td>23792523</td>\n",
       "      <td>1</td>\n",
       "      <td>ast _lgnum_ u/l after liver transplantation wh...</td>\n",
       "      <td>219</td>\n",
       "    </tr>\n",
       "    <tr>\n",
       "      <th>3</th>\n",
       "      <td>25034585</td>\n",
       "      <td>0</td>\n",
       "      <td>pulmonary benign metastasizing leiomyoma a cli...</td>\n",
       "      <td>177</td>\n",
       "    </tr>\n",
       "    <tr>\n",
       "      <th>4</th>\n",
       "      <td>25026126</td>\n",
       "      <td>0</td>\n",
       "      <td>two novel mutations in acid a - glucosidase ge...</td>\n",
       "      <td>121</td>\n",
       "    </tr>\n",
       "  </tbody>\n",
       "</table>\n",
       "</div>"
      ],
      "text/plain": [
       "       pmid  label                                                txt  WordCnt\n",
       "0  21218043      1  acute liver failure associated with occupation...      162\n",
       "1  26000001      0  a successful pregnancy during the treatment of...      326\n",
       "2  23792523      1  ast _lgnum_ u/l after liver transplantation wh...      219\n",
       "3  25034585      0  pulmonary benign metastasizing leiomyoma a cli...      177\n",
       "4  25026126      0  two novel mutations in acid a - glucosidase ge...      121"
      ]
     },
     "execution_count": 116,
     "metadata": {},
     "output_type": "execute_result"
    }
   ],
   "source": [
    "data_explore.head()"
   ]
  },
  {
   "cell_type": "markdown",
   "metadata": {},
   "source": [
    "## Plots"
   ]
  },
  {
   "cell_type": "code",
   "execution_count": 119,
   "metadata": {},
   "outputs": [],
   "source": [
    "import wordcloud\n",
    "from wordcloud import WordCloud"
   ]
  },
  {
   "cell_type": "code",
   "execution_count": 120,
   "metadata": {
    "scrolled": true
   },
   "outputs": [],
   "source": [
    "word_list_to_string = lambda ws: ' '.join(ws)\n",
    "\n",
    "words = word_list_to_string(clean_data_tr.txt)\n",
    "\n",
    "min_word_count = 6\n",
    "view_word = lambda word: (\n",
    "    '_' not in word and \n",
    "    tokenizer.word_docs[word] > min_word_count - 1 and \n",
    "    '-' not in word\n",
    "    and word not in wordcloud.STOPWORDS\n",
    ")\n",
    "\n",
    "filtered_words = word_list_to_string(\n",
    "    [w for w in words.split(' ') if view_word(w)]\n",
    ")"
   ]
  },
  {
   "cell_type": "code",
   "execution_count": 121,
   "metadata": {},
   "outputs": [
    {
     "data": {
      "text/plain": [
       "1380824"
      ]
     },
     "execution_count": 121,
     "metadata": {},
     "output_type": "execute_result"
    }
   ],
   "source": [
    "len(words)"
   ]
  },
  {
   "cell_type": "code",
   "execution_count": 122,
   "metadata": {},
   "outputs": [
    {
     "data": {
      "text/plain": [
       "'cute liver failure associated with occupational exposure to tetrachloroethylene   tetrachloroethyle'"
      ]
     },
     "execution_count": 122,
     "metadata": {},
     "output_type": "execute_result"
    }
   ],
   "source": [
    "words[1:100]"
   ]
  },
  {
   "cell_type": "code",
   "execution_count": 123,
   "metadata": {},
   "outputs": [
    {
     "data": {
      "text/plain": [
       "840015"
      ]
     },
     "execution_count": 123,
     "metadata": {},
     "output_type": "execute_result"
    }
   ],
   "source": [
    "len(filtered_words)"
   ]
  },
  {
   "cell_type": "code",
   "execution_count": 124,
   "metadata": {},
   "outputs": [],
   "source": [
    "#https://www.geeksforgeeks.org/generating-word-cloud-python/\n",
    "wcloud = WordCloud(width = 800, height = 800, \n",
    "                background_color ='white', \n",
    "                stopwords = wordcloud.STOPWORDS, \n",
    "                min_font_size = 10).generate(filtered_words)  \n",
    " "
   ]
  },
  {
   "cell_type": "code",
   "execution_count": 125,
   "metadata": {},
   "outputs": [
    {
     "data": {
      "image/png": "[encoded data removed]",
      "text/plain": [
       "<Figure size 576x576 with 1 Axes>"
      ]
     },
     "metadata": {
      "needs_background": "light"
     },
     "output_type": "display_data"
    }
   ],
   "source": [
    "# plot the WordCloud image                        \n",
    "plt.figure(figsize = (8, 8), facecolor = None) \n",
    "plt.imshow(wcloud) \n",
    "plt.axis(\"off\") \n",
    "plt.tight_layout(pad = 0)"
   ]
  },
  {
   "cell_type": "code",
   "execution_count": 126,
   "metadata": {},
   "outputs": [
    {
     "data": {
      "text/plain": [
       "1049"
      ]
     },
     "execution_count": 126,
     "metadata": {},
     "output_type": "execute_result"
    }
   ],
   "source": [
    "tokenizer.word_counts['patients']"
   ]
  },
  {
   "cell_type": "markdown",
   "metadata": {},
   "source": [
    "## Compare Group Frequencies"
   ]
  },
  {
   "cell_type": "code",
   "execution_count": 127,
   "metadata": {},
   "outputs": [],
   "source": [
    "import pandas as pd\n",
    "from sklearn.feature_extraction.text import CountVectorizer"
   ]
  },
  {
   "cell_type": "code",
   "execution_count": 130,
   "metadata": {},
   "outputs": [],
   "source": [
    "count_vec = CountVectorizer()\n",
    "dfm_data = count_vec.fit_transform(clean_data_tr.txt)\n",
    "\n",
    "dfm = pd.DataFrame(dfm_data.toarray(), columns = count_vec.get_feature_names())"
   ]
  },
  {
   "cell_type": "code",
   "execution_count": 131,
   "metadata": {},
   "outputs": [
    {
     "data": {
      "text/html": [
       "<div>\n",
       "<style scoped>\n",
       "    .dataframe tbody tr th:only-of-type {\n",
       "        vertical-align: middle;\n",
       "    }\n",
       "\n",
       "    .dataframe tbody tr th {\n",
       "        vertical-align: top;\n",
       "    }\n",
       "\n",
       "    .dataframe thead th {\n",
       "        text-align: right;\n",
       "    }\n",
       "</style>\n",
       "<table border=\"1\" class=\"dataframe\">\n",
       "  <thead>\n",
       "    <tr style=\"text-align: right;\">\n",
       "      <th></th>\n",
       "      <th>03</th>\n",
       "      <th>05</th>\n",
       "      <th>08</th>\n",
       "      <th>10</th>\n",
       "      <th>11</th>\n",
       "      <th>12</th>\n",
       "      <th>13</th>\n",
       "      <th>14</th>\n",
       "      <th>15</th>\n",
       "      <th>16</th>\n",
       "      <th>...</th>\n",
       "      <th>zoonosis</th>\n",
       "      <th>zoonotic</th>\n",
       "      <th>zoster</th>\n",
       "      <th>zosteriform</th>\n",
       "      <th>zr</th>\n",
       "      <th>zurich</th>\n",
       "      <th>zygoma</th>\n",
       "      <th>zygomatic</th>\n",
       "      <th>zygomycetes</th>\n",
       "      <th>zygomycosis</th>\n",
       "    </tr>\n",
       "  </thead>\n",
       "  <tbody>\n",
       "    <tr>\n",
       "      <th>0</th>\n",
       "      <td>0</td>\n",
       "      <td>0</td>\n",
       "      <td>0</td>\n",
       "      <td>0</td>\n",
       "      <td>0</td>\n",
       "      <td>0</td>\n",
       "      <td>0</td>\n",
       "      <td>0</td>\n",
       "      <td>0</td>\n",
       "      <td>0</td>\n",
       "      <td>...</td>\n",
       "      <td>0</td>\n",
       "      <td>0</td>\n",
       "      <td>0</td>\n",
       "      <td>0</td>\n",
       "      <td>0</td>\n",
       "      <td>0</td>\n",
       "      <td>0</td>\n",
       "      <td>0</td>\n",
       "      <td>0</td>\n",
       "      <td>0</td>\n",
       "    </tr>\n",
       "    <tr>\n",
       "      <th>1</th>\n",
       "      <td>0</td>\n",
       "      <td>0</td>\n",
       "      <td>0</td>\n",
       "      <td>0</td>\n",
       "      <td>0</td>\n",
       "      <td>0</td>\n",
       "      <td>0</td>\n",
       "      <td>0</td>\n",
       "      <td>0</td>\n",
       "      <td>0</td>\n",
       "      <td>...</td>\n",
       "      <td>0</td>\n",
       "      <td>0</td>\n",
       "      <td>0</td>\n",
       "      <td>0</td>\n",
       "      <td>0</td>\n",
       "      <td>0</td>\n",
       "      <td>0</td>\n",
       "      <td>0</td>\n",
       "      <td>0</td>\n",
       "      <td>0</td>\n",
       "    </tr>\n",
       "    <tr>\n",
       "      <th>2</th>\n",
       "      <td>0</td>\n",
       "      <td>0</td>\n",
       "      <td>0</td>\n",
       "      <td>0</td>\n",
       "      <td>0</td>\n",
       "      <td>0</td>\n",
       "      <td>0</td>\n",
       "      <td>0</td>\n",
       "      <td>0</td>\n",
       "      <td>0</td>\n",
       "      <td>...</td>\n",
       "      <td>0</td>\n",
       "      <td>0</td>\n",
       "      <td>0</td>\n",
       "      <td>0</td>\n",
       "      <td>0</td>\n",
       "      <td>0</td>\n",
       "      <td>0</td>\n",
       "      <td>0</td>\n",
       "      <td>0</td>\n",
       "      <td>0</td>\n",
       "    </tr>\n",
       "    <tr>\n",
       "      <th>3</th>\n",
       "      <td>0</td>\n",
       "      <td>0</td>\n",
       "      <td>0</td>\n",
       "      <td>0</td>\n",
       "      <td>0</td>\n",
       "      <td>0</td>\n",
       "      <td>0</td>\n",
       "      <td>0</td>\n",
       "      <td>0</td>\n",
       "      <td>0</td>\n",
       "      <td>...</td>\n",
       "      <td>0</td>\n",
       "      <td>0</td>\n",
       "      <td>0</td>\n",
       "      <td>0</td>\n",
       "      <td>0</td>\n",
       "      <td>0</td>\n",
       "      <td>0</td>\n",
       "      <td>0</td>\n",
       "      <td>0</td>\n",
       "      <td>0</td>\n",
       "    </tr>\n",
       "    <tr>\n",
       "      <th>4</th>\n",
       "      <td>0</td>\n",
       "      <td>0</td>\n",
       "      <td>0</td>\n",
       "      <td>0</td>\n",
       "      <td>0</td>\n",
       "      <td>0</td>\n",
       "      <td>0</td>\n",
       "      <td>0</td>\n",
       "      <td>0</td>\n",
       "      <td>0</td>\n",
       "      <td>...</td>\n",
       "      <td>0</td>\n",
       "      <td>0</td>\n",
       "      <td>0</td>\n",
       "      <td>0</td>\n",
       "      <td>0</td>\n",
       "      <td>0</td>\n",
       "      <td>0</td>\n",
       "      <td>0</td>\n",
       "      <td>0</td>\n",
       "      <td>0</td>\n",
       "    </tr>\n",
       "  </tbody>\n",
       "</table>\n",
       "<p>5 rows × 13660 columns</p>\n",
       "</div>"
      ],
      "text/plain": [
       "   03  05  08  10  11  12  13  14  15  16  ...  zoonosis  zoonotic  zoster  \\\n",
       "0   0   0   0   0   0   0   0   0   0   0  ...         0         0       0   \n",
       "1   0   0   0   0   0   0   0   0   0   0  ...         0         0       0   \n",
       "2   0   0   0   0   0   0   0   0   0   0  ...         0         0       0   \n",
       "3   0   0   0   0   0   0   0   0   0   0  ...         0         0       0   \n",
       "4   0   0   0   0   0   0   0   0   0   0  ...         0         0       0   \n",
       "\n",
       "   zosteriform  zr  zurich  zygoma  zygomatic  zygomycetes  zygomycosis  \n",
       "0            0   0       0       0          0            0            0  \n",
       "1            0   0       0       0          0            0            0  \n",
       "2            0   0       0       0          0            0            0  \n",
       "3            0   0       0       0          0            0            0  \n",
       "4            0   0       0       0          0            0            0  \n",
       "\n",
       "[5 rows x 13660 columns]"
      ]
     },
     "execution_count": 131,
     "metadata": {},
     "output_type": "execute_result"
    }
   ],
   "source": [
    "dfm.head()"
   ]
  },
  {
   "cell_type": "code",
   "execution_count": 132,
   "metadata": {},
   "outputs": [
    {
     "data": {
      "text/plain": [
       "1"
      ]
     },
     "execution_count": 132,
     "metadata": {},
     "output_type": "execute_result"
    }
   ],
   "source": [
    "tokenizer.word_counts['zoonotic']"
   ]
  },
  {
   "cell_type": "code",
   "execution_count": 133,
   "metadata": {},
   "outputs": [
    {
     "data": {
      "text/plain": [
       "(1289, 13660)"
      ]
     },
     "execution_count": 133,
     "metadata": {},
     "output_type": "execute_result"
    }
   ],
   "source": [
    "dfm.shape"
   ]
  },
  {
   "cell_type": "code",
   "execution_count": 134,
   "metadata": {},
   "outputs": [],
   "source": [
    "from sklearn import feature_selection"
   ]
  },
  {
   "cell_type": "code",
   "execution_count": 135,
   "metadata": {},
   "outputs": [],
   "source": [
    "(chi_features_stat, chi_features_p) = feature_selection.chi2(dfm_data, clean_data.label)"
   ]
  },
  {
   "cell_type": "code",
   "execution_count": 136,
   "metadata": {},
   "outputs": [
    {
     "data": {
      "text/plain": [
       "(array([7150], dtype=int64),)"
      ]
     },
     "execution_count": 136,
     "metadata": {},
     "output_type": "execute_result"
    }
   ],
   "source": [
    "np.where(dfm.columns == \"liver\")"
   ]
  },
  {
   "cell_type": "code",
   "execution_count": 137,
   "metadata": {},
   "outputs": [
    {
     "data": {
      "text/plain": [
       "0.010922870615117992"
      ]
     },
     "execution_count": 137,
     "metadata": {},
     "output_type": "execute_result"
    }
   ],
   "source": [
    "chi_features_stat[7452]"
   ]
  },
  {
   "cell_type": "code",
   "execution_count": 138,
   "metadata": {},
   "outputs": [
    {
     "data": {
      "text/plain": [
       "0.91676261882336"
      ]
     },
     "execution_count": 138,
     "metadata": {},
     "output_type": "execute_result"
    }
   ],
   "source": [
    "chi_features_p[7452]"
   ]
  },
  {
   "cell_type": "code",
   "execution_count": 139,
   "metadata": {},
   "outputs": [],
   "source": [
    "keyness_df = pd.DataFrame(dfm.columns,\n",
    "                          columns=['term'])\n",
    "keyness_df['chi2_stat'] = chi_features_stat\n",
    "keyness_df['chi2_p'] = chi_features_p"
   ]
  },
  {
   "cell_type": "code",
   "execution_count": 140,
   "metadata": {},
   "outputs": [
    {
     "data": {
      "text/html": [
       "<div>\n",
       "<style scoped>\n",
       "    .dataframe tbody tr th:only-of-type {\n",
       "        vertical-align: middle;\n",
       "    }\n",
       "\n",
       "    .dataframe tbody tr th {\n",
       "        vertical-align: top;\n",
       "    }\n",
       "\n",
       "    .dataframe thead th {\n",
       "        text-align: right;\n",
       "    }\n",
       "</style>\n",
       "<table border=\"1\" class=\"dataframe\">\n",
       "  <thead>\n",
       "    <tr style=\"text-align: right;\">\n",
       "      <th></th>\n",
       "      <th>term</th>\n",
       "      <th>chi2_stat</th>\n",
       "      <th>chi2_p</th>\n",
       "    </tr>\n",
       "  </thead>\n",
       "  <tbody>\n",
       "    <tr>\n",
       "      <th>7150</th>\n",
       "      <td>liver</td>\n",
       "      <td>1605.464603</td>\n",
       "      <td>0.000000e+00</td>\n",
       "    </tr>\n",
       "    <tr>\n",
       "      <th>2097</th>\n",
       "      <td>cirrhosis</td>\n",
       "      <td>1032.533793</td>\n",
       "      <td>1.523015e-226</td>\n",
       "    </tr>\n",
       "    <tr>\n",
       "      <th>5570</th>\n",
       "      <td>hepatitis</td>\n",
       "      <td>378.819289</td>\n",
       "      <td>2.249166e-84</td>\n",
       "    </tr>\n",
       "    <tr>\n",
       "      <th>12695</th>\n",
       "      <td>transplantation</td>\n",
       "      <td>353.348847</td>\n",
       "      <td>7.904793e-79</td>\n",
       "    </tr>\n",
       "    <tr>\n",
       "      <th>9605</th>\n",
       "      <td>portal</td>\n",
       "      <td>330.205676</td>\n",
       "      <td>8.669436e-74</td>\n",
       "    </tr>\n",
       "    <tr>\n",
       "      <th>5563</th>\n",
       "      <td>hepatic</td>\n",
       "      <td>308.648696</td>\n",
       "      <td>4.301295e-69</td>\n",
       "    </tr>\n",
       "    <tr>\n",
       "      <th>1394</th>\n",
       "      <td>biliary</td>\n",
       "      <td>210.868673</td>\n",
       "      <td>8.878669e-48</td>\n",
       "    </tr>\n",
       "    <tr>\n",
       "      <th>3552</th>\n",
       "      <td>donor</td>\n",
       "      <td>181.208454</td>\n",
       "      <td>2.639797e-41</td>\n",
       "    </tr>\n",
       "    <tr>\n",
       "      <th>13256</th>\n",
       "      <td>vein</td>\n",
       "      <td>166.617678</td>\n",
       "      <td>4.054544e-38</td>\n",
       "    </tr>\n",
       "    <tr>\n",
       "      <th>9143</th>\n",
       "      <td>pbc</td>\n",
       "      <td>150.686767</td>\n",
       "      <td>1.227018e-34</td>\n",
       "    </tr>\n",
       "    <tr>\n",
       "      <th>5578</th>\n",
       "      <td>hepatocellular</td>\n",
       "      <td>139.077151</td>\n",
       "      <td>4.236664e-32</td>\n",
       "    </tr>\n",
       "    <tr>\n",
       "      <th>5423</th>\n",
       "      <td>hcc</td>\n",
       "      <td>132.796600</td>\n",
       "      <td>1.001660e-30</td>\n",
       "    </tr>\n",
       "    <tr>\n",
       "      <th>1458</th>\n",
       "      <td>bleeding</td>\n",
       "      <td>130.179997</td>\n",
       "      <td>3.742540e-30</td>\n",
       "    </tr>\n",
       "    <tr>\n",
       "      <th>1022</th>\n",
       "      <td>ascites</td>\n",
       "      <td>128.715776</td>\n",
       "      <td>7.825961e-30</td>\n",
       "    </tr>\n",
       "    <tr>\n",
       "      <th>2098</th>\n",
       "      <td>cirrhotic</td>\n",
       "      <td>121.816227</td>\n",
       "      <td>2.532416e-28</td>\n",
       "    </tr>\n",
       "    <tr>\n",
       "      <th>4672</th>\n",
       "      <td>fibrosis</td>\n",
       "      <td>120.031198</td>\n",
       "      <td>6.227357e-28</td>\n",
       "    </tr>\n",
       "    <tr>\n",
       "      <th>505</th>\n",
       "      <td>alcoholic</td>\n",
       "      <td>115.432141</td>\n",
       "      <td>6.328803e-27</td>\n",
       "    </tr>\n",
       "    <tr>\n",
       "      <th>12694</th>\n",
       "      <td>transplant</td>\n",
       "      <td>110.515393</td>\n",
       "      <td>7.555644e-26</td>\n",
       "    </tr>\n",
       "    <tr>\n",
       "      <th>13208</th>\n",
       "      <td>varices</td>\n",
       "      <td>108.508727</td>\n",
       "      <td>2.079328e-25</td>\n",
       "    </tr>\n",
       "  </tbody>\n",
       "</table>\n",
       "</div>"
      ],
      "text/plain": [
       "                  term    chi2_stat         chi2_p\n",
       "7150             liver  1605.464603   0.000000e+00\n",
       "2097         cirrhosis  1032.533793  1.523015e-226\n",
       "5570         hepatitis   378.819289   2.249166e-84\n",
       "12695  transplantation   353.348847   7.904793e-79\n",
       "9605            portal   330.205676   8.669436e-74\n",
       "5563           hepatic   308.648696   4.301295e-69\n",
       "1394           biliary   210.868673   8.878669e-48\n",
       "3552             donor   181.208454   2.639797e-41\n",
       "13256             vein   166.617678   4.054544e-38\n",
       "9143               pbc   150.686767   1.227018e-34\n",
       "5578    hepatocellular   139.077151   4.236664e-32\n",
       "5423               hcc   132.796600   1.001660e-30\n",
       "1458          bleeding   130.179997   3.742540e-30\n",
       "1022           ascites   128.715776   7.825961e-30\n",
       "2098         cirrhotic   121.816227   2.532416e-28\n",
       "4672          fibrosis   120.031198   6.227357e-28\n",
       "505          alcoholic   115.432141   6.328803e-27\n",
       "12694       transplant   110.515393   7.555644e-26\n",
       "13208          varices   108.508727   2.079328e-25"
      ]
     },
     "execution_count": 140,
     "metadata": {},
     "output_type": "execute_result"
    }
   ],
   "source": [
    "keyness_df.sort_values(by='chi2_stat', ascending=False).head(19)"
   ]
  },
  {
   "cell_type": "code",
   "execution_count": 141,
   "metadata": {},
   "outputs": [
    {
     "data": {
      "text/html": [
       "<div>\n",
       "<style scoped>\n",
       "    .dataframe tbody tr th:only-of-type {\n",
       "        vertical-align: middle;\n",
       "    }\n",
       "\n",
       "    .dataframe tbody tr th {\n",
       "        vertical-align: top;\n",
       "    }\n",
       "\n",
       "    .dataframe thead th {\n",
       "        text-align: right;\n",
       "    }\n",
       "</style>\n",
       "<table border=\"1\" class=\"dataframe\">\n",
       "  <thead>\n",
       "    <tr style=\"text-align: right;\">\n",
       "      <th></th>\n",
       "      <th>term</th>\n",
       "      <th>chi2_stat</th>\n",
       "      <th>chi2_p</th>\n",
       "    </tr>\n",
       "  </thead>\n",
       "  <tbody>\n",
       "    <tr>\n",
       "      <th>7545</th>\n",
       "      <td>melanoma</td>\n",
       "      <td>25.018786</td>\n",
       "      <td>5.677444e-07</td>\n",
       "    </tr>\n",
       "    <tr>\n",
       "      <th>11003</th>\n",
       "      <td>sarcoma</td>\n",
       "      <td>26.744220</td>\n",
       "      <td>2.322454e-07</td>\n",
       "    </tr>\n",
       "    <tr>\n",
       "      <th>8238</th>\n",
       "      <td>nerve</td>\n",
       "      <td>73.101548</td>\n",
       "      <td>1.231479e-17</td>\n",
       "    </tr>\n",
       "  </tbody>\n",
       "</table>\n",
       "</div>"
      ],
      "text/plain": [
       "           term  chi2_stat        chi2_p\n",
       "7545   melanoma  25.018786  5.677444e-07\n",
       "11003   sarcoma  26.744220  2.322454e-07\n",
       "8238      nerve  73.101548  1.231479e-17"
      ]
     },
     "execution_count": 141,
     "metadata": {},
     "output_type": "execute_result"
    }
   ],
   "source": [
    "\n",
    "keyness_df[\n",
    "    [t in (\"nerve\", \"melanoma\", \"sarcoma\") for t in keyness_df.term]].sort_values(by = 'chi2_stat')"
   ]
  },
  {
   "cell_type": "code",
   "execution_count": 142,
   "metadata": {},
   "outputs": [
    {
     "data": {
      "text/plain": [
       "0.0016750418760469012"
      ]
     },
     "execution_count": 142,
     "metadata": {},
     "output_type": "execute_result"
    }
   ],
   "source": [
    "case_rows = [l == 1 for l in clean_data.label]\n",
    "\n",
    "np.mean(dfm.nerve[case_rows])"
   ]
  },
  {
   "cell_type": "code",
   "execution_count": 143,
   "metadata": {},
   "outputs": [
    {
     "data": {
      "text/plain": [
       "0.12716763005780346"
      ]
     },
     "execution_count": 143,
     "metadata": {},
     "output_type": "execute_result"
    }
   ],
   "source": [
    "np.mean(dfm.nerve[np.logical_not(case_rows)])"
   ]
  },
  {
   "cell_type": "markdown",
   "metadata": {},
   "source": [
    "## Deep Learning"
   ]
  },
  {
   "cell_type": "code",
   "execution_count": 144,
   "metadata": {},
   "outputs": [],
   "source": [
    "from sklearn.model_selection import train_test_split"
   ]
  },
  {
   "cell_type": "code",
   "execution_count": 146,
   "metadata": {},
   "outputs": [],
   "source": [
    "(X_train, X_test, y_train, y_test) =  train_test_split(\n",
    "    clean_data.txt, clean_data.label, \n",
    "                            test_size = .3, stratify = clean_data.label)"
   ]
  },
  {
   "cell_type": "code",
   "execution_count": 147,
   "metadata": {},
   "outputs": [],
   "source": [
    "seq_train = tokenizer.texts_to_sequences(X_train.values)\n",
    "seq_test = tokenizer.texts_to_sequences(X_test.values)"
   ]
  },
  {
   "cell_type": "code",
   "execution_count": 148,
   "metadata": {},
   "outputs": [],
   "source": [
    "maxlen = np.max(word_counts) + 1"
   ]
  },
  {
   "cell_type": "code",
   "execution_count": 149,
   "metadata": {
    "scrolled": true
   },
   "outputs": [
    {
     "data": {
      "text/plain": [
       "562"
      ]
     },
     "execution_count": 149,
     "metadata": {},
     "output_type": "execute_result"
    }
   ],
   "source": [
    "maxlen"
   ]
  },
  {
   "cell_type": "markdown",
   "metadata": {},
   "source": [
    "Vocab Size"
   ]
  },
  {
   "cell_type": "code",
   "execution_count": 150,
   "metadata": {},
   "outputs": [
    {
     "data": {
      "text/plain": [
       "13853"
      ]
     },
     "execution_count": 150,
     "metadata": {},
     "output_type": "execute_result"
    }
   ],
   "source": [
    "len(tokenizer.word_index)"
   ]
  },
  {
   "cell_type": "code",
   "execution_count": 151,
   "metadata": {},
   "outputs": [],
   "source": [
    "X_train_pad = keras.preprocessing.sequence.pad_sequences(\n",
    "    seq_train, maxlen=maxlen)\n",
    "X_test_pad = keras.preprocessing.sequence.pad_sequences(\n",
    "    seq_test, maxlen=maxlen)"
   ]
  },
  {
   "cell_type": "markdown",
   "metadata": {},
   "source": [
    "Shape of data tensor"
   ]
  },
  {
   "cell_type": "code",
   "execution_count": 152,
   "metadata": {},
   "outputs": [
    {
     "data": {
      "text/plain": [
       "(902, 562)"
      ]
     },
     "execution_count": 152,
     "metadata": {},
     "output_type": "execute_result"
    }
   ],
   "source": [
    "X_train_pad.shape"
   ]
  },
  {
   "cell_type": "code",
   "execution_count": 153,
   "metadata": {},
   "outputs": [
    {
     "data": {
      "text/plain": [
       "array([0, 1], dtype=int64)"
      ]
     },
     "execution_count": 153,
     "metadata": {},
     "output_type": "execute_result"
    }
   ],
   "source": [
    "np.unique(y_train)"
   ]
  },
  {
   "cell_type": "code",
   "execution_count": 154,
   "metadata": {},
   "outputs": [
    {
     "data": {
      "text/plain": [
       "array([0, 1], dtype=int64)"
      ]
     },
     "execution_count": 154,
     "metadata": {},
     "output_type": "execute_result"
    }
   ],
   "source": [
    "np.unique(y_test)"
   ]
  },
  {
   "cell_type": "markdown",
   "metadata": {},
   "source": [
    "Comparable proportions"
   ]
  },
  {
   "cell_type": "code",
   "execution_count": 155,
   "metadata": {},
   "outputs": [
    {
     "data": {
      "text/plain": [
       "{0: 484, 1: 418}"
      ]
     },
     "execution_count": 155,
     "metadata": {},
     "output_type": "execute_result"
    }
   ],
   "source": [
    "{i:np.sum(y_train == i) for i in (0, 1)}"
   ]
  },
  {
   "cell_type": "code",
   "execution_count": 156,
   "metadata": {},
   "outputs": [
    {
     "data": {
      "text/plain": [
       "{0: 208, 1: 179}"
      ]
     },
     "execution_count": 156,
     "metadata": {},
     "output_type": "execute_result"
    }
   ],
   "source": [
    "{i:np.sum(y_test == i) for i in (0, 1)}"
   ]
  },
  {
   "cell_type": "markdown",
   "metadata": {},
   "source": [
    "## No Pre-training"
   ]
  },
  {
   "cell_type": "code",
   "execution_count": 158,
   "metadata": {},
   "outputs": [],
   "source": [
    "def buildCnn(EMBEDDING_DIM = 50,\n",
    "                      num_filters = 100,\n",
    "                      maxlen = 600,\n",
    "                      vocab_size = 10000,\n",
    "                      pre_trained = False,\n",
    "                      embedding_matrix = None,\n",
    "                      trainable_embed=True):\n",
    "    \n",
    "    hidden_dims = 128\n",
    "    filt_sz = (3, 4, 5)\n",
    "    \n",
    "    drop_rate = 0.2\n",
    "\n",
    "    inputs = keras.layers.Input(shape = [maxlen], name = \"input\")\n",
    "    if(not pre_trained):\n",
    "        embedding_lyr = p(inputs,\n",
    "                          keras.layers.Embedding(input_dim = vocab_size,\n",
    "                                                 output_dim = EMBEDDING_DIM,\n",
    "                                                 input_length = maxlen,\n",
    "                                                 name = \"embed\"),\n",
    "                          keras.layers.Dropout(drop_rate, name = \"drop1\")\n",
    "                         )\n",
    "    else:\n",
    "        embedding_lyr = p(inputs, \n",
    "                          keras.layers.Embedding(input_dim = vocab_size, \n",
    "                             output_dim = EMBEDDING_DIM, \n",
    "                             input_length = maxlen, \n",
    "                             trainable = trainable_embed, \n",
    "                             weights = embedding_matrix, \n",
    "                             name = \"embed\"),\n",
    "                          layer_dropout(drop_rate, name = \"drop1\")\n",
    "                         )\n",
    "    \n",
    "    # conv_ CNNs in parallel with different kernel sizes\n",
    "    conv_1 = p(embedding_lyr, \n",
    "               keras.layers.Convolution1D(\n",
    "                   num_filters, \n",
    "                   filt_sz[0], activation = \"relu\", name = \"conv1\"), \n",
    "               keras.layers.GlobalMaxPooling1D(name = \"maxp1_glob\")\n",
    "              )\n",
    "    \n",
    "    conv_2 = p(embedding_lyr, \n",
    "               keras.layers.Convolution1D(\n",
    "                   num_filters, \n",
    "                   filt_sz[1], activation = \"relu\", name = \"conv2\"), \n",
    "               keras.layers.GlobalMaxPooling1D(name = \"maxp2_glob\")\n",
    "              )\n",
    "    \n",
    "    conv_3 = p(embedding_lyr, \n",
    "               keras.layers.Convolution1D(\n",
    "                   num_filters, \n",
    "                   filt_sz[2], activation = \"relu\", name = \"conv3\"), \n",
    "               keras.layers.GlobalMaxPooling1D(name = \"maxp3_glob\")\n",
    "              )\n",
    "    \n",
    "    merged_tensor = p(\n",
    "        [conv_1, conv_2, conv_3],\n",
    "        keras.layers.Concatenate(axis=1, name = \"merged\")\n",
    "    )\n",
    "    \n",
    "    hidden = p(merged_tensor, \n",
    "             keras.layers.Dense(hidden_dims, \n",
    "                                activation = \"relu\", name = \"hidden\")\n",
    "            )\n",
    "    \n",
    "    dropout = p(hidden, \n",
    "              keras.layers.Dropout(drop_rate, name = \"drop2\"), \n",
    "              keras.layers.Activation(\"relu\", name = \"activ_solo\")\n",
    "             )\n",
    "    \n",
    "    output = p(dropout, \n",
    "               keras.layers.Dense(1, activation = \"sigmoid\", name = \"sigm\"))\n",
    "    \n",
    "    model = keras.models.Model(inputs = inputs, \n",
    "                             outputs = output)\n",
    "    \n",
    "    # Compile model\n",
    "    model.compile(\n",
    "        loss = \"binary_crossentropy\",\n",
    "        optimizer = \"adam\",\n",
    "        metrics = [\"accuracy\"]\n",
    "    )\n",
    "    \n",
    "    return(model)"
   ]
  },
  {
   "cell_type": "markdown",
   "metadata": {},
   "source": [
    "## Build Model"
   ]
  },
  {
   "cell_type": "code",
   "execution_count": 161,
   "metadata": {},
   "outputs": [
    {
     "name": "stdout",
     "output_type": "stream",
     "text": [
      "<keras.engine.training.Model object at 0x000002690F7676D8>\n"
     ]
    }
   ],
   "source": [
    "model = buildCnn(EMBEDDING_DIM = 200, num_filters = 100, maxlen = 562, vocab_size = vocab_size)\n",
    "print(model)"
   ]
  },
  {
   "cell_type": "markdown",
   "metadata": {},
   "source": [
    "## Train"
   ]
  },
  {
   "cell_type": "code",
   "execution_count": 162,
   "metadata": {},
   "outputs": [
    {
     "name": "stdout",
     "output_type": "stream",
     "text": [
      "WARNING:tensorflow:From C:\\ProgramData\\Anaconda3\\lib\\site-packages\\tensorflow\\python\\ops\\math_ops.py:3066: to_int32 (from tensorflow.python.ops.math_ops) is deprecated and will be removed in a future version.\n",
      "Instructions for updating:\n",
      "Use tf.cast instead.\n",
      "WARNING:tensorflow:From C:\\ProgramData\\Anaconda3\\lib\\site-packages\\tensorflow\\python\\ops\\math_grad.py:102: div (from tensorflow.python.ops.math_ops) is deprecated and will be removed in a future version.\n",
      "Instructions for updating:\n",
      "Deprecated in favor of operator or tf.math.divide.\n",
      "Train on 811 samples, validate on 91 samples\n",
      "Epoch 1/100\n",
      "811/811 [==============================] - 3s 4ms/step - loss: 0.6892 - acc: 0.5277 - val_loss: 0.6778 - val_acc: 0.5275\n",
      "Epoch 2/100\n",
      "811/811 [==============================] - 0s 309us/step - loss: 0.6515 - acc: 0.7583 - val_loss: 0.6067 - val_acc: 0.8132\n",
      "Epoch 3/100\n",
      "811/811 [==============================] - 0s 310us/step - loss: 0.5001 - acc: 0.8878 - val_loss: 0.3680 - val_acc: 0.9121\n",
      "Epoch 4/100\n",
      "811/811 [==============================] - 0s 325us/step - loss: 0.2405 - acc: 0.9383 - val_loss: 0.2094 - val_acc: 0.9121\n",
      "Epoch 5/100\n",
      "811/811 [==============================] - 0s 311us/step - loss: 0.1447 - acc: 0.9457 - val_loss: 0.1856 - val_acc: 0.9341\n",
      "Epoch 6/100\n",
      "811/811 [==============================] - 0s 312us/step - loss: 0.1015 - acc: 0.9667 - val_loss: 0.1852 - val_acc: 0.9341\n",
      "Epoch 7/100\n",
      "811/811 [==============================] - 0s 308us/step - loss: 0.0696 - acc: 0.9790 - val_loss: 0.1954 - val_acc: 0.9341\n",
      "Epoch 8/100\n",
      "811/811 [==============================] - 0s 308us/step - loss: 0.0532 - acc: 0.9852 - val_loss: 0.2047 - val_acc: 0.9451\n",
      "Epoch 9/100\n",
      "811/811 [==============================] - ETA: 0s - loss: 0.0387 - acc: 0.992 - 0s 323us/step - loss: 0.0392 - acc: 0.9926 - val_loss: 0.2171 - val_acc: 0.9451\n",
      "Epoch 10/100\n",
      "811/811 [==============================] - 0s 313us/step - loss: 0.0264 - acc: 0.9988 - val_loss: 0.2231 - val_acc: 0.9451\n",
      "Epoch 11/100\n",
      "811/811 [==============================] - 0s 313us/step - loss: 0.0211 - acc: 0.9975 - val_loss: 0.2317 - val_acc: 0.9451\n",
      "Epoch 12/100\n",
      "811/811 [==============================] - 0s 322us/step - loss: 0.0162 - acc: 0.9988 - val_loss: 0.2389 - val_acc: 0.9451\n",
      "Epoch 13/100\n",
      "811/811 [==============================] - 0s 312us/step - loss: 0.0099 - acc: 0.9988 - val_loss: 0.2467 - val_acc: 0.9451\n",
      "Epoch 14/100\n",
      "811/811 [==============================] - 0s 316us/step - loss: 0.0078 - acc: 0.9988 - val_loss: 0.2503 - val_acc: 0.9451\n",
      "Epoch 15/100\n",
      "811/811 [==============================] - 0s 317us/step - loss: 0.0048 - acc: 1.0000 - val_loss: 0.2547 - val_acc: 0.9451\n",
      "Epoch 16/100\n",
      "811/811 [==============================] - 0s 314us/step - loss: 0.0037 - acc: 1.0000 - val_loss: 0.2642 - val_acc: 0.9451\n",
      "Epoch 17/100\n",
      "811/811 [==============================] - 0s 312us/step - loss: 0.0028 - acc: 1.0000 - val_loss: 0.2707 - val_acc: 0.9451\n",
      "Epoch 18/100\n",
      "811/811 [==============================] - 0s 310us/step - loss: 0.0024 - acc: 1.0000 - val_loss: 0.2780 - val_acc: 0.9451\n",
      "Epoch 19/100\n",
      "811/811 [==============================] - 0s 302us/step - loss: 0.0020 - acc: 1.0000 - val_loss: 0.2819 - val_acc: 0.9451\n",
      "Epoch 20/100\n",
      "811/811 [==============================] - 0s 335us/step - loss: 0.0016 - acc: 1.0000 - val_loss: 0.2866 - val_acc: 0.9451\n",
      "Epoch 21/100\n",
      "811/811 [==============================] - 0s 312us/step - loss: 0.0015 - acc: 1.0000 - val_loss: 0.2938 - val_acc: 0.9451\n",
      "Epoch 22/100\n",
      "811/811 [==============================] - 0s 302us/step - loss: 0.0013 - acc: 1.0000 - val_loss: 0.2986 - val_acc: 0.9451\n",
      "Epoch 23/100\n",
      "811/811 [==============================] - 0s 328us/step - loss: 0.0012 - acc: 1.0000 - val_loss: 0.3037 - val_acc: 0.9451\n",
      "Epoch 24/100\n",
      "811/811 [==============================] - 0s 316us/step - loss: 0.0011 - acc: 1.0000 - val_loss: 0.3078 - val_acc: 0.9451\n",
      "Epoch 25/100\n",
      "811/811 [==============================] - 0s 303us/step - loss: 8.6798e-04 - acc: 1.0000 - val_loss: 0.3124 - val_acc: 0.9451\n",
      "Epoch 26/100\n",
      "811/811 [==============================] - 0s 320us/step - loss: 8.5207e-04 - acc: 1.0000 - val_loss: 0.3166 - val_acc: 0.9451\n",
      "Epoch 27/100\n",
      "811/811 [==============================] - 0s 313us/step - loss: 7.4355e-04 - acc: 1.0000 - val_loss: 0.3213 - val_acc: 0.9451\n",
      "Epoch 28/100\n",
      "811/811 [==============================] - 0s 296us/step - loss: 6.0524e-04 - acc: 1.0000 - val_loss: 0.3256 - val_acc: 0.9451\n",
      "Epoch 29/100\n",
      "811/811 [==============================] - 0s 334us/step - loss: 5.4833e-04 - acc: 1.0000 - val_loss: 0.3294 - val_acc: 0.9451\n",
      "Epoch 30/100\n",
      "811/811 [==============================] - 0s 314us/step - loss: 5.8940e-04 - acc: 1.0000 - val_loss: 0.3341 - val_acc: 0.9451\n",
      "Epoch 31/100\n",
      "811/811 [==============================] - 0s 321us/step - loss: 4.6086e-04 - acc: 1.0000 - val_loss: 0.3388 - val_acc: 0.9451\n",
      "Epoch 32/100\n",
      "811/811 [==============================] - 0s 312us/step - loss: 4.0651e-04 - acc: 1.0000 - val_loss: 0.3441 - val_acc: 0.9451\n",
      "Epoch 33/100\n",
      "811/811 [==============================] - 0s 310us/step - loss: 3.6469e-04 - acc: 1.0000 - val_loss: 0.3479 - val_acc: 0.9451\n",
      "Epoch 34/100\n",
      "811/811 [==============================] - 0s 311us/step - loss: 3.9474e-04 - acc: 1.0000 - val_loss: 0.3538 - val_acc: 0.9451\n",
      "Epoch 35/100\n",
      "811/811 [==============================] - 0s 314us/step - loss: 3.0608e-04 - acc: 1.0000 - val_loss: 0.3559 - val_acc: 0.9451\n",
      "Epoch 36/100\n",
      "811/811 [==============================] - 0s 319us/step - loss: 2.5550e-04 - acc: 1.0000 - val_loss: 0.3586 - val_acc: 0.9451\n",
      "Epoch 37/100\n",
      "811/811 [==============================] - 0s 332us/step - loss: 2.6974e-04 - acc: 1.0000 - val_loss: 0.3632 - val_acc: 0.9451\n",
      "Epoch 38/100\n",
      "811/811 [==============================] - 0s 314us/step - loss: 2.4097e-04 - acc: 1.0000 - val_loss: 0.3656 - val_acc: 0.9451\n",
      "Epoch 39/100\n",
      "811/811 [==============================] - 0s 312us/step - loss: 2.3143e-04 - acc: 1.0000 - val_loss: 0.3693 - val_acc: 0.9451\n",
      "Epoch 40/100\n",
      "811/811 [==============================] - 0s 312us/step - loss: 1.7105e-04 - acc: 1.0000 - val_loss: 0.3717 - val_acc: 0.9451\n",
      "Epoch 41/100\n",
      "811/811 [==============================] - 0s 316us/step - loss: 2.3101e-04 - acc: 1.0000 - val_loss: 0.3774 - val_acc: 0.9560\n",
      "Epoch 42/100\n",
      "811/811 [==============================] - 0s 314us/step - loss: 1.5977e-04 - acc: 1.0000 - val_loss: 0.3800 - val_acc: 0.9451\n",
      "Epoch 43/100\n",
      "811/811 [==============================] - 0s 322us/step - loss: 1.8062e-04 - acc: 1.0000 - val_loss: 0.3836 - val_acc: 0.9560\n",
      "Epoch 44/100\n",
      "811/811 [==============================] - 0s 316us/step - loss: 1.6104e-04 - acc: 1.0000 - val_loss: 0.3848 - val_acc: 0.9451\n",
      "Epoch 45/100\n",
      "811/811 [==============================] - 0s 319us/step - loss: 1.6442e-04 - acc: 1.0000 - val_loss: 0.3869 - val_acc: 0.9451\n",
      "Epoch 46/100\n",
      "811/811 [==============================] - 0s 315us/step - loss: 1.4902e-04 - acc: 1.0000 - val_loss: 0.3908 - val_acc: 0.9451\n",
      "Epoch 47/100\n",
      "811/811 [==============================] - 0s 313us/step - loss: 1.4415e-04 - acc: 1.0000 - val_loss: 0.3919 - val_acc: 0.9451\n",
      "Epoch 48/100\n",
      "811/811 [==============================] - 0s 300us/step - loss: 1.4853e-04 - acc: 1.0000 - val_loss: 0.3959 - val_acc: 0.9560\n",
      "Epoch 49/100\n",
      "811/811 [==============================] - 0s 330us/step - loss: 1.1101e-04 - acc: 1.0000 - val_loss: 0.3988 - val_acc: 0.9560\n",
      "Epoch 50/100\n",
      "811/811 [==============================] - 0s 315us/step - loss: 1.0383e-04 - acc: 1.0000 - val_loss: 0.3991 - val_acc: 0.9451\n",
      "Epoch 51/100\n",
      "811/811 [==============================] - 0s 313us/step - loss: 1.1284e-04 - acc: 1.0000 - val_loss: 0.4017 - val_acc: 0.9451\n",
      "Epoch 52/100\n",
      "811/811 [==============================] - 0s 312us/step - loss: 9.4662e-05 - acc: 1.0000 - val_loss: 0.4037 - val_acc: 0.9451\n",
      "Epoch 53/100\n",
      "811/811 [==============================] - 0s 313us/step - loss: 1.0103e-04 - acc: 1.0000 - val_loss: 0.4048 - val_acc: 0.9451\n",
      "Epoch 54/100\n",
      "811/811 [==============================] - 0s 314us/step - loss: 9.8800e-05 - acc: 1.0000 - val_loss: 0.4071 - val_acc: 0.9451\n",
      "Epoch 55/100\n",
      "811/811 [==============================] - 0s 318us/step - loss: 8.7240e-05 - acc: 1.0000 - val_loss: 0.4102 - val_acc: 0.9451\n"
     ]
    },
    {
     "name": "stdout",
     "output_type": "stream",
     "text": [
      "Epoch 56/100\n",
      "811/811 [==============================] - 0s 316us/step - loss: 8.2624e-05 - acc: 1.0000 - val_loss: 0.4114 - val_acc: 0.9451\n",
      "Epoch 57/100\n",
      "811/811 [==============================] - 0s 313us/step - loss: 1.0767e-04 - acc: 1.0000 - val_loss: 0.4149 - val_acc: 0.9560\n",
      "Epoch 58/100\n",
      "811/811 [==============================] - 0s 312us/step - loss: 7.2372e-05 - acc: 1.0000 - val_loss: 0.4168 - val_acc: 0.9560\n",
      "Epoch 59/100\n",
      "811/811 [==============================] - 0s 316us/step - loss: 7.1358e-05 - acc: 1.0000 - val_loss: 0.4179 - val_acc: 0.9451\n",
      "Epoch 60/100\n",
      "811/811 [==============================] - 0s 305us/step - loss: 6.9149e-05 - acc: 1.0000 - val_loss: 0.4211 - val_acc: 0.9560\n",
      "Epoch 61/100\n",
      "811/811 [==============================] - 0s 315us/step - loss: 7.3794e-05 - acc: 1.0000 - val_loss: 0.4223 - val_acc: 0.9560\n",
      "Epoch 62/100\n",
      "811/811 [==============================] - 0s 312us/step - loss: 7.0935e-05 - acc: 1.0000 - val_loss: 0.4236 - val_acc: 0.9451\n",
      "Epoch 63/100\n",
      "811/811 [==============================] - 0s 310us/step - loss: 6.3733e-05 - acc: 1.0000 - val_loss: 0.4238 - val_acc: 0.9451\n",
      "Epoch 64/100\n",
      "811/811 [==============================] - 0s 330us/step - loss: 6.2339e-05 - acc: 1.0000 - val_loss: 0.4253 - val_acc: 0.9451\n",
      "Epoch 65/100\n",
      "811/811 [==============================] - 0s 312us/step - loss: 5.9840e-05 - acc: 1.0000 - val_loss: 0.4267 - val_acc: 0.9451\n",
      "Epoch 66/100\n",
      "811/811 [==============================] - 0s 314us/step - loss: 4.9390e-05 - acc: 1.0000 - val_loss: 0.4292 - val_acc: 0.9451\n",
      "Epoch 67/100\n",
      "811/811 [==============================] - 0s 325us/step - loss: 6.7450e-05 - acc: 1.0000 - val_loss: 0.4311 - val_acc: 0.9451\n",
      "Epoch 68/100\n",
      "811/811 [==============================] - 0s 313us/step - loss: 5.7447e-05 - acc: 1.0000 - val_loss: 0.4333 - val_acc: 0.9451\n",
      "Epoch 69/100\n",
      "811/811 [==============================] - 0s 314us/step - loss: 5.2359e-05 - acc: 1.0000 - val_loss: 0.4360 - val_acc: 0.9451\n",
      "Epoch 70/100\n",
      "811/811 [==============================] - 0s 312us/step - loss: 5.9498e-05 - acc: 1.0000 - val_loss: 0.4370 - val_acc: 0.9451\n",
      "Epoch 71/100\n",
      "811/811 [==============================] - 0s 313us/step - loss: 3.9712e-05 - acc: 1.0000 - val_loss: 0.4380 - val_acc: 0.9451\n",
      "Epoch 72/100\n",
      "811/811 [==============================] - 0s 312us/step - loss: 4.5085e-05 - acc: 1.0000 - val_loss: 0.4395 - val_acc: 0.9451\n",
      "Epoch 73/100\n",
      "811/811 [==============================] - 0s 318us/step - loss: 4.5680e-05 - acc: 1.0000 - val_loss: 0.4414 - val_acc: 0.9451\n",
      "Epoch 74/100\n",
      "811/811 [==============================] - 0s 312us/step - loss: 4.4190e-05 - acc: 1.0000 - val_loss: 0.4429 - val_acc: 0.9560\n",
      "Epoch 75/100\n",
      "811/811 [==============================] - 0s 311us/step - loss: 5.8026e-05 - acc: 1.0000 - val_loss: 0.4450 - val_acc: 0.9560\n",
      "Epoch 76/100\n",
      "811/811 [==============================] - 0s 311us/step - loss: 3.8356e-05 - acc: 1.0000 - val_loss: 0.4468 - val_acc: 0.9560\n",
      "Epoch 77/100\n",
      "811/811 [==============================] - 0s 316us/step - loss: 4.0701e-05 - acc: 1.0000 - val_loss: 0.4470 - val_acc: 0.9451\n",
      "Epoch 78/100\n",
      "811/811 [==============================] - 0s 314us/step - loss: 4.3162e-05 - acc: 1.0000 - val_loss: 0.4487 - val_acc: 0.9451\n",
      "Epoch 79/100\n",
      "811/811 [==============================] - 0s 313us/step - loss: 3.8903e-05 - acc: 1.0000 - val_loss: 0.4507 - val_acc: 0.9560\n",
      "Epoch 80/100\n",
      "811/811 [==============================] - 0s 365us/step - loss: 3.4246e-05 - acc: 1.0000 - val_loss: 0.4522 - val_acc: 0.9560\n",
      "Epoch 81/100\n",
      "811/811 [==============================] - 0s 318us/step - loss: 3.5998e-05 - acc: 1.0000 - val_loss: 0.4528 - val_acc: 0.9451\n",
      "Epoch 82/100\n",
      "811/811 [==============================] - 0s 317us/step - loss: 4.4764e-05 - acc: 1.0000 - val_loss: 0.4543 - val_acc: 0.9560\n",
      "Epoch 83/100\n",
      "811/811 [==============================] - 0s 317us/step - loss: 4.3469e-05 - acc: 1.0000 - val_loss: 0.4559 - val_acc: 0.9560\n",
      "Epoch 84/100\n",
      "811/811 [==============================] - 0s 312us/step - loss: 5.0172e-05 - acc: 1.0000 - val_loss: 0.4575 - val_acc: 0.9560\n",
      "Epoch 85/100\n",
      "811/811 [==============================] - 0s 312us/step - loss: 3.9509e-05 - acc: 1.0000 - val_loss: 0.4577 - val_acc: 0.9560\n",
      "Epoch 86/100\n",
      "811/811 [==============================] - 0s 317us/step - loss: 3.7850e-05 - acc: 1.0000 - val_loss: 0.4607 - val_acc: 0.9560\n",
      "Epoch 87/100\n",
      "811/811 [==============================] - 0s 313us/step - loss: 4.7864e-05 - acc: 1.0000 - val_loss: 0.4603 - val_acc: 0.9560\n",
      "Epoch 88/100\n",
      "811/811 [==============================] - 0s 313us/step - loss: 3.0783e-05 - acc: 1.0000 - val_loss: 0.4618 - val_acc: 0.9560\n",
      "Epoch 89/100\n",
      "811/811 [==============================] - 0s 316us/step - loss: 2.8731e-05 - acc: 1.0000 - val_loss: 0.4629 - val_acc: 0.9560\n",
      "Epoch 90/100\n",
      "811/811 [==============================] - 0s 312us/step - loss: 3.4091e-05 - acc: 1.0000 - val_loss: 0.4645 - val_acc: 0.9560\n",
      "Epoch 91/100\n",
      "811/811 [==============================] - 0s 314us/step - loss: 2.7307e-05 - acc: 1.0000 - val_loss: 0.4656 - val_acc: 0.9560\n",
      "Epoch 92/100\n",
      "811/811 [==============================] - 0s 314us/step - loss: 5.7208e-05 - acc: 1.0000 - val_loss: 0.4677 - val_acc: 0.9560\n",
      "Epoch 93/100\n",
      "811/811 [==============================] - 0s 314us/step - loss: 3.5936e-05 - acc: 1.0000 - val_loss: 0.4654 - val_acc: 0.9560\n",
      "Epoch 94/100\n",
      "811/811 [==============================] - 0s 316us/step - loss: 2.7012e-05 - acc: 1.0000 - val_loss: 0.4662 - val_acc: 0.9560\n",
      "Epoch 95/100\n",
      "811/811 [==============================] - 0s 314us/step - loss: 2.3649e-05 - acc: 1.0000 - val_loss: 0.4672 - val_acc: 0.9560\n",
      "Epoch 96/100\n",
      "811/811 [==============================] - 0s 298us/step - loss: 3.0189e-05 - acc: 1.0000 - val_loss: 0.4693 - val_acc: 0.9560\n",
      "Epoch 97/100\n",
      "811/811 [==============================] - 0s 331us/step - loss: 2.8248e-05 - acc: 1.0000 - val_loss: 0.4703 - val_acc: 0.9560\n",
      "Epoch 98/100\n",
      "811/811 [==============================] - 0s 317us/step - loss: 2.5601e-05 - acc: 1.0000 - val_loss: 0.4709 - val_acc: 0.9560\n",
      "Epoch 99/100\n",
      "811/811 [==============================] - 0s 313us/step - loss: 2.3510e-05 - acc: 1.0000 - val_loss: 0.4727 - val_acc: 0.9560\n",
      "Epoch 100/100\n",
      "811/811 [==============================] - 0s 313us/step - loss: 2.4480e-05 - acc: 1.0000 - val_loss: 0.4738 - val_acc: 0.9560\n",
      "Training time: 29.1068696975708\n"
     ]
    }
   ],
   "source": [
    "lr = .0004\n",
    "epochs = 100#int(.015/lr)\n",
    "batch_size = 32\n",
    "\n",
    "keras.backend.set_value(model.optimizer.lr, lr)\n",
    "\n",
    "early_stopping = keras.callbacks.EarlyStopping(monitor = 'val_loss', \n",
    "                                               patience = 5)\n",
    "\n",
    "import time\n",
    "start_time = time.time()\n",
    "\n",
    "history = model.fit(\n",
    "    X_train_pad, y_train,\n",
    "    batch_size = batch_size,\n",
    "    epochs = epochs,\n",
    "    #callbacks = [early_stopping],\n",
    "    validation_split = 0.1\n",
    "  )\n",
    "\n",
    "print(\"Training time: %s\" % (time.time() - start_time))"
   ]
  },
  {
   "cell_type": "code",
   "execution_count": 163,
   "metadata": {},
   "outputs": [
    {
     "data": {
      "text/plain": [
       "keras.callbacks.History"
      ]
     },
     "execution_count": 163,
     "metadata": {},
     "output_type": "execute_result"
    }
   ],
   "source": [
    "type(history)"
   ]
  },
  {
   "cell_type": "code",
   "execution_count": 164,
   "metadata": {},
   "outputs": [
    {
     "data": {
      "text/plain": [
       "dict"
      ]
     },
     "execution_count": 164,
     "metadata": {},
     "output_type": "execute_result"
    }
   ],
   "source": [
    "type(history.history)"
   ]
  },
  {
   "cell_type": "code",
   "execution_count": 165,
   "metadata": {},
   "outputs": [
    {
     "data": {
      "text/plain": [
       "dict_keys(['val_loss', 'val_acc', 'loss', 'acc'])"
      ]
     },
     "execution_count": 165,
     "metadata": {},
     "output_type": "execute_result"
    }
   ],
   "source": [
    "history.history.keys()"
   ]
  },
  {
   "cell_type": "code",
   "execution_count": 166,
   "metadata": {},
   "outputs": [],
   "source": [
    "from plot_keras_history import plot_history"
   ]
  },
  {
   "cell_type": "code",
   "execution_count": 167,
   "metadata": {},
   "outputs": [
    {
     "data": {
      "image/png": "[encoded data removed]",
      "text/plain": [
       "<Figure size 720x360 with 2 Axes>"
      ]
     },
     "metadata": {
      "needs_background": "light"
     },
     "output_type": "display_data"
    }
   ],
   "source": [
    "plot_history(history.history)"
   ]
  },
  {
   "cell_type": "markdown",
   "metadata": {},
   "source": [
    "## Evaluate"
   ]
  },
  {
   "cell_type": "code",
   "execution_count": 168,
   "metadata": {},
   "outputs": [
    {
     "data": {
      "text/plain": [
       "int"
      ]
     },
     "execution_count": 168,
     "metadata": {},
     "output_type": "execute_result"
    }
   ],
   "source": [
    "type(batch_size)"
   ]
  },
  {
   "cell_type": "code",
   "execution_count": 169,
   "metadata": {},
   "outputs": [
    {
     "name": "stdout",
     "output_type": "stream",
     "text": [
      "387/387 [==============================] - 0s 154us/step\n",
      "Test accuracy 0.9457364341085271\n",
      "\n"
     ]
    }
   ],
   "source": [
    "scores = model.evaluate(X_test_pad, y_test, batch_size)\n",
    "\n",
    "print('Test accuracy ' + str(scores[1]) + \"\\n\")\n",
    "# AUC\n",
    "cnn_prob = model.predict(X_test_pad)"
   ]
  },
  {
   "cell_type": "code",
   "execution_count": 170,
   "metadata": {},
   "outputs": [
    {
     "data": {
      "text/plain": [
       "0.9457364341085271"
      ]
     },
     "execution_count": 170,
     "metadata": {},
     "output_type": "execute_result"
    }
   ],
   "source": [
    "scores[1]"
   ]
  },
  {
   "cell_type": "markdown",
   "metadata": {},
   "source": [
    "Confusion Matrix"
   ]
  },
  {
   "cell_type": "code",
   "execution_count": 171,
   "metadata": {},
   "outputs": [
    {
     "name": "stdout",
     "output_type": "stream",
     "text": [
      "Accuracy: 0.9457364341085271\n",
      "Precision: 0.9647058823529412\n",
      "Recall: 0.9162011173184358\n",
      "F1: 0.9398280802292264\n"
     ]
    }
   ],
   "source": [
    "pred_bin = cnn_prob > .5\n",
    "\n",
    "# metrics\n",
    "cm = mets.confusion_matrix(y_test, pred_bin)\n",
    "\n",
    "def printMet(met_name, fn):\n",
    "    print(met_name + \": \" + str(fn(y_test, pred_bin)))\n",
    "\n",
    "printMet(\"Accuracy\", mets.accuracy_score)\n",
    "printMet(\"Precision\", mets.precision_score)\n",
    "printMet(\"Recall\", mets.recall_score)\n",
    "printMet(\"F1\", mets.f1_score)"
   ]
  },
  {
   "cell_type": "code",
   "execution_count": 172,
   "metadata": {},
   "outputs": [
    {
     "data": {
      "text/plain": [
       "array([[202,   6],\n",
       "       [ 15, 164]], dtype=int64)"
      ]
     },
     "execution_count": 172,
     "metadata": {},
     "output_type": "execute_result"
    }
   ],
   "source": [
    "cm"
   ]
  },
  {
   "cell_type": "code",
   "execution_count": 218,
   "metadata": {
    "scrolled": true
   },
   "outputs": [
    {
     "data": {
      "text/plain": [
       "<sklearn.metrics._plot.precision_recall_curve.PrecisionRecallDisplay at 0x26948939048>"
      ]
     },
     "execution_count": 218,
     "metadata": {},
     "output_type": "execute_result"
    },
    {
     "data": {
      "image/png": "[encoded data removed]",
      "text/plain": [
       "<Figure size 432x288 with 1 Axes>"
      ]
     },
     "metadata": {
      "needs_background": "light"
     },
     "output_type": "display_data"
    }
   ],
   "source": [
    "#Scikit-learn expects certain attributes for PR and AUROC plot\n",
    "model._estimator_type = \"classifier\"\n",
    "model.predict_proba = lambda X: np.concatenate( \n",
    "    (model.predict(X), 1-model.predict(X))\n",
    "    , axis = 1)\n",
    "model.classes_ = [1, 0]\n",
    "\n",
    "mets.plot_precision_recall_curve(model, X_test_pad, y_test)"
   ]
  },
  {
   "cell_type": "code",
   "execution_count": 219,
   "metadata": {},
   "outputs": [
    {
     "data": {
      "text/plain": [
       "<sklearn.metrics._plot.roc_curve.RocCurveDisplay at 0x26948f65da0>"
      ]
     },
     "execution_count": 219,
     "metadata": {},
     "output_type": "execute_result"
    },
    {
     "data": {
      "image/png": "[encoded data removed]",
      "text/plain": [
       "<Figure size 432x288 with 1 Axes>"
      ]
     },
     "metadata": {
      "needs_background": "light"
     },
     "output_type": "display_data"
    }
   ],
   "source": [
    "mets.plot_roc_curve(model, X_test_pad, y_test)"
   ]
  },
  {
   "cell_type": "code",
   "execution_count": null,
   "metadata": {},
   "outputs": [],
   "source": []
  }
 ],
 "metadata": {
  "kernelspec": {
   "display_name": "Python 3",
   "language": "python",
   "name": "python3"
  },
  "language_info": {
   "codemirror_mode": {
    "name": "ipython",
    "version": 3
   },
   "file_extension": ".py",
   "mimetype": "text/x-python",
   "name": "python",
   "nbconvert_exporter": "python",
   "pygments_lexer": "ipython3",
   "version": "3.7.3"
  }
 },
 "nbformat": 4,
 "nbformat_minor": 2
}
