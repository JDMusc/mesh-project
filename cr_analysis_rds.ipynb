{
 "cells": [
  {
   "cell_type": "code",
   "execution_count": 1,
   "metadata": {},
   "outputs": [],
   "source": [
    "%matplotlib inline\n",
    "import matplotlib.pyplot as plt\n",
    "import numpy as np\n",
    "import pandas as pd\n",
    "import pyreadr as R\n",
    "import sklearn.metrics as mets\n",
    "import timeit\n",
    "from toolz import pipe as p\n",
    "\n",
    "import utils"
   ]
  },
  {
   "cell_type": "code",
   "execution_count": 2,
   "metadata": {},
   "outputs": [
    {
     "data": {
      "text/plain": [
       "<module 'utils' from 'C:\\\\Users\\\\jod204\\\\projects\\\\mesh-project\\\\utils.py'>"
      ]
     },
     "execution_count": 2,
     "metadata": {},
     "output_type": "execute_result"
    }
   ],
   "source": [
    "from importlib import reload\n",
    "reload(utils)"
   ]
  },
  {
   "cell_type": "code",
   "execution_count": 9,
   "metadata": {},
   "outputs": [],
   "source": [
    "cr_data = R.read_r('pubmed_cr_abstracts.RDS')[None]\n",
    "\n",
    "cr_data = cr_data.fillna('na')\n",
    "cr_data['txt'] = cr_data.title + ' . ' + cr_data.abstract"
   ]
  },
  {
   "cell_type": "code",
   "execution_count": 10,
   "metadata": {},
   "outputs": [
    {
     "data": {
      "text/plain": [
       "(1293, 6)"
      ]
     },
     "execution_count": 10,
     "metadata": {},
     "output_type": "execute_result"
    }
   ],
   "source": [
    "cr_data.shape"
   ]
  },
  {
   "cell_type": "code",
   "execution_count": 11,
   "metadata": {},
   "outputs": [
    {
     "data": {
      "text/plain": [
       "598.0"
      ]
     },
     "execution_count": 11,
     "metadata": {},
     "output_type": "execute_result"
    }
   ],
   "source": [
    "sum(cr_data.label)"
   ]
  },
  {
   "cell_type": "code",
   "execution_count": 12,
   "metadata": {},
   "outputs": [
    {
     "data": {
      "text/plain": [
       "695.0"
      ]
     },
     "execution_count": 12,
     "metadata": {},
     "output_type": "execute_result"
    }
   ],
   "source": [
    "sum(1-cr_data.label)"
   ]
  },
  {
   "cell_type": "code",
   "execution_count": 13,
   "metadata": {},
   "outputs": [
    {
     "data": {
      "text/plain": [
       "Index(['pmid', 'yr', 'title', 'abstract', 'label', 'txt'], dtype='object')"
      ]
     },
     "execution_count": 13,
     "metadata": {},
     "output_type": "execute_result"
    }
   ],
   "source": [
    "cr_data.columns"
   ]
  },
  {
   "cell_type": "markdown",
   "metadata": {},
   "source": [
    "Merge title and abstract"
   ]
  },
  {
   "cell_type": "code",
   "execution_count": 14,
   "metadata": {},
   "outputs": [
    {
     "data": {
      "text/plain": [
       "str"
      ]
     },
     "execution_count": 14,
     "metadata": {},
     "output_type": "execute_result"
    }
   ],
   "source": [
    "type(cr_data.pmid[0])"
   ]
  },
  {
   "cell_type": "code",
   "execution_count": 17,
   "metadata": {},
   "outputs": [
    {
     "name": "stderr",
     "output_type": "stream",
     "text": [
      "C:\\ProgramData\\Anaconda3\\lib\\site-packages\\ipykernel_launcher.py:2: SettingWithCopyWarning: \n",
      "A value is trying to be set on a copy of a slice from a DataFrame.\n",
      "Try using .loc[row_indexer,col_indexer] = value instead\n",
      "\n",
      "See the caveats in the documentation: http://pandas.pydata.org/pandas-docs/stable/user_guide/indexing.html#returning-a-view-versus-a-copy\n",
      "  \n"
     ]
    },
    {
     "data": {
      "text/html": [
       "<div>\n",
       "<style scoped>\n",
       "    .dataframe tbody tr th:only-of-type {\n",
       "        vertical-align: middle;\n",
       "    }\n",
       "\n",
       "    .dataframe tbody tr th {\n",
       "        vertical-align: top;\n",
       "    }\n",
       "\n",
       "    .dataframe thead th {\n",
       "        text-align: right;\n",
       "    }\n",
       "</style>\n",
       "<table border=\"1\" class=\"dataframe\">\n",
       "  <thead>\n",
       "    <tr style=\"text-align: right;\">\n",
       "      <th></th>\n",
       "      <th>pmid</th>\n",
       "      <th>txt</th>\n",
       "      <th>label</th>\n",
       "    </tr>\n",
       "  </thead>\n",
       "  <tbody>\n",
       "    <tr>\n",
       "      <th>0</th>\n",
       "      <td>21218043</td>\n",
       "      <td>Acute liver failure associated with occupation...</td>\n",
       "      <td>True</td>\n",
       "    </tr>\n",
       "    <tr>\n",
       "      <th>1</th>\n",
       "      <td>26000001</td>\n",
       "      <td>A successful pregnancy during the treatment of...</td>\n",
       "      <td>False</td>\n",
       "    </tr>\n",
       "    <tr>\n",
       "      <th>2</th>\n",
       "      <td>23792523</td>\n",
       "      <td>AST 17600 U/l after liver transplantation, wha...</td>\n",
       "      <td>True</td>\n",
       "    </tr>\n",
       "    <tr>\n",
       "      <th>3</th>\n",
       "      <td>25034585</td>\n",
       "      <td>[Pulmonary benign metastasizing leiomyoma: a c...</td>\n",
       "      <td>False</td>\n",
       "    </tr>\n",
       "    <tr>\n",
       "      <th>4</th>\n",
       "      <td>25026126</td>\n",
       "      <td>Two novel mutations in acid α-glucosidase gene...</td>\n",
       "      <td>False</td>\n",
       "    </tr>\n",
       "  </tbody>\n",
       "</table>\n",
       "</div>"
      ],
      "text/plain": [
       "       pmid                                                txt  label\n",
       "0  21218043  Acute liver failure associated with occupation...   True\n",
       "1  26000001  A successful pregnancy during the treatment of...  False\n",
       "2  23792523  AST 17600 U/l after liver transplantation, wha...   True\n",
       "3  25034585  [Pulmonary benign metastasizing leiomyoma: a c...  False\n",
       "4  25026126  Two novel mutations in acid α-glucosidase gene...  False"
      ]
     },
     "execution_count": 17,
     "metadata": {},
     "output_type": "execute_result"
    }
   ],
   "source": [
    "project_data = cr_data[['pmid', 'txt', 'label']]\n",
    "project_data['label'] = project_data['label'] == 1.0\n",
    "project_data.head()\n"
   ]
  },
  {
   "cell_type": "code",
   "execution_count": 18,
   "metadata": {},
   "outputs": [
    {
     "data": {
      "text/plain": [
       "1076"
      ]
     },
     "execution_count": 18,
     "metadata": {},
     "output_type": "execute_result"
    }
   ],
   "source": [
    "len(project_data.loc[0, 'txt'])"
   ]
  },
  {
   "cell_type": "code",
   "execution_count": 19,
   "metadata": {},
   "outputs": [
    {
     "data": {
      "text/plain": [
       "1076"
      ]
     },
     "execution_count": 19,
     "metadata": {},
     "output_type": "execute_result"
    }
   ],
   "source": [
    "len(project_data.txt[0])"
   ]
  },
  {
   "cell_type": "markdown",
   "metadata": {},
   "source": [
    "## Clean Data"
   ]
  },
  {
   "cell_type": "code",
   "execution_count": 20,
   "metadata": {
    "scrolled": true
   },
   "outputs": [
    {
     "name": "stderr",
     "output_type": "stream",
     "text": [
      "C:\\ProgramData\\Anaconda3\\lib\\site-packages\\pandas\\core\\generic.py:5208: SettingWithCopyWarning: \n",
      "A value is trying to be set on a copy of a slice from a DataFrame.\n",
      "Try using .loc[row_indexer,col_indexer] = value instead\n",
      "\n",
      "See the caveats in the documentation: http://pandas.pydata.org/pandas-docs/stable/user_guide/indexing.html#returning-a-view-versus-a-copy\n",
      "  self[name] = value\n"
     ]
    }
   ],
   "source": [
    "clean_data = project_data\n",
    "clean_data.txt = [utils.cleanTxt(txt) for txt in clean_data.txt]"
   ]
  },
  {
   "cell_type": "code",
   "execution_count": 21,
   "metadata": {},
   "outputs": [
    {
     "data": {
      "text/plain": [
       "(1293, 3)"
      ]
     },
     "execution_count": 21,
     "metadata": {},
     "output_type": "execute_result"
    }
   ],
   "source": [
    "clean_data.shape"
   ]
  },
  {
   "cell_type": "markdown",
   "metadata": {},
   "source": [
    "Traditional machine learning without </s\\>"
   ]
  },
  {
   "cell_type": "code",
   "execution_count": 22,
   "metadata": {},
   "outputs": [],
   "source": [
    "clean_data_tr = clean_data.copy()\n",
    "clean_data_tr.txt = [txt.replace('</s>', '') for txt in clean_data_tr.txt]"
   ]
  },
  {
   "cell_type": "code",
   "execution_count": 23,
   "metadata": {
    "scrolled": true
   },
   "outputs": [
    {
     "data": {
      "text/html": [
       "<div>\n",
       "<style scoped>\n",
       "    .dataframe tbody tr th:only-of-type {\n",
       "        vertical-align: middle;\n",
       "    }\n",
       "\n",
       "    .dataframe tbody tr th {\n",
       "        vertical-align: top;\n",
       "    }\n",
       "\n",
       "    .dataframe thead th {\n",
       "        text-align: right;\n",
       "    }\n",
       "</style>\n",
       "<table border=\"1\" class=\"dataframe\">\n",
       "  <thead>\n",
       "    <tr style=\"text-align: right;\">\n",
       "      <th></th>\n",
       "      <th>pmid</th>\n",
       "      <th>txt</th>\n",
       "    </tr>\n",
       "    <tr>\n",
       "      <th>label</th>\n",
       "      <th></th>\n",
       "      <th></th>\n",
       "    </tr>\n",
       "  </thead>\n",
       "  <tbody>\n",
       "    <tr>\n",
       "      <th>False</th>\n",
       "      <td>695</td>\n",
       "      <td>695</td>\n",
       "    </tr>\n",
       "    <tr>\n",
       "      <th>True</th>\n",
       "      <td>598</td>\n",
       "      <td>598</td>\n",
       "    </tr>\n",
       "  </tbody>\n",
       "</table>\n",
       "</div>"
      ],
      "text/plain": [
       "       pmid  txt\n",
       "label           \n",
       "False   695  695\n",
       "True    598  598"
      ]
     },
     "execution_count": 23,
     "metadata": {},
     "output_type": "execute_result"
    }
   ],
   "source": [
    "clean_data_tr.groupby('label').count()"
   ]
  },
  {
   "cell_type": "markdown",
   "metadata": {},
   "source": [
    "## Tokenize Text"
   ]
  },
  {
   "cell_type": "code",
   "execution_count": 24,
   "metadata": {},
   "outputs": [
    {
     "name": "stderr",
     "output_type": "stream",
     "text": [
      "Using TensorFlow backend.\n",
      "C:\\ProgramData\\Anaconda3\\lib\\site-packages\\tensorflow\\python\\framework\\dtypes.py:526: FutureWarning: Passing (type, 1) or '1type' as a synonym of type is deprecated; in a future version of numpy, it will be understood as (type, (1,)) / '(1,)type'.\n",
      "  _np_qint8 = np.dtype([(\"qint8\", np.int8, 1)])\n",
      "C:\\ProgramData\\Anaconda3\\lib\\site-packages\\tensorflow\\python\\framework\\dtypes.py:527: FutureWarning: Passing (type, 1) or '1type' as a synonym of type is deprecated; in a future version of numpy, it will be understood as (type, (1,)) / '(1,)type'.\n",
      "  _np_quint8 = np.dtype([(\"quint8\", np.uint8, 1)])\n",
      "C:\\ProgramData\\Anaconda3\\lib\\site-packages\\tensorflow\\python\\framework\\dtypes.py:528: FutureWarning: Passing (type, 1) or '1type' as a synonym of type is deprecated; in a future version of numpy, it will be understood as (type, (1,)) / '(1,)type'.\n",
      "  _np_qint16 = np.dtype([(\"qint16\", np.int16, 1)])\n",
      "C:\\ProgramData\\Anaconda3\\lib\\site-packages\\tensorflow\\python\\framework\\dtypes.py:529: FutureWarning: Passing (type, 1) or '1type' as a synonym of type is deprecated; in a future version of numpy, it will be understood as (type, (1,)) / '(1,)type'.\n",
      "  _np_quint16 = np.dtype([(\"quint16\", np.uint16, 1)])\n",
      "C:\\ProgramData\\Anaconda3\\lib\\site-packages\\tensorflow\\python\\framework\\dtypes.py:530: FutureWarning: Passing (type, 1) or '1type' as a synonym of type is deprecated; in a future version of numpy, it will be understood as (type, (1,)) / '(1,)type'.\n",
      "  _np_qint32 = np.dtype([(\"qint32\", np.int32, 1)])\n",
      "C:\\ProgramData\\Anaconda3\\lib\\site-packages\\tensorflow\\python\\framework\\dtypes.py:535: FutureWarning: Passing (type, 1) or '1type' as a synonym of type is deprecated; in a future version of numpy, it will be understood as (type, (1,)) / '(1,)type'.\n",
      "  np_resource = np.dtype([(\"resource\", np.ubyte, 1)])\n"
     ]
    }
   ],
   "source": [
    "import keras"
   ]
  },
  {
   "cell_type": "markdown",
   "metadata": {},
   "source": [
    "__Check using GPU__"
   ]
  },
  {
   "cell_type": "code",
   "execution_count": 25,
   "metadata": {
    "scrolled": true
   },
   "outputs": [
    {
     "name": "stdout",
     "output_type": "stream",
     "text": [
      "[name: \"/device:CPU:0\"\n",
      "device_type: \"CPU\"\n",
      "memory_limit: 268435456\n",
      "locality {\n",
      "}\n",
      "incarnation: 11163671754494459582\n",
      ", name: \"/device:GPU:0\"\n",
      "device_type: \"GPU\"\n",
      "memory_limit: 9119690261\n",
      "locality {\n",
      "  bus_id: 1\n",
      "  links {\n",
      "  }\n",
      "}\n",
      "incarnation: 15318643949139165673\n",
      "physical_device_desc: \"device: 0, name: GeForce RTX 2080 Ti, pci bus id: 0000:17:00.0, compute capability: 7.5\"\n",
      ", name: \"/device:GPU:1\"\n",
      "device_type: \"GPU\"\n",
      "memory_limit: 9118843535\n",
      "locality {\n",
      "  bus_id: 1\n",
      "  links {\n",
      "  }\n",
      "}\n",
      "incarnation: 9977492471505416626\n",
      "physical_device_desc: \"device: 1, name: GeForce RTX 2080 Ti, pci bus id: 0000:b3:00.0, compute capability: 7.5\"\n",
      "]\n"
     ]
    }
   ],
   "source": [
    "from tensorflow.python.client import device_lib\n",
    "print(device_lib.list_local_devices())"
   ]
  },
  {
   "cell_type": "markdown",
   "metadata": {},
   "source": [
    "GPU shown"
   ]
  },
  {
   "cell_type": "code",
   "execution_count": 26,
   "metadata": {},
   "outputs": [],
   "source": [
    "max_vocab = 20000\n",
    "tokenizer = keras.preprocessing.text.Tokenizer(num_words = max_vocab, filters = \"\")"
   ]
  },
  {
   "cell_type": "code",
   "execution_count": 27,
   "metadata": {},
   "outputs": [],
   "source": [
    "tokenizer.fit_on_texts(clean_data.txt)"
   ]
  },
  {
   "cell_type": "code",
   "execution_count": 28,
   "metadata": {},
   "outputs": [],
   "source": [
    "word_index = tokenizer.word_index\n",
    "vocab_size = len(word_index)"
   ]
  },
  {
   "cell_type": "code",
   "execution_count": 29,
   "metadata": {},
   "outputs": [
    {
     "data": {
      "text/plain": [
       "13767"
      ]
     },
     "execution_count": 29,
     "metadata": {},
     "output_type": "execute_result"
    }
   ],
   "source": [
    "vocab_size"
   ]
  },
  {
   "cell_type": "markdown",
   "metadata": {},
   "source": [
    "Get document word counts"
   ]
  },
  {
   "cell_type": "code",
   "execution_count": 30,
   "metadata": {},
   "outputs": [
    {
     "name": "stdout",
     "output_type": "stream",
     "text": [
      "(32, 571)\n",
      "158.0\n"
     ]
    }
   ],
   "source": [
    "data_explore = clean_data_tr.copy()\n",
    "\n",
    "# let's convert the sentences to sequences using the tokenizer\n",
    "data_seq = tokenizer.texts_to_sequences(clean_data.txt)\n",
    "word_counts = [len(sq) for sq in data_seq]\n",
    "\n",
    "# add field to data frame:\n",
    "data_explore['WordCnt'] = word_counts\n",
    "\n",
    "# use user friendly labels for plotting\n",
    "#levels(data_explore$label) <- c(\"CTL\", \"CIR\")\n",
    "\n",
    "# what's our word count range and median?\n",
    "minmax = lambda arr: (np.min(arr), np.max(arr))\n",
    "\n",
    "print(minmax(word_counts))\n",
    "print(np.median(word_counts))"
   ]
  },
  {
   "cell_type": "markdown",
   "metadata": {},
   "source": [
    "Same as R output of (32, 157) and 158."
   ]
  },
  {
   "cell_type": "code",
   "execution_count": 31,
   "metadata": {},
   "outputs": [
    {
     "name": "stdout",
     "output_type": "stream",
     "text": [
      "total words in corpus: 219718\n"
     ]
    }
   ],
   "source": [
    "print(\"total words in corpus: \" + str(sum(word_counts)))"
   ]
  },
  {
   "cell_type": "code",
   "execution_count": 32,
   "metadata": {},
   "outputs": [
    {
     "data": {
      "text/html": [
       "<div>\n",
       "<style scoped>\n",
       "    .dataframe tbody tr th:only-of-type {\n",
       "        vertical-align: middle;\n",
       "    }\n",
       "\n",
       "    .dataframe tbody tr th {\n",
       "        vertical-align: top;\n",
       "    }\n",
       "\n",
       "    .dataframe thead th {\n",
       "        text-align: right;\n",
       "    }\n",
       "</style>\n",
       "<table border=\"1\" class=\"dataframe\">\n",
       "  <thead>\n",
       "    <tr style=\"text-align: right;\">\n",
       "      <th></th>\n",
       "      <th>pmid</th>\n",
       "      <th>txt</th>\n",
       "      <th>label</th>\n",
       "      <th>WordCnt</th>\n",
       "    </tr>\n",
       "  </thead>\n",
       "  <tbody>\n",
       "    <tr>\n",
       "      <th>0</th>\n",
       "      <td>21218043</td>\n",
       "      <td>acute liver failure associated with occupation...</td>\n",
       "      <td>True</td>\n",
       "      <td>161</td>\n",
       "    </tr>\n",
       "    <tr>\n",
       "      <th>1</th>\n",
       "      <td>26000001</td>\n",
       "      <td>a successful pregnancy during the treatment of...</td>\n",
       "      <td>False</td>\n",
       "      <td>327</td>\n",
       "    </tr>\n",
       "    <tr>\n",
       "      <th>2</th>\n",
       "      <td>23792523</td>\n",
       "      <td>ast _lgnum_ u l after liver transplantation wh...</td>\n",
       "      <td>True</td>\n",
       "      <td>221</td>\n",
       "    </tr>\n",
       "    <tr>\n",
       "      <th>3</th>\n",
       "      <td>25034585</td>\n",
       "      <td>pulmonary benign metastasizing leiomyoma a cli...</td>\n",
       "      <td>False</td>\n",
       "      <td>176</td>\n",
       "    </tr>\n",
       "    <tr>\n",
       "      <th>4</th>\n",
       "      <td>25026126</td>\n",
       "      <td>two novel mutations in acid - glucosidase gene...</td>\n",
       "      <td>False</td>\n",
       "      <td>118</td>\n",
       "    </tr>\n",
       "  </tbody>\n",
       "</table>\n",
       "</div>"
      ],
      "text/plain": [
       "       pmid                                                txt  label  WordCnt\n",
       "0  21218043  acute liver failure associated with occupation...   True      161\n",
       "1  26000001  a successful pregnancy during the treatment of...  False      327\n",
       "2  23792523  ast _lgnum_ u l after liver transplantation wh...   True      221\n",
       "3  25034585  pulmonary benign metastasizing leiomyoma a cli...  False      176\n",
       "4  25026126  two novel mutations in acid - glucosidase gene...  False      118"
      ]
     },
     "execution_count": 32,
     "metadata": {},
     "output_type": "execute_result"
    }
   ],
   "source": [
    "data_explore.head()"
   ]
  },
  {
   "cell_type": "markdown",
   "metadata": {},
   "source": [
    "## Plots"
   ]
  },
  {
   "cell_type": "code",
   "execution_count": 33,
   "metadata": {},
   "outputs": [],
   "source": [
    "import wordcloud\n",
    "from wordcloud import WordCloud"
   ]
  },
  {
   "cell_type": "code",
   "execution_count": 34,
   "metadata": {
    "scrolled": true
   },
   "outputs": [],
   "source": [
    "word_list_to_string = lambda ws: ' '.join(ws)\n",
    "\n",
    "words = word_list_to_string(clean_data_tr.txt)\n",
    "\n",
    "min_word_count = 6\n",
    "view_word = lambda word: (\n",
    "    '_' not in word and \n",
    "    tokenizer.word_docs[word] > min_word_count - 1 and \n",
    "    '-' not in word\n",
    "    and word not in wordcloud.STOPWORDS\n",
    ")\n",
    "\n",
    "filtered_words = word_list_to_string(\n",
    "    [w for w in words.split(' ') if view_word(w)]\n",
    ")"
   ]
  },
  {
   "cell_type": "code",
   "execution_count": 35,
   "metadata": {},
   "outputs": [
    {
     "data": {
      "text/plain": [
       "1381675"
      ]
     },
     "execution_count": 35,
     "metadata": {},
     "output_type": "execute_result"
    }
   ],
   "source": [
    "len(words)"
   ]
  },
  {
   "cell_type": "code",
   "execution_count": 36,
   "metadata": {},
   "outputs": [
    {
     "data": {
      "text/plain": [
       "'cute liver failure associated with occupational exposure to tetrachloroethylene   tetrachloroethyle'"
      ]
     },
     "execution_count": 36,
     "metadata": {},
     "output_type": "execute_result"
    }
   ],
   "source": [
    "words[1:100]"
   ]
  },
  {
   "cell_type": "code",
   "execution_count": 37,
   "metadata": {},
   "outputs": [
    {
     "data": {
      "text/plain": [
       "843087"
      ]
     },
     "execution_count": 37,
     "metadata": {},
     "output_type": "execute_result"
    }
   ],
   "source": [
    "len(filtered_words)"
   ]
  },
  {
   "cell_type": "code",
   "execution_count": 38,
   "metadata": {},
   "outputs": [],
   "source": [
    "#https://www.geeksforgeeks.org/generating-word-cloud-python/\n",
    "wcloud = WordCloud(width = 800, height = 800, \n",
    "                background_color ='white', \n",
    "                stopwords = wordcloud.STOPWORDS, \n",
    "                min_font_size = 10).generate(filtered_words)  \n",
    " "
   ]
  },
  {
   "cell_type": "code",
   "execution_count": 39,
   "metadata": {},
   "outputs": [
    {
     "data": {
      "image/png": "[encoded data removed]",
      "text/plain": [
       "<Figure size 576x576 with 1 Axes>"
      ]
     },
     "metadata": {
      "needs_background": "light"
     },
     "output_type": "display_data"
    }
   ],
   "source": [
    "# plot the WordCloud image                        \n",
    "plt.figure(figsize = (8, 8), facecolor = None) \n",
    "plt.imshow(wcloud) \n",
    "plt.axis(\"off\") \n",
    "plt.tight_layout(pad = 0)"
   ]
  },
  {
   "cell_type": "code",
   "execution_count": 40,
   "metadata": {},
   "outputs": [
    {
     "data": {
      "text/plain": [
       "1049"
      ]
     },
     "execution_count": 40,
     "metadata": {},
     "output_type": "execute_result"
    }
   ],
   "source": [
    "tokenizer.word_counts['patients']"
   ]
  },
  {
   "cell_type": "markdown",
   "metadata": {},
   "source": [
    "## Compare Group Frequencies"
   ]
  },
  {
   "cell_type": "code",
   "execution_count": 41,
   "metadata": {},
   "outputs": [],
   "source": [
    "import pandas as pd\n",
    "from sklearn.feature_extraction.text import CountVectorizer"
   ]
  },
  {
   "cell_type": "code",
   "execution_count": 42,
   "metadata": {},
   "outputs": [],
   "source": [
    "count_vec = CountVectorizer()\n",
    "dfm_data = count_vec.fit_transform(clean_data_tr.txt)\n",
    "\n",
    "dfm = pd.DataFrame(dfm_data.toarray(), columns = count_vec.get_feature_names())"
   ]
  },
  {
   "cell_type": "code",
   "execution_count": 43,
   "metadata": {},
   "outputs": [
    {
     "data": {
      "text/html": [
       "<div>\n",
       "<style scoped>\n",
       "    .dataframe tbody tr th:only-of-type {\n",
       "        vertical-align: middle;\n",
       "    }\n",
       "\n",
       "    .dataframe tbody tr th {\n",
       "        vertical-align: top;\n",
       "    }\n",
       "\n",
       "    .dataframe thead th {\n",
       "        text-align: right;\n",
       "    }\n",
       "</style>\n",
       "<table border=\"1\" class=\"dataframe\">\n",
       "  <thead>\n",
       "    <tr style=\"text-align: right;\">\n",
       "      <th></th>\n",
       "      <th>08</th>\n",
       "      <th>10</th>\n",
       "      <th>11</th>\n",
       "      <th>12</th>\n",
       "      <th>13</th>\n",
       "      <th>14</th>\n",
       "      <th>15</th>\n",
       "      <th>16</th>\n",
       "      <th>17</th>\n",
       "      <th>18</th>\n",
       "      <th>...</th>\n",
       "      <th>zoonotic</th>\n",
       "      <th>zoster</th>\n",
       "      <th>zosteriform</th>\n",
       "      <th>zr</th>\n",
       "      <th>zsef</th>\n",
       "      <th>zurich</th>\n",
       "      <th>zygoma</th>\n",
       "      <th>zygomatic</th>\n",
       "      <th>zygomycetes</th>\n",
       "      <th>zygomycosis</th>\n",
       "    </tr>\n",
       "  </thead>\n",
       "  <tbody>\n",
       "    <tr>\n",
       "      <th>0</th>\n",
       "      <td>0</td>\n",
       "      <td>0</td>\n",
       "      <td>0</td>\n",
       "      <td>0</td>\n",
       "      <td>0</td>\n",
       "      <td>0</td>\n",
       "      <td>0</td>\n",
       "      <td>0</td>\n",
       "      <td>0</td>\n",
       "      <td>0</td>\n",
       "      <td>...</td>\n",
       "      <td>0</td>\n",
       "      <td>0</td>\n",
       "      <td>0</td>\n",
       "      <td>0</td>\n",
       "      <td>0</td>\n",
       "      <td>0</td>\n",
       "      <td>0</td>\n",
       "      <td>0</td>\n",
       "      <td>0</td>\n",
       "      <td>0</td>\n",
       "    </tr>\n",
       "    <tr>\n",
       "      <th>1</th>\n",
       "      <td>0</td>\n",
       "      <td>0</td>\n",
       "      <td>0</td>\n",
       "      <td>0</td>\n",
       "      <td>0</td>\n",
       "      <td>0</td>\n",
       "      <td>0</td>\n",
       "      <td>0</td>\n",
       "      <td>0</td>\n",
       "      <td>0</td>\n",
       "      <td>...</td>\n",
       "      <td>0</td>\n",
       "      <td>0</td>\n",
       "      <td>0</td>\n",
       "      <td>0</td>\n",
       "      <td>0</td>\n",
       "      <td>0</td>\n",
       "      <td>0</td>\n",
       "      <td>0</td>\n",
       "      <td>0</td>\n",
       "      <td>0</td>\n",
       "    </tr>\n",
       "    <tr>\n",
       "      <th>2</th>\n",
       "      <td>0</td>\n",
       "      <td>0</td>\n",
       "      <td>0</td>\n",
       "      <td>0</td>\n",
       "      <td>0</td>\n",
       "      <td>0</td>\n",
       "      <td>0</td>\n",
       "      <td>0</td>\n",
       "      <td>0</td>\n",
       "      <td>0</td>\n",
       "      <td>...</td>\n",
       "      <td>0</td>\n",
       "      <td>0</td>\n",
       "      <td>0</td>\n",
       "      <td>0</td>\n",
       "      <td>0</td>\n",
       "      <td>0</td>\n",
       "      <td>0</td>\n",
       "      <td>0</td>\n",
       "      <td>0</td>\n",
       "      <td>0</td>\n",
       "    </tr>\n",
       "    <tr>\n",
       "      <th>3</th>\n",
       "      <td>0</td>\n",
       "      <td>0</td>\n",
       "      <td>0</td>\n",
       "      <td>0</td>\n",
       "      <td>0</td>\n",
       "      <td>0</td>\n",
       "      <td>0</td>\n",
       "      <td>0</td>\n",
       "      <td>0</td>\n",
       "      <td>0</td>\n",
       "      <td>...</td>\n",
       "      <td>0</td>\n",
       "      <td>0</td>\n",
       "      <td>0</td>\n",
       "      <td>0</td>\n",
       "      <td>0</td>\n",
       "      <td>0</td>\n",
       "      <td>0</td>\n",
       "      <td>0</td>\n",
       "      <td>0</td>\n",
       "      <td>0</td>\n",
       "    </tr>\n",
       "    <tr>\n",
       "      <th>4</th>\n",
       "      <td>0</td>\n",
       "      <td>0</td>\n",
       "      <td>0</td>\n",
       "      <td>0</td>\n",
       "      <td>0</td>\n",
       "      <td>0</td>\n",
       "      <td>0</td>\n",
       "      <td>0</td>\n",
       "      <td>0</td>\n",
       "      <td>0</td>\n",
       "      <td>...</td>\n",
       "      <td>0</td>\n",
       "      <td>0</td>\n",
       "      <td>0</td>\n",
       "      <td>0</td>\n",
       "      <td>0</td>\n",
       "      <td>0</td>\n",
       "      <td>0</td>\n",
       "      <td>0</td>\n",
       "      <td>0</td>\n",
       "      <td>0</td>\n",
       "    </tr>\n",
       "  </tbody>\n",
       "</table>\n",
       "<p>5 rows × 13712 columns</p>\n",
       "</div>"
      ],
      "text/plain": [
       "   08  10  11  12  13  14  15  16  17  18  ...  zoonotic  zoster  zosteriform  \\\n",
       "0   0   0   0   0   0   0   0   0   0   0  ...         0       0            0   \n",
       "1   0   0   0   0   0   0   0   0   0   0  ...         0       0            0   \n",
       "2   0   0   0   0   0   0   0   0   0   0  ...         0       0            0   \n",
       "3   0   0   0   0   0   0   0   0   0   0  ...         0       0            0   \n",
       "4   0   0   0   0   0   0   0   0   0   0  ...         0       0            0   \n",
       "\n",
       "   zr  zsef  zurich  zygoma  zygomatic  zygomycetes  zygomycosis  \n",
       "0   0     0       0       0          0            0            0  \n",
       "1   0     0       0       0          0            0            0  \n",
       "2   0     0       0       0          0            0            0  \n",
       "3   0     0       0       0          0            0            0  \n",
       "4   0     0       0       0          0            0            0  \n",
       "\n",
       "[5 rows x 13712 columns]"
      ]
     },
     "execution_count": 43,
     "metadata": {},
     "output_type": "execute_result"
    }
   ],
   "source": [
    "dfm.head()"
   ]
  },
  {
   "cell_type": "code",
   "execution_count": 44,
   "metadata": {},
   "outputs": [
    {
     "data": {
      "text/plain": [
       "1"
      ]
     },
     "execution_count": 44,
     "metadata": {},
     "output_type": "execute_result"
    }
   ],
   "source": [
    "tokenizer.word_counts['zoonotic']"
   ]
  },
  {
   "cell_type": "code",
   "execution_count": 45,
   "metadata": {},
   "outputs": [
    {
     "data": {
      "text/plain": [
       "(1293, 13712)"
      ]
     },
     "execution_count": 45,
     "metadata": {},
     "output_type": "execute_result"
    }
   ],
   "source": [
    "dfm.shape"
   ]
  },
  {
   "cell_type": "code",
   "execution_count": 46,
   "metadata": {},
   "outputs": [],
   "source": [
    "from sklearn import feature_selection"
   ]
  },
  {
   "cell_type": "code",
   "execution_count": 47,
   "metadata": {},
   "outputs": [],
   "source": [
    "(chi_features_stat, chi_features_p) = feature_selection.chi2(dfm_data, clean_data.label)"
   ]
  },
  {
   "cell_type": "code",
   "execution_count": 48,
   "metadata": {},
   "outputs": [
    {
     "data": {
      "text/plain": [
       "(array([7164], dtype=int64),)"
      ]
     },
     "execution_count": 48,
     "metadata": {},
     "output_type": "execute_result"
    }
   ],
   "source": [
    "np.where(dfm.columns == \"liver\")"
   ]
  },
  {
   "cell_type": "code",
   "execution_count": 49,
   "metadata": {},
   "outputs": [
    {
     "data": {
      "text/plain": [
       "13.12230284573106"
      ]
     },
     "execution_count": 49,
     "metadata": {},
     "output_type": "execute_result"
    }
   ],
   "source": [
    "chi_features_stat[7452]"
   ]
  },
  {
   "cell_type": "code",
   "execution_count": 50,
   "metadata": {},
   "outputs": [
    {
     "data": {
      "text/plain": [
       "0.0002918011398840433"
      ]
     },
     "execution_count": 50,
     "metadata": {},
     "output_type": "execute_result"
    }
   ],
   "source": [
    "chi_features_p[7452]"
   ]
  },
  {
   "cell_type": "code",
   "execution_count": 51,
   "metadata": {},
   "outputs": [],
   "source": [
    "keyness_df = pd.DataFrame(dfm.columns,\n",
    "                          columns=['term'])\n",
    "keyness_df['chi2_stat'] = chi_features_stat\n",
    "keyness_df['chi2_p'] = chi_features_p"
   ]
  },
  {
   "cell_type": "code",
   "execution_count": 52,
   "metadata": {},
   "outputs": [
    {
     "data": {
      "text/html": [
       "<div>\n",
       "<style scoped>\n",
       "    .dataframe tbody tr th:only-of-type {\n",
       "        vertical-align: middle;\n",
       "    }\n",
       "\n",
       "    .dataframe tbody tr th {\n",
       "        vertical-align: top;\n",
       "    }\n",
       "\n",
       "    .dataframe thead th {\n",
       "        text-align: right;\n",
       "    }\n",
       "</style>\n",
       "<table border=\"1\" class=\"dataframe\">\n",
       "  <thead>\n",
       "    <tr style=\"text-align: right;\">\n",
       "      <th></th>\n",
       "      <th>term</th>\n",
       "      <th>chi2_stat</th>\n",
       "      <th>chi2_p</th>\n",
       "    </tr>\n",
       "  </thead>\n",
       "  <tbody>\n",
       "    <tr>\n",
       "      <th>7164</th>\n",
       "      <td>liver</td>\n",
       "      <td>1610.206877</td>\n",
       "      <td>0.000000e+00</td>\n",
       "    </tr>\n",
       "    <tr>\n",
       "      <th>2102</th>\n",
       "      <td>cirrhosis</td>\n",
       "      <td>1035.307444</td>\n",
       "      <td>3.800423e-227</td>\n",
       "    </tr>\n",
       "    <tr>\n",
       "      <th>5582</th>\n",
       "      <td>hepatitis</td>\n",
       "      <td>379.934691</td>\n",
       "      <td>1.285820e-84</td>\n",
       "    </tr>\n",
       "    <tr>\n",
       "      <th>12746</th>\n",
       "      <td>transplantation</td>\n",
       "      <td>354.440767</td>\n",
       "      <td>4.572113e-79</td>\n",
       "    </tr>\n",
       "    <tr>\n",
       "      <th>9633</th>\n",
       "      <td>portal</td>\n",
       "      <td>331.151203</td>\n",
       "      <td>5.395791e-74</td>\n",
       "    </tr>\n",
       "    <tr>\n",
       "      <th>5575</th>\n",
       "      <td>hepatic</td>\n",
       "      <td>309.630391</td>\n",
       "      <td>2.628704e-69</td>\n",
       "    </tr>\n",
       "    <tr>\n",
       "      <th>1394</th>\n",
       "      <td>biliary</td>\n",
       "      <td>211.481705</td>\n",
       "      <td>6.525370e-48</td>\n",
       "    </tr>\n",
       "    <tr>\n",
       "      <th>3556</th>\n",
       "      <td>donor</td>\n",
       "      <td>181.766707</td>\n",
       "      <td>1.993823e-41</td>\n",
       "    </tr>\n",
       "    <tr>\n",
       "      <th>13306</th>\n",
       "      <td>vein</td>\n",
       "      <td>167.155077</td>\n",
       "      <td>3.094255e-38</td>\n",
       "    </tr>\n",
       "    <tr>\n",
       "      <th>9169</th>\n",
       "      <td>pbc</td>\n",
       "      <td>151.086957</td>\n",
       "      <td>1.003188e-34</td>\n",
       "    </tr>\n",
       "    <tr>\n",
       "      <th>5590</th>\n",
       "      <td>hepatocellular</td>\n",
       "      <td>139.493244</td>\n",
       "      <td>3.435824e-32</td>\n",
       "    </tr>\n",
       "    <tr>\n",
       "      <th>5435</th>\n",
       "      <td>hcc</td>\n",
       "      <td>133.178529</td>\n",
       "      <td>8.263632e-31</td>\n",
       "    </tr>\n",
       "    <tr>\n",
       "      <th>1459</th>\n",
       "      <td>bleeding</td>\n",
       "      <td>130.671714</td>\n",
       "      <td>2.921359e-30</td>\n",
       "    </tr>\n",
       "    <tr>\n",
       "      <th>1018</th>\n",
       "      <td>ascites</td>\n",
       "      <td>129.082257</td>\n",
       "      <td>6.506526e-30</td>\n",
       "    </tr>\n",
       "    <tr>\n",
       "      <th>2103</th>\n",
       "      <td>cirrhotic</td>\n",
       "      <td>122.154911</td>\n",
       "      <td>2.134998e-28</td>\n",
       "    </tr>\n",
       "    <tr>\n",
       "      <th>4679</th>\n",
       "      <td>fibrosis</td>\n",
       "      <td>120.391844</td>\n",
       "      <td>5.192176e-28</td>\n",
       "    </tr>\n",
       "    <tr>\n",
       "      <th>503</th>\n",
       "      <td>alcoholic</td>\n",
       "      <td>115.758561</td>\n",
       "      <td>5.368308e-27</td>\n",
       "    </tr>\n",
       "    <tr>\n",
       "      <th>12745</th>\n",
       "      <td>transplant</td>\n",
       "      <td>110.935714</td>\n",
       "      <td>6.112091e-26</td>\n",
       "    </tr>\n",
       "    <tr>\n",
       "      <th>13258</th>\n",
       "      <td>varices</td>\n",
       "      <td>108.816682</td>\n",
       "      <td>1.780109e-25</td>\n",
       "    </tr>\n",
       "  </tbody>\n",
       "</table>\n",
       "</div>"
      ],
      "text/plain": [
       "                  term    chi2_stat         chi2_p\n",
       "7164             liver  1610.206877   0.000000e+00\n",
       "2102         cirrhosis  1035.307444  3.800423e-227\n",
       "5582         hepatitis   379.934691   1.285820e-84\n",
       "12746  transplantation   354.440767   4.572113e-79\n",
       "9633            portal   331.151203   5.395791e-74\n",
       "5575           hepatic   309.630391   2.628704e-69\n",
       "1394           biliary   211.481705   6.525370e-48\n",
       "3556             donor   181.766707   1.993823e-41\n",
       "13306             vein   167.155077   3.094255e-38\n",
       "9169               pbc   151.086957   1.003188e-34\n",
       "5590    hepatocellular   139.493244   3.435824e-32\n",
       "5435               hcc   133.178529   8.263632e-31\n",
       "1459          bleeding   130.671714   2.921359e-30\n",
       "1018           ascites   129.082257   6.506526e-30\n",
       "2103         cirrhotic   122.154911   2.134998e-28\n",
       "4679          fibrosis   120.391844   5.192176e-28\n",
       "503          alcoholic   115.758561   5.368308e-27\n",
       "12745       transplant   110.935714   6.112091e-26\n",
       "13258          varices   108.816682   1.780109e-25"
      ]
     },
     "execution_count": 52,
     "metadata": {},
     "output_type": "execute_result"
    }
   ],
   "source": [
    "keyness_df.sort_values(by='chi2_stat', ascending=False).head(19)"
   ]
  },
  {
   "cell_type": "code",
   "execution_count": 53,
   "metadata": {},
   "outputs": [
    {
     "data": {
      "text/html": [
       "<div>\n",
       "<style scoped>\n",
       "    .dataframe tbody tr th:only-of-type {\n",
       "        vertical-align: middle;\n",
       "    }\n",
       "\n",
       "    .dataframe tbody tr th {\n",
       "        vertical-align: top;\n",
       "    }\n",
       "\n",
       "    .dataframe thead th {\n",
       "        text-align: right;\n",
       "    }\n",
       "</style>\n",
       "<table border=\"1\" class=\"dataframe\">\n",
       "  <thead>\n",
       "    <tr style=\"text-align: right;\">\n",
       "      <th></th>\n",
       "      <th>term</th>\n",
       "      <th>chi2_stat</th>\n",
       "      <th>chi2_p</th>\n",
       "    </tr>\n",
       "  </thead>\n",
       "  <tbody>\n",
       "    <tr>\n",
       "      <th>7563</th>\n",
       "      <td>melanoma</td>\n",
       "      <td>24.952518</td>\n",
       "      <td>5.875974e-07</td>\n",
       "    </tr>\n",
       "    <tr>\n",
       "      <th>11045</th>\n",
       "      <td>sarcoma</td>\n",
       "      <td>26.673381</td>\n",
       "      <td>2.409177e-07</td>\n",
       "    </tr>\n",
       "    <tr>\n",
       "      <th>8261</th>\n",
       "      <td>nerve</td>\n",
       "      <td>72.902752</td>\n",
       "      <td>1.361981e-17</td>\n",
       "    </tr>\n",
       "  </tbody>\n",
       "</table>\n",
       "</div>"
      ],
      "text/plain": [
       "           term  chi2_stat        chi2_p\n",
       "7563   melanoma  24.952518  5.875974e-07\n",
       "11045   sarcoma  26.673381  2.409177e-07\n",
       "8261      nerve  72.902752  1.361981e-17"
      ]
     },
     "execution_count": 53,
     "metadata": {},
     "output_type": "execute_result"
    }
   ],
   "source": [
    "\n",
    "keyness_df[\n",
    "    [t in (\"nerve\", \"melanoma\", \"sarcoma\") for t in keyness_df.term]].sort_values(by = 'chi2_stat')"
   ]
  },
  {
   "cell_type": "code",
   "execution_count": 54,
   "metadata": {},
   "outputs": [
    {
     "data": {
      "text/plain": [
       "0.0016722408026755853"
      ]
     },
     "execution_count": 54,
     "metadata": {},
     "output_type": "execute_result"
    }
   ],
   "source": [
    "case_rows = [l == 1 for l in clean_data.label]\n",
    "\n",
    "np.mean(dfm.nerve[case_rows])"
   ]
  },
  {
   "cell_type": "code",
   "execution_count": 55,
   "metadata": {},
   "outputs": [
    {
     "data": {
      "text/plain": [
       "0.12661870503597122"
      ]
     },
     "execution_count": 55,
     "metadata": {},
     "output_type": "execute_result"
    }
   ],
   "source": [
    "np.mean(dfm.nerve[np.logical_not(case_rows)])"
   ]
  },
  {
   "cell_type": "markdown",
   "metadata": {},
   "source": [
    "## Deep Learning"
   ]
  },
  {
   "cell_type": "code",
   "execution_count": 56,
   "metadata": {},
   "outputs": [],
   "source": [
    "from sklearn.model_selection import train_test_split"
   ]
  },
  {
   "cell_type": "code",
   "execution_count": 57,
   "metadata": {},
   "outputs": [],
   "source": [
    "#cr_train = R.read_r('cr_train.RDS')[None]\n",
    "#cr_test = R.read_r('cr_test.RDS')[None]\n",
    "\n",
    "#loadX = lambda df: df['txt'].to_numpy()\n",
    "#loadY = lambda df: df['label'].to_numpy() == 'YES'\n",
    "\n",
    "#X_train = loadX(cr_train)\n",
    "#y_train = loadY(cr_train)\n",
    "\n",
    "#X_test = loadX(cr_test)\n",
    "#y_test = loadY(cr_test)\n",
    "\n",
    "#r_train_ixs = pd.read_csv('r_train_ixs.csv')['Resample1'].to_numpy()\n",
    "\n",
    "#clean_data['txt'] = clean_data['txt'].astype('str')\n",
    "#all_ixs = set(clean_data.index)\n",
    "\n",
    "#train_ixs = set(r_train_ixs).intersection(all_ixs)\n",
    "\n",
    "#test_ixs = all_ixs - train_ixs\n",
    "\n",
    "#ordering important\n",
    "#train_ixs = list(train_ixs)\n",
    "#test_ixs = list(test_ixs)\n",
    "\n",
    "\n",
    "#X_train = clean_data['txt'][train_ixs].astype('str')\n",
    "#X_test = clean_data['txt'][test_ixs].astype('str')\n",
    "\n",
    "#y_train = clean_data['label'][train_ixs].astype('bool')\n",
    "#y_test = clean_data['label'][test_ixs].astype('bool')\n",
    "(X_train, X_test, y_train, y_test) =  train_test_split(\n",
    "    clean_data.txt, clean_data.label, \n",
    "                            test_size = .3, stratify = clean_data.label)"
   ]
  },
  {
   "cell_type": "code",
   "execution_count": 58,
   "metadata": {},
   "outputs": [
    {
     "name": "stdout",
     "output_type": "stream",
     "text": [
      "count                                                   905\n",
      "unique                                                  905\n",
      "top       preservation of facial nerve function repaired...\n",
      "freq                                                      1\n",
      "Name: txt, dtype: object\n",
      "\n",
      "\n",
      "count                                                   388\n",
      "unique                                                  388\n",
      "top       unilateral nipple eczema in children report of...\n",
      "freq                                                      1\n",
      "Name: txt, dtype: object\n"
     ]
    }
   ],
   "source": [
    "print(X_train.describe())\n",
    "print('\\n')\n",
    "print(X_test.describe())"
   ]
  },
  {
   "cell_type": "code",
   "execution_count": 59,
   "metadata": {},
   "outputs": [
    {
     "name": "stdout",
     "output_type": "stream",
     "text": [
      "count       905\n",
      "unique        2\n",
      "top       False\n",
      "freq        486\n",
      "Name: label, dtype: object\n",
      "\n",
      "\n",
      "count       388\n",
      "unique        2\n",
      "top       False\n",
      "freq        209\n",
      "Name: label, dtype: object\n"
     ]
    }
   ],
   "source": [
    "print(y_train.describe())\n",
    "print('\\n')\n",
    "print(y_test.describe())"
   ]
  },
  {
   "cell_type": "code",
   "execution_count": 60,
   "metadata": {},
   "outputs": [],
   "source": [
    "max_vocab = 20000\n",
    "tokenizer = keras.preprocessing.text.Tokenizer(num_words = max_vocab, filters = \"\")\n",
    "cr_data = R.read_r('cr_data.RDS')[None]\n",
    "tokenizer.fit_on_texts(cr_data['txt'])\n",
    "cr_seq = tokenizer.texts_to_sequences(cr_data['txt'])\n",
    "\n",
    "seq_train = tokenizer.texts_to_sequences(X_train)\n",
    "seq_test = tokenizer.texts_to_sequences(X_test)"
   ]
  },
  {
   "cell_type": "code",
   "execution_count": 61,
   "metadata": {},
   "outputs": [
    {
     "name": "stdout",
     "output_type": "stream",
     "text": [
      "Vocab Size: 14019\n"
     ]
    }
   ],
   "source": [
    "print('Vocab Size: ' + str(len(tokenizer.word_index)))"
   ]
  },
  {
   "cell_type": "code",
   "execution_count": 62,
   "metadata": {},
   "outputs": [],
   "source": [
    "maxlen = np.max([len(sent) for sent in cr_seq]) + 1"
   ]
  },
  {
   "cell_type": "code",
   "execution_count": 63,
   "metadata": {
    "scrolled": true
   },
   "outputs": [
    {
     "data": {
      "text/plain": [
       "572"
      ]
     },
     "execution_count": 63,
     "metadata": {},
     "output_type": "execute_result"
    }
   ],
   "source": [
    "maxlen"
   ]
  },
  {
   "cell_type": "code",
   "execution_count": 64,
   "metadata": {},
   "outputs": [],
   "source": [
    "X_train_pad = keras.preprocessing.sequence.pad_sequences(\n",
    "    seq_train, maxlen = maxlen)\n",
    "X_test_pad = keras.preprocessing.sequence.pad_sequences(\n",
    "    seq_test, maxlen = maxlen)\n",
    "\n",
    "#loadRDS = lambda f: R.read_r(f)[None].to_numpy()\n",
    "\n",
    "#X_train_pad = loadRDS('X_train.RDS')\n",
    "#X_test_pad = loadRDS('X_test.RDS')\n",
    "#y_train = loadRDS('y_train.RDS') == 1\n",
    "#y_test = loadRDS('y_test.RDS') == 1\n",
    "#X_train_pad = keras.preprocessing.sequence.pad_sequences(\n",
    "#    seq_train, maxlen=maxlen)\n",
    "#X_test_pad = keras.preprocessing.sequence.pad_sequences(\n",
    "#    seq_test, maxlen=maxlen)"
   ]
  },
  {
   "cell_type": "markdown",
   "metadata": {},
   "source": [
    "Shape of data tensor"
   ]
  },
  {
   "cell_type": "code",
   "execution_count": 65,
   "metadata": {},
   "outputs": [
    {
     "data": {
      "text/plain": [
       "(905, 572)"
      ]
     },
     "execution_count": 65,
     "metadata": {},
     "output_type": "execute_result"
    }
   ],
   "source": [
    "maxlen = X_train_pad.shape[1]\n",
    "X_train_pad.shape"
   ]
  },
  {
   "cell_type": "code",
   "execution_count": 66,
   "metadata": {},
   "outputs": [
    {
     "data": {
      "text/plain": [
       "array([False,  True])"
      ]
     },
     "execution_count": 66,
     "metadata": {},
     "output_type": "execute_result"
    }
   ],
   "source": [
    "np.unique(y_train)"
   ]
  },
  {
   "cell_type": "code",
   "execution_count": 67,
   "metadata": {},
   "outputs": [
    {
     "data": {
      "text/plain": [
       "array([False,  True])"
      ]
     },
     "execution_count": 67,
     "metadata": {},
     "output_type": "execute_result"
    }
   ],
   "source": [
    "np.unique(y_test)"
   ]
  },
  {
   "cell_type": "markdown",
   "metadata": {},
   "source": [
    "Comparable proportions"
   ]
  },
  {
   "cell_type": "code",
   "execution_count": 68,
   "metadata": {},
   "outputs": [
    {
     "data": {
      "text/plain": [
       "{0: 486, 1: 419}"
      ]
     },
     "execution_count": 68,
     "metadata": {},
     "output_type": "execute_result"
    }
   ],
   "source": [
    "{i:np.sum(y_train == i) for i in (0, 1)}"
   ]
  },
  {
   "cell_type": "code",
   "execution_count": 69,
   "metadata": {},
   "outputs": [
    {
     "data": {
      "text/plain": [
       "{0: 209, 1: 179}"
      ]
     },
     "execution_count": 69,
     "metadata": {},
     "output_type": "execute_result"
    }
   ],
   "source": [
    "{i:np.sum(y_test == i) for i in (0, 1)}"
   ]
  },
  {
   "cell_type": "markdown",
   "metadata": {},
   "source": [
    "## No Pre-training"
   ]
  },
  {
   "cell_type": "code",
   "execution_count": 70,
   "metadata": {},
   "outputs": [],
   "source": [
    "def buildCnn(EMBEDDING_DIM = 50,\n",
    "                      num_filters = 100,\n",
    "                      maxlen = 600,\n",
    "                      vocab_size = 10000,\n",
    "                      pre_trained = False,\n",
    "                      embedding_matrix = None,\n",
    "                      trainable_embed=True):\n",
    "    \n",
    "    hidden_dims = 128\n",
    "    filt_sz = (3, 4, 5)\n",
    "    \n",
    "    drop_rate = 0.2\n",
    "\n",
    "    inputs = keras.layers.Input(shape = [maxlen], name = \"input\")\n",
    "    if(not pre_trained):\n",
    "        embedding_lyr = p(inputs,\n",
    "                          keras.layers.Embedding(input_dim = vocab_size,\n",
    "                                                 output_dim = EMBEDDING_DIM,\n",
    "                                                 input_length = maxlen,\n",
    "                                                 name = \"embed\"),\n",
    "                          keras.layers.Dropout(drop_rate, name = \"drop1\")\n",
    "                         )\n",
    "    else:\n",
    "        embedding_lyr = p(inputs, \n",
    "                          keras.layers.Embedding(input_dim = vocab_size, \n",
    "                             output_dim = EMBEDDING_DIM, \n",
    "                             input_length = maxlen, \n",
    "                             trainable = trainable_embed, \n",
    "                             weights = embedding_matrix, \n",
    "                             name = \"embed\"),\n",
    "                          layer_dropout(drop_rate, name = \"drop1\")\n",
    "                         )\n",
    "    \n",
    "    # conv_ CNNs in parallel with different kernel sizes\n",
    "    conv_1 = p(embedding_lyr, \n",
    "               keras.layers.Convolution1D(\n",
    "                   num_filters, \n",
    "                   filt_sz[0], activation = \"relu\", name = \"conv1\"), \n",
    "               keras.layers.GlobalMaxPooling1D(name = \"maxp1_glob\")\n",
    "              )\n",
    "    \n",
    "    conv_2 = p(embedding_lyr, \n",
    "               keras.layers.Convolution1D(\n",
    "                   num_filters, \n",
    "                   filt_sz[1], activation = \"relu\", name = \"conv2\"), \n",
    "               keras.layers.GlobalMaxPooling1D(name = \"maxp2_glob\")\n",
    "              )\n",
    "    \n",
    "    conv_3 = p(embedding_lyr, \n",
    "               keras.layers.Convolution1D(\n",
    "                   num_filters, \n",
    "                   filt_sz[2], activation = \"relu\", name = \"conv3\"), \n",
    "               keras.layers.GlobalMaxPooling1D(name = \"maxp3_glob\")\n",
    "              )\n",
    "    \n",
    "    merged_tensor = p(\n",
    "        [conv_1, conv_2, conv_3],\n",
    "        keras.layers.Concatenate(axis=1, name = \"merged\")\n",
    "    )\n",
    "    \n",
    "    hidden = p(merged_tensor, \n",
    "             keras.layers.Dense(hidden_dims, \n",
    "                                activation = \"relu\", name = \"hidden\")\n",
    "            )\n",
    "    \n",
    "    dropout = p(hidden, \n",
    "              keras.layers.Dropout(drop_rate, name = \"drop2\"), \n",
    "              keras.layers.Activation(\"relu\", name = \"activ_solo\")\n",
    "             )\n",
    "    \n",
    "    output = p(dropout, \n",
    "               keras.layers.Dense(1, activation = \"sigmoid\", name = \"sigm\"))\n",
    "    \n",
    "    model = keras.models.Model(inputs = inputs, \n",
    "                             outputs = output)\n",
    "    \n",
    "    # Compile model\n",
    "    model.compile(\n",
    "        loss = \"binary_crossentropy\",\n",
    "        optimizer = \"adam\",\n",
    "        metrics = [\"accuracy\"]\n",
    "    )\n",
    "    \n",
    "    return(model)"
   ]
  },
  {
   "cell_type": "markdown",
   "metadata": {},
   "source": [
    "## Build Model"
   ]
  },
  {
   "cell_type": "code",
   "execution_count": 71,
   "metadata": {},
   "outputs": [
    {
     "name": "stdout",
     "output_type": "stream",
     "text": [
      "WARNING:tensorflow:From C:\\ProgramData\\Anaconda3\\lib\\site-packages\\tensorflow\\python\\framework\\op_def_library.py:263: colocate_with (from tensorflow.python.framework.ops) is deprecated and will be removed in a future version.\n",
      "Instructions for updating:\n",
      "Colocations handled automatically by placer.\n",
      "WARNING:tensorflow:From C:\\ProgramData\\Anaconda3\\lib\\site-packages\\keras\\backend\\tensorflow_backend.py:3445: calling dropout (from tensorflow.python.ops.nn_ops) with keep_prob is deprecated and will be removed in a future version.\n",
      "Instructions for updating:\n",
      "Please use `rate` instead of `keep_prob`. Rate should be set to `rate = 1 - keep_prob`.\n"
     ]
    }
   ],
   "source": [
    "model = buildCnn(EMBEDDING_DIM = 200, num_filters = 100, maxlen = maxlen, vocab_size = vocab_size)"
   ]
  },
  {
   "cell_type": "code",
   "execution_count": 72,
   "metadata": {},
   "outputs": [
    {
     "name": "stdout",
     "output_type": "stream",
     "text": [
      "__________________________________________________________________________________________________\n",
      "Layer (type)                    Output Shape         Param #     Connected to                     \n",
      "==================================================================================================\n",
      "input (InputLayer)              (None, 572)          0                                            \n",
      "__________________________________________________________________________________________________\n",
      "embed (Embedding)               (None, 572, 200)     2753400     input[0][0]                      \n",
      "__________________________________________________________________________________________________\n",
      "drop1 (Dropout)                 (None, 572, 200)     0           embed[0][0]                      \n",
      "__________________________________________________________________________________________________\n",
      "conv1 (Conv1D)                  (None, 570, 100)     60100       drop1[0][0]                      \n",
      "__________________________________________________________________________________________________\n",
      "conv2 (Conv1D)                  (None, 569, 100)     80100       drop1[0][0]                      \n",
      "__________________________________________________________________________________________________\n",
      "conv3 (Conv1D)                  (None, 568, 100)     100100      drop1[0][0]                      \n",
      "__________________________________________________________________________________________________\n",
      "maxp1_glob (GlobalMaxPooling1D) (None, 100)          0           conv1[0][0]                      \n",
      "__________________________________________________________________________________________________\n",
      "maxp2_glob (GlobalMaxPooling1D) (None, 100)          0           conv2[0][0]                      \n",
      "__________________________________________________________________________________________________\n",
      "maxp3_glob (GlobalMaxPooling1D) (None, 100)          0           conv3[0][0]                      \n",
      "__________________________________________________________________________________________________\n",
      "merged (Concatenate)            (None, 300)          0           maxp1_glob[0][0]                 \n",
      "                                                                 maxp2_glob[0][0]                 \n",
      "                                                                 maxp3_glob[0][0]                 \n",
      "__________________________________________________________________________________________________\n",
      "hidden (Dense)                  (None, 128)          38528       merged[0][0]                     \n",
      "__________________________________________________________________________________________________\n",
      "drop2 (Dropout)                 (None, 128)          0           hidden[0][0]                     \n",
      "__________________________________________________________________________________________________\n",
      "activ_solo (Activation)         (None, 128)          0           drop2[0][0]                      \n",
      "__________________________________________________________________________________________________\n",
      "sigm (Dense)                    (None, 1)            129         activ_solo[0][0]                 \n",
      "==================================================================================================\n",
      "Total params: 3,032,357\n",
      "Trainable params: 3,032,357\n",
      "Non-trainable params: 0\n",
      "__________________________________________________________________________________________________\n"
     ]
    }
   ],
   "source": [
    "model.summary()"
   ]
  },
  {
   "cell_type": "markdown",
   "metadata": {},
   "source": [
    "## Train"
   ]
  },
  {
   "cell_type": "code",
   "execution_count": 73,
   "metadata": {
    "scrolled": true
   },
   "outputs": [
    {
     "name": "stdout",
     "output_type": "stream",
     "text": [
      "WARNING:tensorflow:From C:\\ProgramData\\Anaconda3\\lib\\site-packages\\tensorflow\\python\\ops\\math_ops.py:3066: to_int32 (from tensorflow.python.ops.math_ops) is deprecated and will be removed in a future version.\n",
      "Instructions for updating:\n",
      "Use tf.cast instead.\n",
      "WARNING:tensorflow:From C:\\ProgramData\\Anaconda3\\lib\\site-packages\\tensorflow\\python\\ops\\math_grad.py:102: div (from tensorflow.python.ops.math_ops) is deprecated and will be removed in a future version.\n",
      "Instructions for updating:\n",
      "Deprecated in favor of operator or tf.math.divide.\n",
      "Train on 814 samples, validate on 91 samples\n",
      "Epoch 1/37\n",
      "814/814 [==============================] - 3s 3ms/step - loss: 0.6873 - acc: 0.5430 - val_loss: 0.6917 - val_acc: 0.4835\n",
      "Epoch 2/37\n",
      "814/814 [==============================] - 0s 307us/step - loss: 0.6670 - acc: 0.6167 - val_loss: 0.6441 - val_acc: 0.9121\n",
      "Epoch 3/37\n",
      "814/814 [==============================] - 0s 307us/step - loss: 0.5494 - acc: 0.9042 - val_loss: 0.4311 - val_acc: 0.9231\n",
      "Epoch 4/37\n",
      "814/814 [==============================] - 0s 300us/step - loss: 0.3011 - acc: 0.9201 - val_loss: 0.2228 - val_acc: 0.9341\n",
      "Epoch 5/37\n",
      "814/814 [==============================] - 0s 307us/step - loss: 0.1908 - acc: 0.9300 - val_loss: 0.1881 - val_acc: 0.9341\n",
      "Epoch 6/37\n",
      "814/814 [==============================] - 0s 308us/step - loss: 0.1495 - acc: 0.9459 - val_loss: 0.1630 - val_acc: 0.9341\n",
      "Epoch 7/37\n",
      "814/814 [==============================] - 0s 307us/step - loss: 0.1115 - acc: 0.9631 - val_loss: 0.1489 - val_acc: 0.9560\n",
      "Epoch 8/37\n",
      "814/814 [==============================] - 0s 307us/step - loss: 0.0849 - acc: 0.9717 - val_loss: 0.1453 - val_acc: 0.9560\n",
      "Epoch 9/37\n",
      "814/814 [==============================] - 0s 307us/step - loss: 0.0660 - acc: 0.9803 - val_loss: 0.1571 - val_acc: 0.9451\n",
      "Epoch 10/37\n",
      "814/814 [==============================] - 0s 308us/step - loss: 0.0398 - acc: 0.9951 - val_loss: 0.1441 - val_acc: 0.9451\n",
      "Epoch 11/37\n",
      "814/814 [==============================] - 0s 307us/step - loss: 0.0314 - acc: 0.9963 - val_loss: 0.1431 - val_acc: 0.9560\n",
      "Epoch 12/37\n",
      "814/814 [==============================] - 0s 307us/step - loss: 0.0194 - acc: 0.9988 - val_loss: 0.1455 - val_acc: 0.9451\n",
      "Epoch 13/37\n",
      "814/814 [==============================] - 0s 307us/step - loss: 0.0138 - acc: 0.9988 - val_loss: 0.1476 - val_acc: 0.9451\n",
      "Epoch 14/37\n",
      "814/814 [==============================] - 0s 309us/step - loss: 0.0089 - acc: 1.0000 - val_loss: 0.1487 - val_acc: 0.9451\n",
      "Epoch 15/37\n",
      "814/814 [==============================] - 0s 307us/step - loss: 0.0069 - acc: 1.0000 - val_loss: 0.1534 - val_acc: 0.9670\n",
      "Epoch 16/37\n",
      "814/814 [==============================] - 0s 308us/step - loss: 0.0055 - acc: 1.0000 - val_loss: 0.1575 - val_acc: 0.9560\n",
      "Epoch 17/37\n",
      "814/814 [==============================] - 0s 307us/step - loss: 0.0042 - acc: 1.0000 - val_loss: 0.1628 - val_acc: 0.9670\n",
      "Epoch 18/37\n",
      "814/814 [==============================] - 0s 309us/step - loss: 0.0034 - acc: 1.0000 - val_loss: 0.1644 - val_acc: 0.9560\n",
      "Epoch 19/37\n",
      "814/814 [==============================] - 0s 307us/step - loss: 0.0023 - acc: 1.0000 - val_loss: 0.1689 - val_acc: 0.9560\n",
      "Epoch 20/37\n",
      "814/814 [==============================] - 0s 326us/step - loss: 0.0021 - acc: 1.0000 - val_loss: 0.1734 - val_acc: 0.9560\n",
      "Epoch 21/37\n",
      "814/814 [==============================] - 0s 308us/step - loss: 0.0016 - acc: 1.0000 - val_loss: 0.1758 - val_acc: 0.9560\n",
      "Training time: 8.224127292633057\n"
     ]
    }
   ],
   "source": [
    "lr = .0004\n",
    "epochs = 37#int(.015/lr)\n",
    "batch_size = 32\n",
    "\n",
    "keras.backend.set_value(model.optimizer.lr, lr)\n",
    "\n",
    "early_stopping = keras.callbacks.EarlyStopping(monitor = 'val_loss', \n",
    "                                               patience = 10)\n",
    "\n",
    "import time\n",
    "start_time = time.time()\n",
    "\n",
    "history = model.fit(\n",
    "    X_train_pad, y_train,\n",
    "    batch_size = batch_size,\n",
    "    epochs = epochs,\n",
    "    callbacks = [early_stopping],\n",
    "    validation_split = 0.1\n",
    "  )\n",
    "\n",
    "print(\"Training time: %s\" % (time.time() - start_time))"
   ]
  },
  {
   "cell_type": "code",
   "execution_count": 74,
   "metadata": {
    "scrolled": true
   },
   "outputs": [
    {
     "data": {
      "text/plain": [
       "keras.callbacks.History"
      ]
     },
     "execution_count": 74,
     "metadata": {},
     "output_type": "execute_result"
    }
   ],
   "source": [
    "type(history)"
   ]
  },
  {
   "cell_type": "code",
   "execution_count": 75,
   "metadata": {},
   "outputs": [
    {
     "data": {
      "text/plain": [
       "dict"
      ]
     },
     "execution_count": 75,
     "metadata": {},
     "output_type": "execute_result"
    }
   ],
   "source": [
    "type(history.history)"
   ]
  },
  {
   "cell_type": "code",
   "execution_count": 76,
   "metadata": {},
   "outputs": [
    {
     "data": {
      "text/plain": [
       "dict_keys(['val_loss', 'val_acc', 'loss', 'acc'])"
      ]
     },
     "execution_count": 76,
     "metadata": {},
     "output_type": "execute_result"
    }
   ],
   "source": [
    "history.history.keys()"
   ]
  },
  {
   "cell_type": "code",
   "execution_count": 77,
   "metadata": {},
   "outputs": [],
   "source": [
    "from plot_keras_history import plot_history"
   ]
  },
  {
   "cell_type": "code",
   "execution_count": 78,
   "metadata": {},
   "outputs": [
    {
     "data": {
      "image/png": "[encoded data removed]",
      "text/plain": [
       "<Figure size 720x360 with 2 Axes>"
      ]
     },
     "metadata": {
      "needs_background": "light"
     },
     "output_type": "display_data"
    }
   ],
   "source": [
    "plot_history(history.history)"
   ]
  },
  {
   "cell_type": "markdown",
   "metadata": {},
   "source": [
    "## Evaluate"
   ]
  },
  {
   "cell_type": "code",
   "execution_count": 79,
   "metadata": {},
   "outputs": [
    {
     "data": {
      "text/plain": [
       "int"
      ]
     },
     "execution_count": 79,
     "metadata": {},
     "output_type": "execute_result"
    }
   ],
   "source": [
    "type(batch_size)"
   ]
  },
  {
   "cell_type": "code",
   "execution_count": 80,
   "metadata": {},
   "outputs": [
    {
     "name": "stdout",
     "output_type": "stream",
     "text": [
      "388/388 [==============================] - 0s 201us/step\n",
      "Test accuracy 0.9587628865979382\n",
      "\n"
     ]
    }
   ],
   "source": [
    "scores = model.evaluate(X_test_pad, y_test, batch_size)\n",
    "\n",
    "print('Test accuracy ' + str(scores[1]) + \"\\n\")\n",
    "# AUC\n",
    "cnn_prob = model.predict(X_test_pad)"
   ]
  },
  {
   "cell_type": "markdown",
   "metadata": {},
   "source": [
    "Confusion Matrix"
   ]
  },
  {
   "cell_type": "code",
   "execution_count": 81,
   "metadata": {},
   "outputs": [
    {
     "name": "stdout",
     "output_type": "stream",
     "text": [
      "Accuracy: 0.9587628865979382\n",
      "Precision: 0.9553072625698324\n",
      "Recall: 0.9553072625698324\n",
      "F1: 0.9553072625698324\n"
     ]
    }
   ],
   "source": [
    "pred_bin = cnn_prob > .5\n",
    "\n",
    "# metrics\n",
    "cm = mets.confusion_matrix(y_test, pred_bin)\n",
    "\n",
    "def printMet(met_name, fn):\n",
    "    print(met_name + \": \" + str(fn(y_test, pred_bin)))\n",
    "\n",
    "printMet(\"Accuracy\", mets.accuracy_score)\n",
    "printMet(\"Precision\", mets.precision_score)\n",
    "printMet(\"Recall\", mets.recall_score)\n",
    "printMet(\"F1\", mets.f1_score)"
   ]
  },
  {
   "cell_type": "code",
   "execution_count": 82,
   "metadata": {},
   "outputs": [
    {
     "data": {
      "text/plain": [
       "array([[201,   8],\n",
       "       [  8, 171]], dtype=int64)"
      ]
     },
     "execution_count": 82,
     "metadata": {},
     "output_type": "execute_result"
    }
   ],
   "source": [
    "cm"
   ]
  },
  {
   "cell_type": "code",
   "execution_count": 83,
   "metadata": {
    "scrolled": true
   },
   "outputs": [
    {
     "data": {
      "text/plain": [
       "<sklearn.metrics._plot.precision_recall_curve.PrecisionRecallDisplay at 0x2a82c0c9d68>"
      ]
     },
     "execution_count": 83,
     "metadata": {},
     "output_type": "execute_result"
    },
    {
     "data": {
      "image/png": "[encoded data removed]",
      "text/plain": [
       "<Figure size 432x288 with 1 Axes>"
      ]
     },
     "metadata": {
      "needs_background": "light"
     },
     "output_type": "display_data"
    }
   ],
   "source": [
    "#Scikit-learn expects certain attributes for PR and AUROC plot\n",
    "model._estimator_type = \"classifier\"\n",
    "model.predict_proba = lambda X: np.concatenate( \n",
    "    (model.predict(X), 1-model.predict(X))\n",
    "    , axis = 1)\n",
    "model.classes_ = [1, 0]\n",
    "\n",
    "mets.plot_precision_recall_curve(model, X_test_pad, y_test)"
   ]
  },
  {
   "cell_type": "code",
   "execution_count": 84,
   "metadata": {},
   "outputs": [
    {
     "data": {
      "text/plain": [
       "<sklearn.metrics._plot.roc_curve.RocCurveDisplay at 0x2a82c052da0>"
      ]
     },
     "execution_count": 84,
     "metadata": {},
     "output_type": "execute_result"
    },
    {
     "data": {
      "image/png": "[encoded data removed]",
      "text/plain": [
       "<Figure size 432x288 with 1 Axes>"
      ]
     },
     "metadata": {
      "needs_background": "light"
     },
     "output_type": "display_data"
    }
   ],
   "source": [
    "mets.plot_roc_curve(model, X_test_pad, y_test)"
   ]
  },
  {
   "cell_type": "code",
   "execution_count": null,
   "metadata": {},
   "outputs": [],
   "source": []
  }
 ],
 "metadata": {
  "kernelspec": {
   "display_name": "Python 3",
   "language": "python",
   "name": "python3"
  },
  "language_info": {
   "codemirror_mode": {
    "name": "ipython",
    "version": 3
   },
   "file_extension": ".py",
   "mimetype": "text/x-python",
   "name": "python",
   "nbconvert_exporter": "python",
   "pygments_lexer": "ipython3",
   "version": "3.7.3"
  }
 },
 "nbformat": 4,
 "nbformat_minor": 2
}
